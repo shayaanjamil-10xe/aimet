{
 "cells": [
  {
   "cell_type": "code",
   "execution_count": 3,
   "metadata": {
    "id": "UHkf809bZa5v"
   },
   "outputs": [],
   "source": [
    "import cv2\n",
    "import os\n",
    "from torchvision import datasets, transforms\n",
    "from torch.utils.data import DataLoader\n",
    "import torch\n",
    "import json\n",
    "from mmcv.transforms import Compose\n",
    "import numpy as np\n",
    "from mmdet.utils import get_test_pipeline_cfg\n",
    "\n",
    "def read_json(json_path):\n",
    "    with open(json_path) as f:\n",
    "        data = json.load(f)\n",
    "    return data\n",
    "\n",
    "def preprocess(test_pipeline, image):\n",
    "    if isinstance(image, np.ndarray):\n",
    "        # Calling this method across libraries will result\n",
    "        # in module unregistered error if not prefixed with mmdet.\n",
    "        test_pipeline[0].type = 'mmdet.LoadImageFromNDArray'\n",
    "    test_pipeline = Compose(test_pipeline)\n",
    "    return test_pipeline(dict(img=image))\n"
   ]
  },
  {
   "cell_type": "markdown",
   "metadata": {
    "id": "uYLkqAC8Wb9E"
   },
   "source": [
    "## 2. Load a pretrained FP32 model\n",
    "For this example, we are going to load a pretrained resnet18 model from torchvision. Similarly, you can load any pretrained PyTorch model instead."
   ]
  },
  {
   "cell_type": "code",
   "execution_count": 4,
   "metadata": {
    "colab": {
     "base_uri": "https://localhost:8080/"
    },
    "id": "jlBeln_8tUAL",
    "outputId": "e33b1854-b0b8-44fd-8faa-ad950bab7867"
   },
   "outputs": [
    {
     "name": "stdout",
     "output_type": "stream",
     "text": [
      "[2024-08-12 08:58:04,829] [INFO] [real_accelerator.py:203:get_accelerator] Setting ds_accelerator to cuda (auto detect)\n",
      "\u001b[93m [WARNING] \u001b[0m async_io requires the dev libaio .so object and headers but these were not found.\n",
      "\u001b[93m [WARNING] \u001b[0m async_io: please install the libaio-dev package with apt\n",
      "\u001b[93m [WARNING] \u001b[0m If libaio is already installed (perhaps from source), try setting the CFLAGS and LDFLAGS environment variables to where it can be found.\n",
      "\u001b[93m [WARNING] \u001b[0m Please specify the CUTLASS repo directory as environment variable $CUTLASS_PATH\n"
     ]
    },
    {
     "name": "stderr",
     "output_type": "stream",
     "text": [
      "/bin/ld: cannot find -laio: No such file or directory\n",
      "collect2: error: ld returned 1 exit status\n"
     ]
    },
    {
     "name": "stdout",
     "output_type": "stream",
     "text": [
      "\u001b[93m [WARNING] \u001b[0m NVIDIA Inference is only supported on Ampere and newer architectures\n",
      "\u001b[93m [WARNING] \u001b[0m sparse_attn requires a torch version >= 1.5 and < 2.0 but detected 2.2\n",
      "\u001b[93m [WARNING] \u001b[0m using untested triton version (2.2.0), only 1.0.0 is known to be compatible\n",
      "Loads checkpoint by local backend from path: /teamspace/studios/this_studio/mmdetection/rtmdet_tiny_8xb32-300e_coco_20220902_112414-78e30dcc.pth\n",
      "The model and loaded state dict do not match exactly\n",
      "\n",
      "unexpected key in source state_dict: data_preprocessor.mean, data_preprocessor.std\n",
      "\n",
      "08/12 08:58:06 - mmengine - \u001b[5m\u001b[4m\u001b[33mWARNING\u001b[0m - Failed to search registry with scope \"mmdet\" in the \"function\" registry tree. As a workaround, the current \"function\" registry in \"mmengine\" is used to build instance. This may cause unexpected failure when running the built modules. Please check whether \"mmdet\" is a correct scope, or whether the registry is initialized.\n"
     ]
    },
    {
     "name": "stderr",
     "output_type": "stream",
     "text": [
      "/usr/local/lib/python3.10/dist-packages/mmengine/visualization/visualizer.py:196: UserWarning: Failed to add <class 'mmengine.visualization.vis_backend.LocalVisBackend'>, please provide the `save_dir` argument.\n",
      "  warnings.warn(f'Failed to add {vis_backend.__class__}, '\n"
     ]
    },
    {
     "data": {
      "text/plain": [
       "device(type='cuda', index=0)"
      ]
     },
     "execution_count": 4,
     "metadata": {},
     "output_type": "execute_result"
    }
   ],
   "source": [
    "# %cd /content/drive/MyDrive/Aimet-torch/mmdetection-3.3.0/\n",
    "import torch\n",
    "from mmdet.apis import DetInferencer\n",
    "\n",
    "transform = transforms.Compose([\n",
    "    transforms.ToTensor(),\n",
    "    transforms.Resize([640, 640]),  # Resize\n",
    "])\n",
    "\n",
    "DEVICE = torch.device('cuda:0' if torch.cuda.is_available() else 'cpu')\n",
    "CONFIG_PATH = '/teamspace/studios/this_studio/mmdetection/rtmdet_tiny_8xb32-300e_coco.py'\n",
    "WEIGHTS_PATH = '/teamspace/studios/this_studio/mmdetection/rtmdet_tiny_8xb32-300e_coco_20220902_112414-78e30dcc.pth'\n",
    "\n",
    "ROOT_DATASET_DIR = '/teamspace/studios/this_studio/COCO'\n",
    "IMAGES_DIR = os.path.join(ROOT_DATASET_DIR, 'images')\n",
    "ANNOTATIONS_JSON_PATH = os.path.join(ROOT_DATASET_DIR, 'annotations/instances_val2017.json')\n",
    "# ANNOTATIONS_JSON_PATH = \"/home/shayaan/Desktop/aimet/my_mmdet/temp.json\"\n",
    "\n",
    "model = DetInferencer(model=CONFIG_PATH, weights=WEIGHTS_PATH, device=DEVICE)\n",
    "\n",
    "DEVICE"
   ]
  },
  {
   "cell_type": "code",
   "execution_count": 5,
   "metadata": {},
   "outputs": [
    {
     "name": "stdout",
     "output_type": "stream",
     "text": [
      "loading annotations into memory...\n"
     ]
    },
    {
     "name": "stdout",
     "output_type": "stream",
     "text": [
      "Done (t=0.60s)\n",
      "creating index...\n",
      "index created!\n"
     ]
    }
   ],
   "source": [
    "from mmcv.transforms import Compose\n",
    "test_evaluator = model.cfg.test_evaluator\n",
    "test_evaluator.type = 'mmdet.evaluation.CocoMetric' \n",
    "test_evaluator.dataset_meta = model.model.dataset_meta\n",
    "test_evaluator.ann_file = ANNOTATIONS_JSON_PATH\n",
    "test_evaluator = Compose(test_evaluator)"
   ]
  },
  {
   "cell_type": "code",
   "execution_count": 6,
   "metadata": {},
   "outputs": [],
   "source": [
    "from mmdet.models.utils import samplelist_boxtype2tensor\n",
    "from mmengine.registry import MODELS\n",
    "\n",
    "collate_preprocessor = model.preprocess\n",
    "predict_by_feat = model.model.bbox_head.predict_by_feat\n",
    "rescale = True\n",
    "\n",
    "preprocessor = MODELS.build(model.cfg.model.data_preprocessor)\n",
    "def add_pred_to_datasample(data_samples, results_list):\n",
    "    for data_sample, pred_instances in zip(data_samples, results_list):\n",
    "        data_sample.pred_instances = pred_instances\n",
    "    samplelist_boxtype2tensor(data_samples)\n",
    "    return data_samples"
   ]
  },
  {
   "cell_type": "code",
   "execution_count": 7,
   "metadata": {},
   "outputs": [],
   "source": [
    "import random\n",
    "from typing import Optional\n",
    "from tqdm import tqdm\n",
    "import torch\n",
    "from torch.utils.data import Dataset, DataLoader, Subset\n",
    "from mmengine.structures import InstanceData\n",
    "\n",
    "EVAL_DATASET_SIZE = 5000\n",
    "CALIBRATION_DATASET_SIZE = 2000\n",
    "BATCH_SIZE = 40\n",
    "\n",
    "class CustomImageDataset(torch.utils.data.Dataset):\n",
    "    def __init__(self, images_dir, annotations_json_path, transform=None):\n",
    "        self.transform = transform\n",
    "        self.images_dir = images_dir\n",
    "        self.annotations_json = read_json(annotations_json_path)\n",
    "\n",
    "\n",
    "    def __len__(self):\n",
    "        return len(self.annotations_json['images'])\n",
    "\n",
    "    def __getitem__(self, idx):\n",
    "        image_dict = self.annotations_json['images'][idx]\n",
    "        image_path = os.path.join(self.images_dir, image_dict['file_name'])\n",
    "        image_id = image_dict['id']\n",
    "\n",
    "\n",
    "        pre_processed = collate_preprocessor(inputs=[image_path], batch_size=BATCH_SIZE)\n",
    "        _, data = list(pre_processed)[0]\n",
    "        data = preprocessor(data, False)['inputs'][0]\n",
    "\n",
    "        return image_id, image_path, data\n",
    "\n",
    "evalDataset = CustomImageDataset(images_dir=IMAGES_DIR, annotations_json_path=ANNOTATIONS_JSON_PATH, transform=transform)"
   ]
  },
  {
   "cell_type": "code",
   "execution_count": 8,
   "metadata": {},
   "outputs": [],
   "source": [
    "def eval_callback(model: torch.nn.Module, num_samples: Optional[int] = None) -> float:    \n",
    "    data_loader = DataLoader(evalDataset, batch_size=BATCH_SIZE)\n",
    "\n",
    "    new_preds = []\n",
    "    for image_id, image_path, _ in tqdm(data_loader):\n",
    "        pre_processed = collate_preprocessor(inputs=image_path, batch_size=BATCH_SIZE)\n",
    "        _, data = list(pre_processed)[0]\n",
    "        data = preprocessor(data, False)\n",
    "\n",
    "        preds = model.model._forward(data['inputs'].cuda())\n",
    "        batch_img_metas = [\n",
    "        data_samples.metainfo for data_samples in data['data_samples']\n",
    "        ]\n",
    "        preds = predict_by_feat(*preds, batch_img_metas=batch_img_metas, rescale=True)\n",
    "        preds = add_pred_to_datasample(data['data_samples'], preds)\n",
    "        \n",
    "        for img_id, pred in zip(image_id, preds):\n",
    "            pred = pred.pred_instances\n",
    "            new_pred = InstanceData(metainfo={\"img_id\": int(img_id)})\n",
    "            new_pred.bboxes = [np.array(p) for p in pred['bboxes'].cpu()]\n",
    "            new_pred.labels = pred['labels'].cpu()\n",
    "            new_pred.scores = pred['scores'].cpu()\n",
    "            new_preds.append(new_pred)\n",
    "    \n",
    "    eval_results = test_evaluator(new_preds)\n",
    "    bbox_map = eval_results['bbox_mAP']\n",
    "    with open(\"/teamspace/studios/this_studio/mmdetection/ptq_stats/eval_acc_fp32.json\", \"w\") as f:\n",
    "        json.dump(eval_results, f, indent=4)\n",
    "    return bbox_map"
   ]
  },
  {
   "cell_type": "code",
   "execution_count": 9,
   "metadata": {},
   "outputs": [
    {
     "name": "stdout",
     "output_type": "stream",
     "text": [
      "2024-08-12 08:58:10,878 - root - INFO - AIMET\n",
      "2024-08-12 08:58:16,789 - ModelPreparer - INFO - Functional         : Adding new module for node: {backbone.stem.0.bn.module_batch_norm} \n",
      "2024-08-12 08:58:16,790 - ModelPreparer - INFO - Functional         : Adding new module for node: {backbone.stem.1.bn.module_batch_norm_1} \n",
      "2024-08-12 08:58:16,791 - ModelPreparer - INFO - Functional         : Adding new module for node: {backbone.stem.2.bn.module_batch_norm_2} \n",
      "2024-08-12 08:58:16,792 - ModelPreparer - INFO - Functional         : Adding new module for node: {backbone.stage1.0.bn.module_batch_norm_3} \n",
      "2024-08-12 08:58:16,793 - ModelPreparer - INFO - Functional         : Adding new module for node: {backbone.stage1.1.short_conv.bn.module_batch_norm_4} \n",
      "2024-08-12 08:58:16,794 - ModelPreparer - INFO - Functional         : Adding new module for node: {backbone.stage1.1.main_conv.bn.module_batch_norm_5} \n",
      "2024-08-12 08:58:16,795 - ModelPreparer - INFO - Functional         : Adding new module for node: {backbone.stage1.1.blocks.0.conv1.bn.module_batch_norm_6} \n",
      "2024-08-12 08:58:16,795 - ModelPreparer - INFO - Functional         : Adding new module for node: {backbone.stage1.1.blocks.0.conv2.depthwise_conv.bn.module_batch_norm_7} \n",
      "2024-08-12 08:58:16,796 - ModelPreparer - INFO - Functional         : Adding new module for node: {backbone.stage1.1.blocks.0.conv2.pointwise_conv.bn.module_batch_norm_8} \n",
      "2024-08-12 08:58:16,797 - ModelPreparer - INFO - Functional         : Adding new module for node: {backbone.stage1.1.blocks.0.module_add} \n",
      "2024-08-12 08:58:16,798 - ModelPreparer - INFO - Functional         : Adding new module for node: {backbone.stage1.1.module_cat} \n",
      "2024-08-12 08:58:16,798 - ModelPreparer - INFO - Functional         : Adding new module for node: {backbone.stage1.1.attention.module_mul} \n",
      "2024-08-12 08:58:16,799 - ModelPreparer - INFO - Functional         : Adding new module for node: {backbone.stage1.1.final_conv.bn.module_batch_norm_9} \n",
      "2024-08-12 08:58:16,800 - ModelPreparer - INFO - Functional         : Adding new module for node: {backbone.stage2.0.bn.module_batch_norm_10} \n",
      "2024-08-12 08:58:16,801 - ModelPreparer - INFO - Functional         : Adding new module for node: {backbone.stage2.1.short_conv.bn.module_batch_norm_11} \n",
      "2024-08-12 08:58:16,802 - ModelPreparer - INFO - Functional         : Adding new module for node: {backbone.stage2.1.main_conv.bn.module_batch_norm_12} \n",
      "2024-08-12 08:58:16,802 - ModelPreparer - INFO - Functional         : Adding new module for node: {backbone.stage2.1.blocks.0.conv1.bn.module_batch_norm_13} \n",
      "2024-08-12 08:58:16,803 - ModelPreparer - INFO - Functional         : Adding new module for node: {backbone.stage2.1.blocks.0.conv2.depthwise_conv.bn.module_batch_norm_14} \n",
      "2024-08-12 08:58:16,804 - ModelPreparer - INFO - Functional         : Adding new module for node: {backbone.stage2.1.blocks.0.conv2.pointwise_conv.bn.module_batch_norm_15} \n",
      "2024-08-12 08:58:16,804 - ModelPreparer - INFO - Functional         : Adding new module for node: {backbone.stage2.1.blocks.0.module_add_1} \n",
      "2024-08-12 08:58:16,805 - ModelPreparer - INFO - Functional         : Adding new module for node: {backbone.stage2.1.module_cat_1} \n",
      "2024-08-12 08:58:16,806 - ModelPreparer - INFO - Functional         : Adding new module for node: {backbone.stage2.1.attention.module_mul_1} \n",
      "2024-08-12 08:58:16,806 - ModelPreparer - INFO - Functional         : Adding new module for node: {backbone.stage2.1.final_conv.bn.module_batch_norm_16} \n",
      "2024-08-12 08:58:16,807 - ModelPreparer - INFO - Functional         : Adding new module for node: {backbone.stage3.0.bn.module_batch_norm_17} \n",
      "2024-08-12 08:58:16,808 - ModelPreparer - INFO - Functional         : Adding new module for node: {backbone.stage3.1.short_conv.bn.module_batch_norm_18} \n",
      "2024-08-12 08:58:16,808 - ModelPreparer - INFO - Functional         : Adding new module for node: {backbone.stage3.1.main_conv.bn.module_batch_norm_19} \n",
      "2024-08-12 08:58:16,809 - ModelPreparer - INFO - Functional         : Adding new module for node: {backbone.stage3.1.blocks.0.conv1.bn.module_batch_norm_20} \n",
      "2024-08-12 08:58:16,809 - ModelPreparer - INFO - Functional         : Adding new module for node: {backbone.stage3.1.blocks.0.conv2.depthwise_conv.bn.module_batch_norm_21} \n",
      "2024-08-12 08:58:16,810 - ModelPreparer - INFO - Functional         : Adding new module for node: {backbone.stage3.1.blocks.0.conv2.pointwise_conv.bn.module_batch_norm_22} \n",
      "2024-08-12 08:58:16,811 - ModelPreparer - INFO - Functional         : Adding new module for node: {backbone.stage3.1.blocks.0.module_add_2} \n",
      "2024-08-12 08:58:16,811 - ModelPreparer - INFO - Functional         : Adding new module for node: {backbone.stage3.1.module_cat_2} \n",
      "2024-08-12 08:58:16,812 - ModelPreparer - INFO - Functional         : Adding new module for node: {backbone.stage3.1.attention.module_mul_2} \n",
      "2024-08-12 08:58:16,813 - ModelPreparer - INFO - Functional         : Adding new module for node: {backbone.stage3.1.final_conv.bn.module_batch_norm_23} \n",
      "2024-08-12 08:58:16,813 - ModelPreparer - INFO - Functional         : Adding new module for node: {backbone.stage4.0.bn.module_batch_norm_24} \n",
      "2024-08-12 08:58:16,814 - ModelPreparer - INFO - Functional         : Adding new module for node: {backbone.stage4.1.conv1.bn.module_batch_norm_25} \n",
      "2024-08-12 08:58:16,815 - ModelPreparer - INFO - Functional         : Adding new module for node: {backbone.stage4.1.module_cat_3} \n",
      "2024-08-12 08:58:16,816 - ModelPreparer - INFO - Functional         : Adding new module for node: {backbone.stage4.1.conv2.bn.module_batch_norm_26} \n",
      "2024-08-12 08:58:16,816 - ModelPreparer - INFO - Functional         : Adding new module for node: {backbone.stage4.2.short_conv.bn.module_batch_norm_27} \n",
      "2024-08-12 08:58:16,817 - ModelPreparer - INFO - Functional         : Adding new module for node: {backbone.stage4.2.main_conv.bn.module_batch_norm_28} \n",
      "2024-08-12 08:58:16,818 - ModelPreparer - INFO - Functional         : Adding new module for node: {backbone.stage4.2.blocks.0.conv1.bn.module_batch_norm_29} \n",
      "2024-08-12 08:58:16,819 - ModelPreparer - INFO - Functional         : Adding new module for node: {backbone.stage4.2.blocks.0.conv2.depthwise_conv.bn.module_batch_norm_30} \n",
      "2024-08-12 08:58:16,819 - ModelPreparer - INFO - Functional         : Adding new module for node: {backbone.stage4.2.blocks.0.conv2.pointwise_conv.bn.module_batch_norm_31} \n",
      "2024-08-12 08:58:16,820 - ModelPreparer - INFO - Functional         : Adding new module for node: {backbone.stage4.2.module_cat_4} \n",
      "2024-08-12 08:58:16,821 - ModelPreparer - INFO - Functional         : Adding new module for node: {backbone.stage4.2.attention.module_mul_3} \n",
      "2024-08-12 08:58:16,822 - ModelPreparer - INFO - Functional         : Adding new module for node: {backbone.stage4.2.final_conv.bn.module_batch_norm_32} \n",
      "2024-08-12 08:58:16,823 - ModelPreparer - INFO - Functional         : Adding new module for node: {neck.reduce_layers.0.bn.module_batch_norm_33} \n",
      "2024-08-12 08:58:16,823 - ModelPreparer - INFO - Functional         : Adding new module for node: {neck.module_cat_5} \n",
      "2024-08-12 08:58:16,824 - ModelPreparer - INFO - Functional         : Adding new module for node: {neck.top_down_blocks.0.short_conv.bn.module_batch_norm_34} \n",
      "2024-08-12 08:58:16,825 - ModelPreparer - INFO - Functional         : Adding new module for node: {neck.top_down_blocks.0.main_conv.bn.module_batch_norm_35} \n",
      "2024-08-12 08:58:16,826 - ModelPreparer - INFO - Functional         : Adding new module for node: {neck.top_down_blocks.0.blocks.0.conv1.bn.module_batch_norm_36} \n",
      "2024-08-12 08:58:16,826 - ModelPreparer - INFO - Functional         : Adding new module for node: {neck.top_down_blocks.0.blocks.0.conv2.depthwise_conv.bn.module_batch_norm_37} \n",
      "2024-08-12 08:58:16,827 - ModelPreparer - INFO - Functional         : Adding new module for node: {neck.top_down_blocks.0.blocks.0.conv2.pointwise_conv.bn.module_batch_norm_38} \n",
      "2024-08-12 08:58:16,828 - ModelPreparer - INFO - Functional         : Adding new module for node: {neck.top_down_blocks.0.module_cat_6} \n",
      "2024-08-12 08:58:16,829 - ModelPreparer - INFO - Functional         : Adding new module for node: {neck.top_down_blocks.0.final_conv.bn.module_batch_norm_39} \n",
      "2024-08-12 08:58:16,830 - ModelPreparer - INFO - Functional         : Adding new module for node: {neck.reduce_layers.1.bn.module_batch_norm_40} \n",
      "2024-08-12 08:58:16,830 - ModelPreparer - INFO - Reused/Duplicate   : Adding new module for node: {neck.module_upsample_1} \n",
      "2024-08-12 08:58:16,831 - ModelPreparer - INFO - Functional         : Adding new module for node: {neck.module_cat_7} \n",
      "2024-08-12 08:58:16,832 - ModelPreparer - INFO - Functional         : Adding new module for node: {neck.top_down_blocks.1.short_conv.bn.module_batch_norm_41} \n",
      "2024-08-12 08:58:16,832 - ModelPreparer - INFO - Functional         : Adding new module for node: {neck.top_down_blocks.1.main_conv.bn.module_batch_norm_42} \n",
      "2024-08-12 08:58:16,833 - ModelPreparer - INFO - Functional         : Adding new module for node: {neck.top_down_blocks.1.blocks.0.conv1.bn.module_batch_norm_43} \n",
      "2024-08-12 08:58:16,834 - ModelPreparer - INFO - Functional         : Adding new module for node: {neck.top_down_blocks.1.blocks.0.conv2.depthwise_conv.bn.module_batch_norm_44} \n",
      "2024-08-12 08:58:16,834 - ModelPreparer - INFO - Functional         : Adding new module for node: {neck.top_down_blocks.1.blocks.0.conv2.pointwise_conv.bn.module_batch_norm_45} \n",
      "2024-08-12 08:58:16,835 - ModelPreparer - INFO - Functional         : Adding new module for node: {neck.top_down_blocks.1.module_cat_8} \n",
      "2024-08-12 08:58:16,835 - ModelPreparer - INFO - Functional         : Adding new module for node: {neck.top_down_blocks.1.final_conv.bn.module_batch_norm_46} \n",
      "2024-08-12 08:58:16,836 - ModelPreparer - INFO - Functional         : Adding new module for node: {neck.downsamples.0.bn.module_batch_norm_47} \n",
      "2024-08-12 08:58:16,837 - ModelPreparer - INFO - Functional         : Adding new module for node: {neck.module_cat_9} \n",
      "2024-08-12 08:58:16,837 - ModelPreparer - INFO - Functional         : Adding new module for node: {neck.bottom_up_blocks.0.short_conv.bn.module_batch_norm_48} \n",
      "2024-08-12 08:58:16,838 - ModelPreparer - INFO - Functional         : Adding new module for node: {neck.bottom_up_blocks.0.main_conv.bn.module_batch_norm_49} \n",
      "2024-08-12 08:58:16,839 - ModelPreparer - INFO - Functional         : Adding new module for node: {neck.bottom_up_blocks.0.blocks.0.conv1.bn.module_batch_norm_50} \n",
      "2024-08-12 08:58:16,840 - ModelPreparer - INFO - Functional         : Adding new module for node: {neck.bottom_up_blocks.0.blocks.0.conv2.depthwise_conv.bn.module_batch_norm_51} \n",
      "2024-08-12 08:58:16,840 - ModelPreparer - INFO - Functional         : Adding new module for node: {neck.bottom_up_blocks.0.blocks.0.conv2.pointwise_conv.bn.module_batch_norm_52} \n",
      "2024-08-12 08:58:16,841 - ModelPreparer - INFO - Functional         : Adding new module for node: {neck.bottom_up_blocks.0.module_cat_10} \n",
      "2024-08-12 08:58:16,842 - ModelPreparer - INFO - Functional         : Adding new module for node: {neck.bottom_up_blocks.0.final_conv.bn.module_batch_norm_53} \n",
      "2024-08-12 08:58:16,842 - ModelPreparer - INFO - Functional         : Adding new module for node: {neck.downsamples.1.bn.module_batch_norm_54} \n",
      "2024-08-12 08:58:16,843 - ModelPreparer - INFO - Functional         : Adding new module for node: {neck.module_cat_11} \n",
      "2024-08-12 08:58:16,844 - ModelPreparer - INFO - Functional         : Adding new module for node: {neck.bottom_up_blocks.1.short_conv.bn.module_batch_norm_55} \n",
      "2024-08-12 08:58:16,844 - ModelPreparer - INFO - Functional         : Adding new module for node: {neck.bottom_up_blocks.1.main_conv.bn.module_batch_norm_56} \n",
      "2024-08-12 08:58:16,845 - ModelPreparer - INFO - Functional         : Adding new module for node: {neck.bottom_up_blocks.1.blocks.0.conv1.bn.module_batch_norm_57} \n",
      "2024-08-12 08:58:16,846 - ModelPreparer - INFO - Functional         : Adding new module for node: {neck.bottom_up_blocks.1.blocks.0.conv2.depthwise_conv.bn.module_batch_norm_58} \n",
      "2024-08-12 08:58:16,846 - ModelPreparer - INFO - Functional         : Adding new module for node: {neck.bottom_up_blocks.1.blocks.0.conv2.pointwise_conv.bn.module_batch_norm_59} \n",
      "2024-08-12 08:58:16,847 - ModelPreparer - INFO - Functional         : Adding new module for node: {neck.bottom_up_blocks.1.module_cat_12} \n",
      "2024-08-12 08:58:16,847 - ModelPreparer - INFO - Functional         : Adding new module for node: {neck.bottom_up_blocks.1.final_conv.bn.module_batch_norm_60} \n",
      "2024-08-12 08:58:16,848 - ModelPreparer - INFO - Functional         : Adding new module for node: {neck.out_convs.0.bn.module_batch_norm_61} \n",
      "2024-08-12 08:58:16,849 - ModelPreparer - INFO - Functional         : Adding new module for node: {neck.out_convs.1.bn.module_batch_norm_62} \n",
      "2024-08-12 08:58:16,849 - ModelPreparer - INFO - Functional         : Adding new module for node: {neck.out_convs.2.bn.module_batch_norm_63} \n",
      "2024-08-12 08:58:16,850 - ModelPreparer - INFO - Functional         : Adding new module for node: {bbox_head.cls_convs.0.0.bn.module_batch_norm_64} \n",
      "2024-08-12 08:58:16,850 - ModelPreparer - INFO - Functional         : Adding new module for node: {bbox_head.cls_convs.0.1.bn.module_batch_norm_65} \n",
      "2024-08-12 08:58:16,851 - ModelPreparer - INFO - Functional         : Adding new module for node: {bbox_head.reg_convs.0.0.bn.module_batch_norm_66} \n",
      "2024-08-12 08:58:16,852 - ModelPreparer - INFO - Functional         : Adding new module for node: {bbox_head.reg_convs.0.1.bn.module_batch_norm_67} \n",
      "2024-08-12 08:58:16,852 - ModelPreparer - INFO - Functional         : Adding new module for node: {bbox_head.module_mul_4} \n",
      "2024-08-12 08:58:16,860 - ModelPreparer - INFO - Reused/Duplicate   : Adding new module for node: {bbox_head.cls_convs.0.0.module_conv_1} \n",
      "2024-08-12 08:58:16,861 - ModelPreparer - INFO - Functional         : Adding new module for node: {bbox_head.cls_convs.1.0.bn.module_batch_norm_68} \n",
      "2024-08-12 08:58:16,861 - ModelPreparer - INFO - Reused/Duplicate   : Adding new module for node: {bbox_head.cls_convs.0.1.module_conv_1} \n",
      "2024-08-12 08:58:16,862 - ModelPreparer - INFO - Functional         : Adding new module for node: {bbox_head.cls_convs.1.1.bn.module_batch_norm_69} \n",
      "2024-08-12 08:58:16,863 - ModelPreparer - INFO - Reused/Duplicate   : Adding new module for node: {bbox_head.reg_convs.0.0.module_conv_1} \n",
      "2024-08-12 08:58:16,864 - ModelPreparer - INFO - Functional         : Adding new module for node: {bbox_head.reg_convs.1.0.bn.module_batch_norm_70} \n",
      "2024-08-12 08:58:16,866 - ModelPreparer - INFO - Reused/Duplicate   : Adding new module for node: {bbox_head.reg_convs.0.1.module_conv_1} \n",
      "2024-08-12 08:58:16,866 - ModelPreparer - INFO - Functional         : Adding new module for node: {bbox_head.reg_convs.1.1.bn.module_batch_norm_71} \n",
      "2024-08-12 08:58:16,867 - ModelPreparer - INFO - Functional         : Adding new module for node: {bbox_head.module_mul_5} \n",
      "2024-08-12 08:58:16,868 - ModelPreparer - INFO - Reused/Duplicate   : Adding new module for node: {bbox_head.cls_convs.0.0.module_conv_2} \n",
      "2024-08-12 08:58:16,868 - ModelPreparer - INFO - Functional         : Adding new module for node: {bbox_head.cls_convs.2.0.bn.module_batch_norm_72} \n",
      "2024-08-12 08:58:16,870 - ModelPreparer - INFO - Reused/Duplicate   : Adding new module for node: {bbox_head.cls_convs.0.1.module_conv_2} \n",
      "2024-08-12 08:58:16,870 - ModelPreparer - INFO - Functional         : Adding new module for node: {bbox_head.cls_convs.2.1.bn.module_batch_norm_73} \n",
      "2024-08-12 08:58:16,871 - ModelPreparer - INFO - Reused/Duplicate   : Adding new module for node: {bbox_head.reg_convs.0.0.module_conv_2} \n",
      "2024-08-12 08:58:16,872 - ModelPreparer - INFO - Functional         : Adding new module for node: {bbox_head.reg_convs.2.0.bn.module_batch_norm_74} \n",
      "2024-08-12 08:58:16,873 - ModelPreparer - INFO - Reused/Duplicate   : Adding new module for node: {bbox_head.reg_convs.0.1.module_conv_2} \n",
      "2024-08-12 08:58:16,873 - ModelPreparer - INFO - Functional         : Adding new module for node: {bbox_head.reg_convs.2.1.bn.module_batch_norm_75} \n",
      "2024-08-12 08:58:16,874 - ModelPreparer - INFO - Functional         : Adding new module for node: {bbox_head.module_mul_6} \n",
      "2024-08-12 08:58:23,494 - Quant - INFO - No config file provided, defaulting to config file at /usr/local/lib/python3.10/dist-packages/aimet_common/quantsim_config/default_config.json\n",
      "2024-08-12 08:58:23,527 - Quant - INFO - Unsupported op type Squeeze\n",
      "2024-08-12 08:58:23,527 - Quant - INFO - Unsupported op type Mean\n",
      "2024-08-12 08:58:23,541 - Quant - INFO - Selecting DefaultOpInstanceConfigGenerator to compute the specialized config. hw_version:default\n"
     ]
    }
   ],
   "source": [
    "from aimet_torch.quantsim import QuantizationSimModel, QuantScheme\n",
    "from aimet_torch.model_preparer import prepare_model\n",
    "\n",
    "dummy_input = torch.rand(1, 3, 640, 640).cuda()\n",
    "\n",
    "\n",
    "prepared_model = prepare_model(model.model)\n",
    "\n",
    "sim = QuantizationSimModel(model=prepared_model,\n",
    "                        quant_scheme=QuantScheme.post_training_tf_enhanced,\n",
    "                        dummy_input=dummy_input,\n",
    "                        default_output_bw=8,\n",
    "                        default_param_bw=8,)\n"
   ]
  },
  {
   "cell_type": "code",
   "execution_count": null,
   "metadata": {},
   "outputs": [],
   "source": [
    "# print(str(sim))"
   ]
  },
  {
   "cell_type": "code",
   "execution_count": null,
   "metadata": {
    "colab": {
     "base_uri": "https://localhost:8080/"
    },
    "id": "ir4IFswfFeb9",
    "outputId": "6123101f-000c-4b93-a2d6-81ffa064b745"
   },
   "outputs": [],
   "source": [
    "print(\"CALCULATING FP32 ACCURACY NOW\")\n",
    "accuracy = eval_callback(model)"
   ]
  },
  {
   "cell_type": "code",
   "execution_count": null,
   "metadata": {},
   "outputs": [],
   "source": [
    "print(f'- FP32 accuracy: {accuracy}')"
   ]
  },
  {
   "cell_type": "markdown",
   "metadata": {
    "id": "OUI0S_bRWb9E"
   },
   "source": [
    "## 3. Run AutoQuant\n",
    "### Create AutoQuant Object\n",
    "\n",
    "The AutoQuant feature utilizes an unlabeled dataset to achieve quantization. The class **UnlabeledDatasetWrapper** creates an unlabeled Dataset object from a labeled Dataset."
   ]
  },
  {
   "cell_type": "code",
   "execution_count": 10,
   "metadata": {},
   "outputs": [],
   "source": [
    "class UnlabeledDatasetWrapper(Dataset):\n",
    "    def __init__(self, dataset, num_samples):\n",
    "        self._dataset = dataset\n",
    "        self.num_samples = num_samples if num_samples < len(self._dataset) else len(self._dataset)\n",
    "        self.transform = transform\n",
    "\n",
    "    def __len__(self):\n",
    "        return self.num_samples \n",
    "\n",
    "    def __getitem__(self, index):\n",
    "        _, _, transformed_images = self._dataset[index]\n",
    "        return transformed_images\n",
    "    "
   ]
  },
  {
   "cell_type": "code",
   "execution_count": 11,
   "metadata": {
    "id": "5NtMfprwWb9E",
    "pycharm": {
     "name": "#%%\n"
    }
   },
   "outputs": [],
   "source": [
    "from aimet_torch.auto_quant import AutoQuant\n",
    "from glob import glob\n",
    "\n",
    "def new_eval_callback(model: torch.nn.Module, num_samples: Optional[int] = None) -> float:\n",
    "    data_loader = DataLoader(evalDataset, batch_size=BATCH_SIZE)\n",
    "    new_preds = []\n",
    "    for image_id, image_path, _ in tqdm(data_loader):\n",
    "        pre_processed = collate_preprocessor(inputs=image_path, batch_size=BATCH_SIZE)\n",
    "        _, data = list(pre_processed)[0]\n",
    "        data = preprocessor(data, False)\n",
    "        preds = model(data['inputs'].cuda())\n",
    "        batch_img_metas = [\n",
    "        data_samples.metainfo for data_samples in data['data_samples']\n",
    "        ]\n",
    "        preds = predict_by_feat(*preds, batch_img_metas=batch_img_metas, rescale=True)\n",
    "        preds = add_pred_to_datasample(data['data_samples'], preds)\n",
    "        \n",
    "        for img_id, pred in zip(image_id, preds):\n",
    "            pred = pred.pred_instances\n",
    "            new_pred = InstanceData(metainfo={\"img_id\": int(img_id)})\n",
    "            new_pred.bboxes = [np.array(p) for p in pred['bboxes'].cpu()]\n",
    "            new_pred.labels = pred['labels'].cpu()\n",
    "            new_pred.scores = pred['scores'].cpu()\n",
    "            new_preds.append(new_pred)\n",
    "\n",
    "    eval_results = test_evaluator(new_preds)\n",
    "    num_file = len(glob(\"/teamspace/studios/this_studio/mmdetection/ptq_stats/eval_acc_quant_*\"))\n",
    "    with open(f\"/teamspace/studios/this_studio/mmdetection/ptq_stats/eval_acc_quant_{num_file}.json\", \"w\") as f:\n",
    "        json.dump(eval_results, f, indent=4)\n",
    "    bbox_map = eval_results['bbox_mAP']\n",
    "    return bbox_map\n",
    "\n",
    "\n",
    "calibration_data_loader = DataLoader(UnlabeledDatasetWrapper(evalDataset, num_samples=CALIBRATION_DATASET_SIZE))\n",
    "auto_quant = AutoQuant(prepared_model,\n",
    "                       dummy_input=dummy_input,\n",
    "                       data_loader=calibration_data_loader,\n",
    "                       eval_callback=new_eval_callback,\n",
    "                       encoding_path=\"/teamspace/studios/this_studio/aimet/Examples/torch/quantization/sim_model_excluded_modules/rtm_det.encodings\")"
   ]
  },
  {
   "cell_type": "markdown",
   "metadata": {
    "id": "9zufGu-VWb9F"
   },
   "source": [
    "### Run AutoQuant Inference\n",
    "This step runs AutoQuant inference. AutoQuant inference will run evaluation using the **eval_callback** with the vanilla quantized model without applying PTQ techniques. This will be useful for measuring the baseline evaluation score before running AutoQuant optimization."
   ]
  },
  {
   "cell_type": "code",
   "execution_count": 12,
   "metadata": {
    "colab": {
     "base_uri": "https://localhost:8080/",
     "height": 1000
    },
    "id": "aXf7J3FBWb9F",
    "outputId": "a260133a-93dd-4656-9efc-7c56e284e555"
   },
   "outputs": [
    {
     "name": "stderr",
     "output_type": "stream",
     "text": [
      "               \r"
     ]
    },
    {
     "name": "stdout",
     "output_type": "stream",
     "text": [
      "2024-08-12 08:58:24,239 - ModelPreparer - INFO - Functional         : Adding new module for node: {module_batch_norm} \n"
     ]
    },
    {
     "name": "stderr",
     "output_type": "stream",
     "text": [
      "               \r"
     ]
    },
    {
     "name": "stdout",
     "output_type": "stream",
     "text": [
      "2024-08-12 08:58:24,242 - ModelPreparer - INFO - Functional         : Adding new module for node: {module_mul} \n"
     ]
    },
    {
     "name": "stderr",
     "output_type": "stream",
     "text": [
      "               \r"
     ]
    },
    {
     "name": "stdout",
     "output_type": "stream",
     "text": [
      "2024-08-12 08:58:24,244 - ModelPreparer - INFO - Functional         : Adding new module for node: {module_batch_norm_1} \n"
     ]
    },
    {
     "name": "stderr",
     "output_type": "stream",
     "text": [
      "               \r"
     ]
    },
    {
     "name": "stdout",
     "output_type": "stream",
     "text": [
      "2024-08-12 08:58:24,246 - ModelPreparer - INFO - Functional         : Adding new module for node: {module_mul_1} \n"
     ]
    },
    {
     "name": "stderr",
     "output_type": "stream",
     "text": [
      "               \r"
     ]
    },
    {
     "name": "stdout",
     "output_type": "stream",
     "text": [
      "2024-08-12 08:58:24,249 - ModelPreparer - INFO - Functional         : Adding new module for node: {module_batch_norm_2} \n"
     ]
    },
    {
     "name": "stderr",
     "output_type": "stream",
     "text": [
      "               \r"
     ]
    },
    {
     "name": "stdout",
     "output_type": "stream",
     "text": [
      "2024-08-12 08:58:24,252 - ModelPreparer - INFO - Functional         : Adding new module for node: {module_mul_2} \n"
     ]
    },
    {
     "name": "stderr",
     "output_type": "stream",
     "text": [
      "               \r"
     ]
    },
    {
     "name": "stdout",
     "output_type": "stream",
     "text": [
      "2024-08-12 08:58:24,255 - ModelPreparer - INFO - Functional         : Adding new module for node: {module_batch_norm_3} \n"
     ]
    },
    {
     "name": "stderr",
     "output_type": "stream",
     "text": [
      "               \r"
     ]
    },
    {
     "name": "stdout",
     "output_type": "stream",
     "text": [
      "2024-08-12 08:58:24,259 - ModelPreparer - INFO - Functional         : Adding new module for node: {module_mul_3} \n"
     ]
    },
    {
     "name": "stderr",
     "output_type": "stream",
     "text": [
      "               \r"
     ]
    },
    {
     "name": "stdout",
     "output_type": "stream",
     "text": [
      "2024-08-12 08:58:24,261 - ModelPreparer - INFO - Functional         : Adding new module for node: {module_batch_norm_4} \n"
     ]
    },
    {
     "name": "stderr",
     "output_type": "stream",
     "text": [
      "               \r"
     ]
    },
    {
     "name": "stdout",
     "output_type": "stream",
     "text": [
      "2024-08-12 08:58:24,264 - ModelPreparer - INFO - Functional         : Adding new module for node: {module_mul_4} \n"
     ]
    },
    {
     "name": "stderr",
     "output_type": "stream",
     "text": [
      "               \r"
     ]
    },
    {
     "name": "stdout",
     "output_type": "stream",
     "text": [
      "2024-08-12 08:58:24,267 - ModelPreparer - INFO - Functional         : Adding new module for node: {module_batch_norm_5} \n"
     ]
    },
    {
     "name": "stderr",
     "output_type": "stream",
     "text": [
      "               \r"
     ]
    },
    {
     "name": "stdout",
     "output_type": "stream",
     "text": [
      "2024-08-12 08:58:24,269 - ModelPreparer - INFO - Functional         : Adding new module for node: {module_mul_5} \n"
     ]
    },
    {
     "name": "stderr",
     "output_type": "stream",
     "text": [
      "               \r"
     ]
    },
    {
     "name": "stdout",
     "output_type": "stream",
     "text": [
      "2024-08-12 08:58:24,271 - ModelPreparer - INFO - Functional         : Adding new module for node: {module_batch_norm_6} \n"
     ]
    },
    {
     "name": "stderr",
     "output_type": "stream",
     "text": [
      "               \r"
     ]
    },
    {
     "name": "stdout",
     "output_type": "stream",
     "text": [
      "2024-08-12 08:58:24,273 - ModelPreparer - INFO - Functional         : Adding new module for node: {module_mul_6} \n"
     ]
    },
    {
     "name": "stderr",
     "output_type": "stream",
     "text": [
      "               \r"
     ]
    },
    {
     "name": "stdout",
     "output_type": "stream",
     "text": [
      "2024-08-12 08:58:24,276 - ModelPreparer - INFO - Functional         : Adding new module for node: {module_batch_norm_7} \n"
     ]
    },
    {
     "name": "stderr",
     "output_type": "stream",
     "text": [
      "               \r"
     ]
    },
    {
     "name": "stdout",
     "output_type": "stream",
     "text": [
      "2024-08-12 08:58:24,279 - ModelPreparer - INFO - Functional         : Adding new module for node: {module_mul_7} \n"
     ]
    },
    {
     "name": "stderr",
     "output_type": "stream",
     "text": [
      "               \r"
     ]
    },
    {
     "name": "stdout",
     "output_type": "stream",
     "text": [
      "2024-08-12 08:58:24,281 - ModelPreparer - INFO - Functional         : Adding new module for node: {module_batch_norm_8} \n"
     ]
    },
    {
     "name": "stderr",
     "output_type": "stream",
     "text": [
      "               \r"
     ]
    },
    {
     "name": "stdout",
     "output_type": "stream",
     "text": [
      "2024-08-12 08:58:24,284 - ModelPreparer - INFO - Functional         : Adding new module for node: {module_mul_8} \n"
     ]
    },
    {
     "name": "stderr",
     "output_type": "stream",
     "text": [
      "               \r"
     ]
    },
    {
     "name": "stdout",
     "output_type": "stream",
     "text": [
      "2024-08-12 08:58:24,286 - ModelPreparer - INFO - Functional         : Adding new module for node: {module_add} \n"
     ]
    },
    {
     "name": "stderr",
     "output_type": "stream",
     "text": [
      "               \r"
     ]
    },
    {
     "name": "stdout",
     "output_type": "stream",
     "text": [
      "2024-08-12 08:58:24,290 - ModelPreparer - INFO - Functional         : Adding new module for node: {module_cat} \n"
     ]
    },
    {
     "name": "stderr",
     "output_type": "stream",
     "text": [
      "               \r"
     ]
    },
    {
     "name": "stdout",
     "output_type": "stream",
     "text": [
      "2024-08-12 08:58:24,292 - ModelPreparer - INFO - Functional         : Adding new module for node: {module_mul_9} \n"
     ]
    },
    {
     "name": "stderr",
     "output_type": "stream",
     "text": [
      "               \r"
     ]
    },
    {
     "name": "stdout",
     "output_type": "stream",
     "text": [
      "2024-08-12 08:58:24,294 - ModelPreparer - INFO - Functional         : Adding new module for node: {module_batch_norm_9} \n"
     ]
    },
    {
     "name": "stderr",
     "output_type": "stream",
     "text": [
      "               \r"
     ]
    },
    {
     "name": "stdout",
     "output_type": "stream",
     "text": [
      "2024-08-12 08:58:24,297 - ModelPreparer - INFO - Functional         : Adding new module for node: {module_mul_10} \n"
     ]
    },
    {
     "name": "stderr",
     "output_type": "stream",
     "text": [
      "               \r"
     ]
    },
    {
     "name": "stdout",
     "output_type": "stream",
     "text": [
      "2024-08-12 08:58:24,300 - ModelPreparer - INFO - Functional         : Adding new module for node: {module_batch_norm_10} \n"
     ]
    },
    {
     "name": "stderr",
     "output_type": "stream",
     "text": [
      "               \r"
     ]
    },
    {
     "name": "stdout",
     "output_type": "stream",
     "text": [
      "2024-08-12 08:58:24,302 - ModelPreparer - INFO - Functional         : Adding new module for node: {module_mul_11} \n"
     ]
    },
    {
     "name": "stderr",
     "output_type": "stream",
     "text": [
      "               \r"
     ]
    },
    {
     "name": "stdout",
     "output_type": "stream",
     "text": [
      "2024-08-12 08:58:24,304 - ModelPreparer - INFO - Functional         : Adding new module for node: {module_batch_norm_11} \n"
     ]
    },
    {
     "name": "stderr",
     "output_type": "stream",
     "text": [
      "               \r"
     ]
    },
    {
     "name": "stdout",
     "output_type": "stream",
     "text": [
      "2024-08-12 08:58:24,306 - ModelPreparer - INFO - Functional         : Adding new module for node: {module_mul_12} \n"
     ]
    },
    {
     "name": "stderr",
     "output_type": "stream",
     "text": [
      "               \r"
     ]
    },
    {
     "name": "stdout",
     "output_type": "stream",
     "text": [
      "2024-08-12 08:58:24,308 - ModelPreparer - INFO - Functional         : Adding new module for node: {module_batch_norm_12} \n"
     ]
    },
    {
     "name": "stderr",
     "output_type": "stream",
     "text": [
      "               \r"
     ]
    },
    {
     "name": "stdout",
     "output_type": "stream",
     "text": [
      "2024-08-12 08:58:24,310 - ModelPreparer - INFO - Functional         : Adding new module for node: {module_mul_13} \n"
     ]
    },
    {
     "name": "stderr",
     "output_type": "stream",
     "text": [
      "               \r"
     ]
    },
    {
     "name": "stdout",
     "output_type": "stream",
     "text": [
      "2024-08-12 08:58:24,313 - ModelPreparer - INFO - Functional         : Adding new module for node: {module_batch_norm_13} \n"
     ]
    },
    {
     "name": "stderr",
     "output_type": "stream",
     "text": [
      "               \r"
     ]
    },
    {
     "name": "stdout",
     "output_type": "stream",
     "text": [
      "2024-08-12 08:58:24,315 - ModelPreparer - INFO - Functional         : Adding new module for node: {module_mul_14} \n"
     ]
    },
    {
     "name": "stderr",
     "output_type": "stream",
     "text": [
      "               \r"
     ]
    },
    {
     "name": "stdout",
     "output_type": "stream",
     "text": [
      "2024-08-12 08:58:24,317 - ModelPreparer - INFO - Functional         : Adding new module for node: {module_batch_norm_14} \n"
     ]
    },
    {
     "name": "stderr",
     "output_type": "stream",
     "text": [
      "               \r"
     ]
    },
    {
     "name": "stdout",
     "output_type": "stream",
     "text": [
      "2024-08-12 08:58:24,320 - ModelPreparer - INFO - Functional         : Adding new module for node: {module_mul_15} \n"
     ]
    },
    {
     "name": "stderr",
     "output_type": "stream",
     "text": [
      "               \r"
     ]
    },
    {
     "name": "stdout",
     "output_type": "stream",
     "text": [
      "2024-08-12 08:58:24,322 - ModelPreparer - INFO - Functional         : Adding new module for node: {module_batch_norm_15} \n"
     ]
    },
    {
     "name": "stderr",
     "output_type": "stream",
     "text": [
      "               \r"
     ]
    },
    {
     "name": "stdout",
     "output_type": "stream",
     "text": [
      "2024-08-12 08:58:24,324 - ModelPreparer - INFO - Functional         : Adding new module for node: {module_mul_16} \n"
     ]
    },
    {
     "name": "stderr",
     "output_type": "stream",
     "text": [
      "               \r"
     ]
    },
    {
     "name": "stdout",
     "output_type": "stream",
     "text": [
      "2024-08-12 08:58:24,328 - ModelPreparer - INFO - Functional         : Adding new module for node: {module_add_1} \n"
     ]
    },
    {
     "name": "stderr",
     "output_type": "stream",
     "text": [
      "               \r"
     ]
    },
    {
     "name": "stdout",
     "output_type": "stream",
     "text": [
      "2024-08-12 08:58:24,330 - ModelPreparer - INFO - Functional         : Adding new module for node: {module_cat_1} \n"
     ]
    },
    {
     "name": "stderr",
     "output_type": "stream",
     "text": [
      "               \r"
     ]
    },
    {
     "name": "stdout",
     "output_type": "stream",
     "text": [
      "2024-08-12 08:58:24,332 - ModelPreparer - INFO - Functional         : Adding new module for node: {module_mul_17} \n"
     ]
    },
    {
     "name": "stderr",
     "output_type": "stream",
     "text": [
      "               \r"
     ]
    },
    {
     "name": "stdout",
     "output_type": "stream",
     "text": [
      "2024-08-12 08:58:24,335 - ModelPreparer - INFO - Functional         : Adding new module for node: {module_batch_norm_16} \n"
     ]
    },
    {
     "name": "stderr",
     "output_type": "stream",
     "text": [
      "               \r"
     ]
    },
    {
     "name": "stdout",
     "output_type": "stream",
     "text": [
      "2024-08-12 08:58:24,337 - ModelPreparer - INFO - Functional         : Adding new module for node: {module_mul_18} \n"
     ]
    },
    {
     "name": "stderr",
     "output_type": "stream",
     "text": [
      "               \r"
     ]
    },
    {
     "name": "stdout",
     "output_type": "stream",
     "text": [
      "2024-08-12 08:58:24,340 - ModelPreparer - INFO - Functional         : Adding new module for node: {module_batch_norm_17} \n"
     ]
    },
    {
     "name": "stderr",
     "output_type": "stream",
     "text": [
      "               \r"
     ]
    },
    {
     "name": "stdout",
     "output_type": "stream",
     "text": [
      "2024-08-12 08:58:24,342 - ModelPreparer - INFO - Functional         : Adding new module for node: {module_mul_19} \n"
     ]
    },
    {
     "name": "stderr",
     "output_type": "stream",
     "text": [
      "               \r"
     ]
    },
    {
     "name": "stdout",
     "output_type": "stream",
     "text": [
      "2024-08-12 08:58:24,344 - ModelPreparer - INFO - Functional         : Adding new module for node: {module_batch_norm_18} \n"
     ]
    },
    {
     "name": "stderr",
     "output_type": "stream",
     "text": [
      "               \r"
     ]
    },
    {
     "name": "stdout",
     "output_type": "stream",
     "text": [
      "2024-08-12 08:58:24,347 - ModelPreparer - INFO - Functional         : Adding new module for node: {module_mul_20} \n"
     ]
    },
    {
     "name": "stderr",
     "output_type": "stream",
     "text": [
      "               \r"
     ]
    },
    {
     "name": "stdout",
     "output_type": "stream",
     "text": [
      "2024-08-12 08:58:24,349 - ModelPreparer - INFO - Functional         : Adding new module for node: {module_batch_norm_19} \n"
     ]
    },
    {
     "name": "stderr",
     "output_type": "stream",
     "text": [
      "               \r"
     ]
    },
    {
     "name": "stdout",
     "output_type": "stream",
     "text": [
      "2024-08-12 08:58:24,352 - ModelPreparer - INFO - Functional         : Adding new module for node: {module_mul_21} \n"
     ]
    },
    {
     "name": "stderr",
     "output_type": "stream",
     "text": [
      "               \r"
     ]
    },
    {
     "name": "stdout",
     "output_type": "stream",
     "text": [
      "2024-08-12 08:58:24,355 - ModelPreparer - INFO - Functional         : Adding new module for node: {module_batch_norm_20} \n"
     ]
    },
    {
     "name": "stderr",
     "output_type": "stream",
     "text": [
      "               \r"
     ]
    },
    {
     "name": "stdout",
     "output_type": "stream",
     "text": [
      "2024-08-12 08:58:24,357 - ModelPreparer - INFO - Functional         : Adding new module for node: {module_mul_22} \n"
     ]
    },
    {
     "name": "stderr",
     "output_type": "stream",
     "text": [
      "               \r"
     ]
    },
    {
     "name": "stdout",
     "output_type": "stream",
     "text": [
      "2024-08-12 08:58:24,360 - ModelPreparer - INFO - Functional         : Adding new module for node: {module_batch_norm_21} \n"
     ]
    },
    {
     "name": "stderr",
     "output_type": "stream",
     "text": [
      "               \r"
     ]
    },
    {
     "name": "stdout",
     "output_type": "stream",
     "text": [
      "2024-08-12 08:58:24,362 - ModelPreparer - INFO - Functional         : Adding new module for node: {module_mul_23} \n"
     ]
    },
    {
     "name": "stderr",
     "output_type": "stream",
     "text": [
      "               \r"
     ]
    },
    {
     "name": "stdout",
     "output_type": "stream",
     "text": [
      "2024-08-12 08:58:24,365 - ModelPreparer - INFO - Functional         : Adding new module for node: {module_batch_norm_22} \n"
     ]
    },
    {
     "name": "stderr",
     "output_type": "stream",
     "text": [
      "               \r"
     ]
    },
    {
     "name": "stdout",
     "output_type": "stream",
     "text": [
      "2024-08-12 08:58:24,367 - ModelPreparer - INFO - Functional         : Adding new module for node: {module_mul_24} \n"
     ]
    },
    {
     "name": "stderr",
     "output_type": "stream",
     "text": [
      "               \r"
     ]
    },
    {
     "name": "stdout",
     "output_type": "stream",
     "text": [
      "2024-08-12 08:58:24,369 - ModelPreparer - INFO - Functional         : Adding new module for node: {module_add_2} \n"
     ]
    },
    {
     "name": "stderr",
     "output_type": "stream",
     "text": [
      "               \r"
     ]
    },
    {
     "name": "stdout",
     "output_type": "stream",
     "text": [
      "2024-08-12 08:58:24,371 - ModelPreparer - INFO - Functional         : Adding new module for node: {module_cat_2} \n"
     ]
    },
    {
     "name": "stderr",
     "output_type": "stream",
     "text": [
      "               \r"
     ]
    },
    {
     "name": "stdout",
     "output_type": "stream",
     "text": [
      "2024-08-12 08:58:24,373 - ModelPreparer - INFO - Functional         : Adding new module for node: {module_mul_25} \n"
     ]
    },
    {
     "name": "stderr",
     "output_type": "stream",
     "text": [
      "               \r"
     ]
    },
    {
     "name": "stdout",
     "output_type": "stream",
     "text": [
      "2024-08-12 08:58:24,376 - ModelPreparer - INFO - Functional         : Adding new module for node: {module_batch_norm_23} \n"
     ]
    },
    {
     "name": "stderr",
     "output_type": "stream",
     "text": [
      "               \r"
     ]
    },
    {
     "name": "stdout",
     "output_type": "stream",
     "text": [
      "2024-08-12 08:58:24,378 - ModelPreparer - INFO - Functional         : Adding new module for node: {module_mul_26} \n"
     ]
    },
    {
     "name": "stderr",
     "output_type": "stream",
     "text": [
      "               \r"
     ]
    },
    {
     "name": "stdout",
     "output_type": "stream",
     "text": [
      "2024-08-12 08:58:24,381 - ModelPreparer - INFO - Functional         : Adding new module for node: {module_batch_norm_24} \n"
     ]
    },
    {
     "name": "stderr",
     "output_type": "stream",
     "text": [
      "               \r"
     ]
    },
    {
     "name": "stdout",
     "output_type": "stream",
     "text": [
      "2024-08-12 08:58:24,384 - ModelPreparer - INFO - Functional         : Adding new module for node: {module_mul_27} \n"
     ]
    },
    {
     "name": "stderr",
     "output_type": "stream",
     "text": [
      "               \r"
     ]
    },
    {
     "name": "stdout",
     "output_type": "stream",
     "text": [
      "2024-08-12 08:58:24,386 - ModelPreparer - INFO - Functional         : Adding new module for node: {module_batch_norm_25} \n"
     ]
    },
    {
     "name": "stderr",
     "output_type": "stream",
     "text": [
      "               \r"
     ]
    },
    {
     "name": "stdout",
     "output_type": "stream",
     "text": [
      "2024-08-12 08:58:24,389 - ModelPreparer - INFO - Functional         : Adding new module for node: {module_mul_28} \n"
     ]
    },
    {
     "name": "stderr",
     "output_type": "stream",
     "text": [
      "               \r"
     ]
    },
    {
     "name": "stdout",
     "output_type": "stream",
     "text": [
      "2024-08-12 08:58:24,391 - ModelPreparer - INFO - Functional         : Adding new module for node: {module_cat_3} \n"
     ]
    },
    {
     "name": "stderr",
     "output_type": "stream",
     "text": [
      "               \r"
     ]
    },
    {
     "name": "stdout",
     "output_type": "stream",
     "text": [
      "2024-08-12 08:58:24,393 - ModelPreparer - INFO - Functional         : Adding new module for node: {module_batch_norm_26} \n"
     ]
    },
    {
     "name": "stderr",
     "output_type": "stream",
     "text": [
      "               \r"
     ]
    },
    {
     "name": "stdout",
     "output_type": "stream",
     "text": [
      "2024-08-12 08:58:24,395 - ModelPreparer - INFO - Functional         : Adding new module for node: {module_mul_29} \n"
     ]
    },
    {
     "name": "stderr",
     "output_type": "stream",
     "text": [
      "               \r"
     ]
    },
    {
     "name": "stdout",
     "output_type": "stream",
     "text": [
      "2024-08-12 08:58:24,398 - ModelPreparer - INFO - Functional         : Adding new module for node: {module_batch_norm_27} \n"
     ]
    },
    {
     "name": "stderr",
     "output_type": "stream",
     "text": [
      "               \r"
     ]
    },
    {
     "name": "stdout",
     "output_type": "stream",
     "text": [
      "2024-08-12 08:58:24,400 - ModelPreparer - INFO - Functional         : Adding new module for node: {module_mul_30} \n"
     ]
    },
    {
     "name": "stderr",
     "output_type": "stream",
     "text": [
      "               \r"
     ]
    },
    {
     "name": "stdout",
     "output_type": "stream",
     "text": [
      "2024-08-12 08:58:24,402 - ModelPreparer - INFO - Functional         : Adding new module for node: {module_batch_norm_28} \n"
     ]
    },
    {
     "name": "stderr",
     "output_type": "stream",
     "text": [
      "               \r"
     ]
    },
    {
     "name": "stdout",
     "output_type": "stream",
     "text": [
      "2024-08-12 08:58:24,404 - ModelPreparer - INFO - Functional         : Adding new module for node: {module_mul_31} \n"
     ]
    },
    {
     "name": "stderr",
     "output_type": "stream",
     "text": [
      "               \r"
     ]
    },
    {
     "name": "stdout",
     "output_type": "stream",
     "text": [
      "2024-08-12 08:58:24,406 - ModelPreparer - INFO - Functional         : Adding new module for node: {module_batch_norm_29} \n"
     ]
    },
    {
     "name": "stderr",
     "output_type": "stream",
     "text": [
      "               \r"
     ]
    },
    {
     "name": "stdout",
     "output_type": "stream",
     "text": [
      "2024-08-12 08:58:24,408 - ModelPreparer - INFO - Functional         : Adding new module for node: {module_mul_32} \n"
     ]
    },
    {
     "name": "stderr",
     "output_type": "stream",
     "text": [
      "               \r"
     ]
    },
    {
     "name": "stdout",
     "output_type": "stream",
     "text": [
      "2024-08-12 08:58:24,411 - ModelPreparer - INFO - Functional         : Adding new module for node: {module_batch_norm_30} \n"
     ]
    },
    {
     "name": "stderr",
     "output_type": "stream",
     "text": [
      "               \r"
     ]
    },
    {
     "name": "stdout",
     "output_type": "stream",
     "text": [
      "2024-08-12 08:58:24,414 - ModelPreparer - INFO - Functional         : Adding new module for node: {module_mul_33} \n"
     ]
    },
    {
     "name": "stderr",
     "output_type": "stream",
     "text": [
      "               \r"
     ]
    },
    {
     "name": "stdout",
     "output_type": "stream",
     "text": [
      "2024-08-12 08:58:24,416 - ModelPreparer - INFO - Functional         : Adding new module for node: {module_batch_norm_31} \n"
     ]
    },
    {
     "name": "stderr",
     "output_type": "stream",
     "text": [
      "               \r"
     ]
    },
    {
     "name": "stdout",
     "output_type": "stream",
     "text": [
      "2024-08-12 08:58:24,419 - ModelPreparer - INFO - Functional         : Adding new module for node: {module_mul_34} \n"
     ]
    },
    {
     "name": "stderr",
     "output_type": "stream",
     "text": [
      "               \r"
     ]
    },
    {
     "name": "stdout",
     "output_type": "stream",
     "text": [
      "2024-08-12 08:58:24,421 - ModelPreparer - INFO - Functional         : Adding new module for node: {module_cat_4} \n"
     ]
    },
    {
     "name": "stderr",
     "output_type": "stream",
     "text": [
      "               \r"
     ]
    },
    {
     "name": "stdout",
     "output_type": "stream",
     "text": [
      "2024-08-12 08:58:24,424 - ModelPreparer - INFO - Functional         : Adding new module for node: {module_mul_35} \n"
     ]
    },
    {
     "name": "stderr",
     "output_type": "stream",
     "text": [
      "               \r"
     ]
    },
    {
     "name": "stdout",
     "output_type": "stream",
     "text": [
      "2024-08-12 08:58:24,426 - ModelPreparer - INFO - Functional         : Adding new module for node: {module_batch_norm_32} \n"
     ]
    },
    {
     "name": "stderr",
     "output_type": "stream",
     "text": [
      "               \r"
     ]
    },
    {
     "name": "stdout",
     "output_type": "stream",
     "text": [
      "2024-08-12 08:58:24,429 - ModelPreparer - INFO - Functional         : Adding new module for node: {module_mul_36} \n"
     ]
    },
    {
     "name": "stderr",
     "output_type": "stream",
     "text": [
      "               \r"
     ]
    },
    {
     "name": "stdout",
     "output_type": "stream",
     "text": [
      "2024-08-12 08:58:24,431 - ModelPreparer - INFO - Functional         : Adding new module for node: {module_batch_norm_33} \n"
     ]
    },
    {
     "name": "stderr",
     "output_type": "stream",
     "text": [
      "               \r"
     ]
    },
    {
     "name": "stdout",
     "output_type": "stream",
     "text": [
      "2024-08-12 08:58:24,434 - ModelPreparer - INFO - Functional         : Adding new module for node: {module_mul_37} \n"
     ]
    },
    {
     "name": "stderr",
     "output_type": "stream",
     "text": [
      "               \r"
     ]
    },
    {
     "name": "stdout",
     "output_type": "stream",
     "text": [
      "2024-08-12 08:58:24,437 - ModelPreparer - INFO - Functional         : Adding new module for node: {module_cat_5} \n"
     ]
    },
    {
     "name": "stderr",
     "output_type": "stream",
     "text": [
      "               \r"
     ]
    },
    {
     "name": "stdout",
     "output_type": "stream",
     "text": [
      "2024-08-12 08:58:24,439 - ModelPreparer - INFO - Functional         : Adding new module for node: {module_batch_norm_34} \n"
     ]
    },
    {
     "name": "stderr",
     "output_type": "stream",
     "text": [
      "               \r"
     ]
    },
    {
     "name": "stdout",
     "output_type": "stream",
     "text": [
      "2024-08-12 08:58:24,441 - ModelPreparer - INFO - Functional         : Adding new module for node: {module_mul_38} \n"
     ]
    },
    {
     "name": "stderr",
     "output_type": "stream",
     "text": [
      "               \r"
     ]
    },
    {
     "name": "stdout",
     "output_type": "stream",
     "text": [
      "2024-08-12 08:58:24,444 - ModelPreparer - INFO - Functional         : Adding new module for node: {module_batch_norm_35} \n"
     ]
    },
    {
     "name": "stderr",
     "output_type": "stream",
     "text": [
      "               \r"
     ]
    },
    {
     "name": "stdout",
     "output_type": "stream",
     "text": [
      "2024-08-12 08:58:24,446 - ModelPreparer - INFO - Functional         : Adding new module for node: {module_mul_39} \n"
     ]
    },
    {
     "name": "stderr",
     "output_type": "stream",
     "text": [
      "               \r"
     ]
    },
    {
     "name": "stdout",
     "output_type": "stream",
     "text": [
      "2024-08-12 08:58:24,448 - ModelPreparer - INFO - Functional         : Adding new module for node: {module_batch_norm_36} \n"
     ]
    },
    {
     "name": "stderr",
     "output_type": "stream",
     "text": [
      "               \r"
     ]
    },
    {
     "name": "stdout",
     "output_type": "stream",
     "text": [
      "2024-08-12 08:58:24,451 - ModelPreparer - INFO - Functional         : Adding new module for node: {module_mul_40} \n"
     ]
    },
    {
     "name": "stderr",
     "output_type": "stream",
     "text": [
      "               \r"
     ]
    },
    {
     "name": "stdout",
     "output_type": "stream",
     "text": [
      "2024-08-12 08:58:24,453 - ModelPreparer - INFO - Functional         : Adding new module for node: {module_batch_norm_37} \n"
     ]
    },
    {
     "name": "stderr",
     "output_type": "stream",
     "text": [
      "               \r"
     ]
    },
    {
     "name": "stdout",
     "output_type": "stream",
     "text": [
      "2024-08-12 08:58:24,455 - ModelPreparer - INFO - Functional         : Adding new module for node: {module_mul_41} \n"
     ]
    },
    {
     "name": "stderr",
     "output_type": "stream",
     "text": [
      "               \r"
     ]
    },
    {
     "name": "stdout",
     "output_type": "stream",
     "text": [
      "2024-08-12 08:58:24,457 - ModelPreparer - INFO - Functional         : Adding new module for node: {module_batch_norm_38} \n"
     ]
    },
    {
     "name": "stderr",
     "output_type": "stream",
     "text": [
      "               \r"
     ]
    },
    {
     "name": "stdout",
     "output_type": "stream",
     "text": [
      "2024-08-12 08:58:24,460 - ModelPreparer - INFO - Functional         : Adding new module for node: {module_mul_42} \n"
     ]
    },
    {
     "name": "stderr",
     "output_type": "stream",
     "text": [
      "               \r"
     ]
    },
    {
     "name": "stdout",
     "output_type": "stream",
     "text": [
      "2024-08-12 08:58:24,462 - ModelPreparer - INFO - Functional         : Adding new module for node: {module_cat_6} \n"
     ]
    },
    {
     "name": "stderr",
     "output_type": "stream",
     "text": [
      "               \r"
     ]
    },
    {
     "name": "stdout",
     "output_type": "stream",
     "text": [
      "2024-08-12 08:58:24,465 - ModelPreparer - INFO - Functional         : Adding new module for node: {module_batch_norm_39} \n"
     ]
    },
    {
     "name": "stderr",
     "output_type": "stream",
     "text": [
      "               \r"
     ]
    },
    {
     "name": "stdout",
     "output_type": "stream",
     "text": [
      "2024-08-12 08:58:24,467 - ModelPreparer - INFO - Functional         : Adding new module for node: {module_mul_43} \n"
     ]
    },
    {
     "name": "stderr",
     "output_type": "stream",
     "text": [
      "               \r"
     ]
    },
    {
     "name": "stdout",
     "output_type": "stream",
     "text": [
      "2024-08-12 08:58:24,469 - ModelPreparer - INFO - Functional         : Adding new module for node: {module_batch_norm_40} \n"
     ]
    },
    {
     "name": "stderr",
     "output_type": "stream",
     "text": [
      "               \r"
     ]
    },
    {
     "name": "stdout",
     "output_type": "stream",
     "text": [
      "2024-08-12 08:58:24,472 - ModelPreparer - INFO - Functional         : Adding new module for node: {module_mul_44} \n"
     ]
    },
    {
     "name": "stderr",
     "output_type": "stream",
     "text": [
      "               \r"
     ]
    },
    {
     "name": "stdout",
     "output_type": "stream",
     "text": [
      "2024-08-12 08:58:24,474 - ModelPreparer - INFO - Functional         : Adding new module for node: {module_cat_7} \n"
     ]
    },
    {
     "name": "stderr",
     "output_type": "stream",
     "text": [
      "               \r"
     ]
    },
    {
     "name": "stdout",
     "output_type": "stream",
     "text": [
      "2024-08-12 08:58:24,476 - ModelPreparer - INFO - Functional         : Adding new module for node: {module_batch_norm_41} \n"
     ]
    },
    {
     "name": "stderr",
     "output_type": "stream",
     "text": [
      "               \r"
     ]
    },
    {
     "name": "stdout",
     "output_type": "stream",
     "text": [
      "2024-08-12 08:58:24,479 - ModelPreparer - INFO - Functional         : Adding new module for node: {module_mul_45} \n"
     ]
    },
    {
     "name": "stderr",
     "output_type": "stream",
     "text": [
      "               \r"
     ]
    },
    {
     "name": "stdout",
     "output_type": "stream",
     "text": [
      "2024-08-12 08:58:24,481 - ModelPreparer - INFO - Functional         : Adding new module for node: {module_batch_norm_42} \n"
     ]
    },
    {
     "name": "stderr",
     "output_type": "stream",
     "text": [
      "               \r"
     ]
    },
    {
     "name": "stdout",
     "output_type": "stream",
     "text": [
      "2024-08-12 08:58:24,483 - ModelPreparer - INFO - Functional         : Adding new module for node: {module_mul_46} \n"
     ]
    },
    {
     "name": "stderr",
     "output_type": "stream",
     "text": [
      "               \r"
     ]
    },
    {
     "name": "stdout",
     "output_type": "stream",
     "text": [
      "2024-08-12 08:58:24,486 - ModelPreparer - INFO - Functional         : Adding new module for node: {module_batch_norm_43} \n"
     ]
    },
    {
     "name": "stderr",
     "output_type": "stream",
     "text": [
      "               \r"
     ]
    },
    {
     "name": "stdout",
     "output_type": "stream",
     "text": [
      "2024-08-12 08:58:24,488 - ModelPreparer - INFO - Functional         : Adding new module for node: {module_mul_47} \n"
     ]
    },
    {
     "name": "stderr",
     "output_type": "stream",
     "text": [
      "               \r"
     ]
    },
    {
     "name": "stdout",
     "output_type": "stream",
     "text": [
      "2024-08-12 08:58:24,491 - ModelPreparer - INFO - Functional         : Adding new module for node: {module_batch_norm_44} \n"
     ]
    },
    {
     "name": "stderr",
     "output_type": "stream",
     "text": [
      "               \r"
     ]
    },
    {
     "name": "stdout",
     "output_type": "stream",
     "text": [
      "2024-08-12 08:58:24,493 - ModelPreparer - INFO - Functional         : Adding new module for node: {module_mul_48} \n"
     ]
    },
    {
     "name": "stderr",
     "output_type": "stream",
     "text": [
      "               \r"
     ]
    },
    {
     "name": "stdout",
     "output_type": "stream",
     "text": [
      "2024-08-12 08:58:24,496 - ModelPreparer - INFO - Functional         : Adding new module for node: {module_batch_norm_45} \n"
     ]
    },
    {
     "name": "stderr",
     "output_type": "stream",
     "text": [
      "               \r"
     ]
    },
    {
     "name": "stdout",
     "output_type": "stream",
     "text": [
      "2024-08-12 08:58:24,498 - ModelPreparer - INFO - Functional         : Adding new module for node: {module_mul_49} \n"
     ]
    },
    {
     "name": "stderr",
     "output_type": "stream",
     "text": [
      "               \r"
     ]
    },
    {
     "name": "stdout",
     "output_type": "stream",
     "text": [
      "2024-08-12 08:58:24,501 - ModelPreparer - INFO - Functional         : Adding new module for node: {module_cat_8} \n"
     ]
    },
    {
     "name": "stderr",
     "output_type": "stream",
     "text": [
      "               \r"
     ]
    },
    {
     "name": "stdout",
     "output_type": "stream",
     "text": [
      "2024-08-12 08:58:24,503 - ModelPreparer - INFO - Functional         : Adding new module for node: {module_batch_norm_46} \n"
     ]
    },
    {
     "name": "stderr",
     "output_type": "stream",
     "text": [
      "               \r"
     ]
    },
    {
     "name": "stdout",
     "output_type": "stream",
     "text": [
      "2024-08-12 08:58:24,505 - ModelPreparer - INFO - Functional         : Adding new module for node: {module_mul_50} \n"
     ]
    },
    {
     "name": "stderr",
     "output_type": "stream",
     "text": [
      "               \r"
     ]
    },
    {
     "name": "stdout",
     "output_type": "stream",
     "text": [
      "2024-08-12 08:58:24,508 - ModelPreparer - INFO - Functional         : Adding new module for node: {module_batch_norm_47} \n"
     ]
    },
    {
     "name": "stderr",
     "output_type": "stream",
     "text": [
      "               \r"
     ]
    },
    {
     "name": "stdout",
     "output_type": "stream",
     "text": [
      "2024-08-12 08:58:24,511 - ModelPreparer - INFO - Functional         : Adding new module for node: {module_mul_51} \n"
     ]
    },
    {
     "name": "stderr",
     "output_type": "stream",
     "text": [
      "               \r"
     ]
    },
    {
     "name": "stdout",
     "output_type": "stream",
     "text": [
      "2024-08-12 08:58:24,513 - ModelPreparer - INFO - Functional         : Adding new module for node: {module_cat_9} \n"
     ]
    },
    {
     "name": "stderr",
     "output_type": "stream",
     "text": [
      "               \r"
     ]
    },
    {
     "name": "stdout",
     "output_type": "stream",
     "text": [
      "2024-08-12 08:58:24,515 - ModelPreparer - INFO - Functional         : Adding new module for node: {module_batch_norm_48} \n"
     ]
    },
    {
     "name": "stderr",
     "output_type": "stream",
     "text": [
      "               \r"
     ]
    },
    {
     "name": "stdout",
     "output_type": "stream",
     "text": [
      "2024-08-12 08:58:24,518 - ModelPreparer - INFO - Functional         : Adding new module for node: {module_mul_52} \n"
     ]
    },
    {
     "name": "stderr",
     "output_type": "stream",
     "text": [
      "               \r"
     ]
    },
    {
     "name": "stdout",
     "output_type": "stream",
     "text": [
      "2024-08-12 08:58:24,521 - ModelPreparer - INFO - Functional         : Adding new module for node: {module_batch_norm_49} \n"
     ]
    },
    {
     "name": "stderr",
     "output_type": "stream",
     "text": [
      "               \r"
     ]
    },
    {
     "name": "stdout",
     "output_type": "stream",
     "text": [
      "2024-08-12 08:58:24,524 - ModelPreparer - INFO - Functional         : Adding new module for node: {module_mul_53} \n"
     ]
    },
    {
     "name": "stderr",
     "output_type": "stream",
     "text": [
      "               \r"
     ]
    },
    {
     "name": "stdout",
     "output_type": "stream",
     "text": [
      "2024-08-12 08:58:24,528 - ModelPreparer - INFO - Functional         : Adding new module for node: {module_batch_norm_50} \n"
     ]
    },
    {
     "name": "stderr",
     "output_type": "stream",
     "text": [
      "               \r"
     ]
    },
    {
     "name": "stdout",
     "output_type": "stream",
     "text": [
      "2024-08-12 08:58:24,530 - ModelPreparer - INFO - Functional         : Adding new module for node: {module_mul_54} \n"
     ]
    },
    {
     "name": "stderr",
     "output_type": "stream",
     "text": [
      "               \r"
     ]
    },
    {
     "name": "stdout",
     "output_type": "stream",
     "text": [
      "2024-08-12 08:58:24,534 - ModelPreparer - INFO - Functional         : Adding new module for node: {module_batch_norm_51} \n"
     ]
    },
    {
     "name": "stderr",
     "output_type": "stream",
     "text": [
      "               \r"
     ]
    },
    {
     "name": "stdout",
     "output_type": "stream",
     "text": [
      "2024-08-12 08:58:24,537 - ModelPreparer - INFO - Functional         : Adding new module for node: {module_mul_55} \n"
     ]
    },
    {
     "name": "stderr",
     "output_type": "stream",
     "text": [
      "               \r"
     ]
    },
    {
     "name": "stdout",
     "output_type": "stream",
     "text": [
      "2024-08-12 08:58:24,539 - ModelPreparer - INFO - Functional         : Adding new module for node: {module_batch_norm_52} \n"
     ]
    },
    {
     "name": "stderr",
     "output_type": "stream",
     "text": [
      "               \r"
     ]
    },
    {
     "name": "stdout",
     "output_type": "stream",
     "text": [
      "2024-08-12 08:58:24,541 - ModelPreparer - INFO - Functional         : Adding new module for node: {module_mul_56} \n"
     ]
    },
    {
     "name": "stderr",
     "output_type": "stream",
     "text": [
      "               \r"
     ]
    },
    {
     "name": "stdout",
     "output_type": "stream",
     "text": [
      "2024-08-12 08:58:24,543 - ModelPreparer - INFO - Functional         : Adding new module for node: {module_cat_10} \n"
     ]
    },
    {
     "name": "stderr",
     "output_type": "stream",
     "text": [
      "               \r"
     ]
    },
    {
     "name": "stdout",
     "output_type": "stream",
     "text": [
      "2024-08-12 08:58:24,546 - ModelPreparer - INFO - Functional         : Adding new module for node: {module_batch_norm_53} \n"
     ]
    },
    {
     "name": "stderr",
     "output_type": "stream",
     "text": [
      "               \r"
     ]
    },
    {
     "name": "stdout",
     "output_type": "stream",
     "text": [
      "2024-08-12 08:58:24,548 - ModelPreparer - INFO - Functional         : Adding new module for node: {module_mul_57} \n"
     ]
    },
    {
     "name": "stderr",
     "output_type": "stream",
     "text": [
      "               \r"
     ]
    },
    {
     "name": "stdout",
     "output_type": "stream",
     "text": [
      "2024-08-12 08:58:24,551 - ModelPreparer - INFO - Functional         : Adding new module for node: {module_batch_norm_54} \n"
     ]
    },
    {
     "name": "stderr",
     "output_type": "stream",
     "text": [
      "               \r"
     ]
    },
    {
     "name": "stdout",
     "output_type": "stream",
     "text": [
      "2024-08-12 08:58:24,553 - ModelPreparer - INFO - Functional         : Adding new module for node: {module_mul_58} \n"
     ]
    },
    {
     "name": "stderr",
     "output_type": "stream",
     "text": [
      "               \r"
     ]
    },
    {
     "name": "stdout",
     "output_type": "stream",
     "text": [
      "2024-08-12 08:58:24,556 - ModelPreparer - INFO - Functional         : Adding new module for node: {module_cat_11} \n"
     ]
    },
    {
     "name": "stderr",
     "output_type": "stream",
     "text": [
      "               \r"
     ]
    },
    {
     "name": "stdout",
     "output_type": "stream",
     "text": [
      "2024-08-12 08:58:24,559 - ModelPreparer - INFO - Functional         : Adding new module for node: {module_batch_norm_55} \n"
     ]
    },
    {
     "name": "stderr",
     "output_type": "stream",
     "text": [
      "               \r"
     ]
    },
    {
     "name": "stdout",
     "output_type": "stream",
     "text": [
      "2024-08-12 08:58:24,562 - ModelPreparer - INFO - Functional         : Adding new module for node: {module_mul_59} \n"
     ]
    },
    {
     "name": "stderr",
     "output_type": "stream",
     "text": [
      "               \r"
     ]
    },
    {
     "name": "stdout",
     "output_type": "stream",
     "text": [
      "2024-08-12 08:58:24,565 - ModelPreparer - INFO - Functional         : Adding new module for node: {module_batch_norm_56} \n"
     ]
    },
    {
     "name": "stderr",
     "output_type": "stream",
     "text": [
      "               \r"
     ]
    },
    {
     "name": "stdout",
     "output_type": "stream",
     "text": [
      "2024-08-12 08:58:24,567 - ModelPreparer - INFO - Functional         : Adding new module for node: {module_mul_60} \n"
     ]
    },
    {
     "name": "stderr",
     "output_type": "stream",
     "text": [
      "               \r"
     ]
    },
    {
     "name": "stdout",
     "output_type": "stream",
     "text": [
      "2024-08-12 08:58:24,569 - ModelPreparer - INFO - Functional         : Adding new module for node: {module_batch_norm_57} \n"
     ]
    },
    {
     "name": "stderr",
     "output_type": "stream",
     "text": [
      "               \r"
     ]
    },
    {
     "name": "stdout",
     "output_type": "stream",
     "text": [
      "2024-08-12 08:58:24,571 - ModelPreparer - INFO - Functional         : Adding new module for node: {module_mul_61} \n"
     ]
    },
    {
     "name": "stderr",
     "output_type": "stream",
     "text": [
      "               \r"
     ]
    },
    {
     "name": "stdout",
     "output_type": "stream",
     "text": [
      "2024-08-12 08:58:24,574 - ModelPreparer - INFO - Functional         : Adding new module for node: {module_batch_norm_58} \n"
     ]
    },
    {
     "name": "stderr",
     "output_type": "stream",
     "text": [
      "               \r"
     ]
    },
    {
     "name": "stdout",
     "output_type": "stream",
     "text": [
      "2024-08-12 08:58:24,577 - ModelPreparer - INFO - Functional         : Adding new module for node: {module_mul_62} \n"
     ]
    },
    {
     "name": "stderr",
     "output_type": "stream",
     "text": [
      "               \r"
     ]
    },
    {
     "name": "stdout",
     "output_type": "stream",
     "text": [
      "2024-08-12 08:58:24,580 - ModelPreparer - INFO - Functional         : Adding new module for node: {module_batch_norm_59} \n"
     ]
    },
    {
     "name": "stderr",
     "output_type": "stream",
     "text": [
      "               \r"
     ]
    },
    {
     "name": "stdout",
     "output_type": "stream",
     "text": [
      "2024-08-12 08:58:24,582 - ModelPreparer - INFO - Functional         : Adding new module for node: {module_mul_63} \n"
     ]
    },
    {
     "name": "stderr",
     "output_type": "stream",
     "text": [
      "               \r"
     ]
    },
    {
     "name": "stdout",
     "output_type": "stream",
     "text": [
      "2024-08-12 08:58:24,584 - ModelPreparer - INFO - Functional         : Adding new module for node: {module_cat_12} \n"
     ]
    },
    {
     "name": "stderr",
     "output_type": "stream",
     "text": [
      "               \r"
     ]
    },
    {
     "name": "stdout",
     "output_type": "stream",
     "text": [
      "2024-08-12 08:58:24,586 - ModelPreparer - INFO - Functional         : Adding new module for node: {module_batch_norm_60} \n"
     ]
    },
    {
     "name": "stderr",
     "output_type": "stream",
     "text": [
      "               \r"
     ]
    },
    {
     "name": "stdout",
     "output_type": "stream",
     "text": [
      "2024-08-12 08:58:24,588 - ModelPreparer - INFO - Functional         : Adding new module for node: {module_mul_64} \n"
     ]
    },
    {
     "name": "stderr",
     "output_type": "stream",
     "text": [
      "               \r"
     ]
    },
    {
     "name": "stdout",
     "output_type": "stream",
     "text": [
      "2024-08-12 08:58:24,590 - ModelPreparer - INFO - Functional         : Adding new module for node: {module_batch_norm_61} \n"
     ]
    },
    {
     "name": "stderr",
     "output_type": "stream",
     "text": [
      "               \r"
     ]
    },
    {
     "name": "stdout",
     "output_type": "stream",
     "text": [
      "2024-08-12 08:58:24,593 - ModelPreparer - INFO - Functional         : Adding new module for node: {module_mul_65} \n"
     ]
    },
    {
     "name": "stderr",
     "output_type": "stream",
     "text": [
      "               \r"
     ]
    },
    {
     "name": "stdout",
     "output_type": "stream",
     "text": [
      "2024-08-12 08:58:24,595 - ModelPreparer - INFO - Functional         : Adding new module for node: {module_batch_norm_62} \n"
     ]
    },
    {
     "name": "stderr",
     "output_type": "stream",
     "text": [
      "               \r"
     ]
    },
    {
     "name": "stdout",
     "output_type": "stream",
     "text": [
      "2024-08-12 08:58:24,597 - ModelPreparer - INFO - Functional         : Adding new module for node: {module_mul_66} \n"
     ]
    },
    {
     "name": "stderr",
     "output_type": "stream",
     "text": [
      "               \r"
     ]
    },
    {
     "name": "stdout",
     "output_type": "stream",
     "text": [
      "2024-08-12 08:58:24,599 - ModelPreparer - INFO - Functional         : Adding new module for node: {module_batch_norm_63} \n"
     ]
    },
    {
     "name": "stderr",
     "output_type": "stream",
     "text": [
      "               \r"
     ]
    },
    {
     "name": "stdout",
     "output_type": "stream",
     "text": [
      "2024-08-12 08:58:24,602 - ModelPreparer - INFO - Functional         : Adding new module for node: {module_mul_67} \n"
     ]
    },
    {
     "name": "stderr",
     "output_type": "stream",
     "text": [
      "               \r"
     ]
    },
    {
     "name": "stdout",
     "output_type": "stream",
     "text": [
      "2024-08-12 08:58:24,604 - ModelPreparer - INFO - Functional         : Adding new module for node: {module_batch_norm_64} \n"
     ]
    },
    {
     "name": "stderr",
     "output_type": "stream",
     "text": [
      "               \r"
     ]
    },
    {
     "name": "stdout",
     "output_type": "stream",
     "text": [
      "2024-08-12 08:58:24,607 - ModelPreparer - INFO - Functional         : Adding new module for node: {module_mul_68} \n"
     ]
    },
    {
     "name": "stderr",
     "output_type": "stream",
     "text": [
      "               \r"
     ]
    },
    {
     "name": "stdout",
     "output_type": "stream",
     "text": [
      "2024-08-12 08:58:24,609 - ModelPreparer - INFO - Functional         : Adding new module for node: {module_batch_norm_65} \n"
     ]
    },
    {
     "name": "stderr",
     "output_type": "stream",
     "text": [
      "               \r"
     ]
    },
    {
     "name": "stdout",
     "output_type": "stream",
     "text": [
      "2024-08-12 08:58:24,611 - ModelPreparer - INFO - Functional         : Adding new module for node: {module_mul_69} \n"
     ]
    },
    {
     "name": "stderr",
     "output_type": "stream",
     "text": [
      "               \r"
     ]
    },
    {
     "name": "stdout",
     "output_type": "stream",
     "text": [
      "2024-08-12 08:58:24,614 - ModelPreparer - INFO - Functional         : Adding new module for node: {module_batch_norm_66} \n"
     ]
    },
    {
     "name": "stderr",
     "output_type": "stream",
     "text": [
      "               \r"
     ]
    },
    {
     "name": "stdout",
     "output_type": "stream",
     "text": [
      "2024-08-12 08:58:24,616 - ModelPreparer - INFO - Functional         : Adding new module for node: {module_mul_70} \n"
     ]
    },
    {
     "name": "stderr",
     "output_type": "stream",
     "text": [
      "               \r"
     ]
    },
    {
     "name": "stdout",
     "output_type": "stream",
     "text": [
      "2024-08-12 08:58:24,619 - ModelPreparer - INFO - Functional         : Adding new module for node: {module_batch_norm_67} \n"
     ]
    },
    {
     "name": "stderr",
     "output_type": "stream",
     "text": [
      "               \r"
     ]
    },
    {
     "name": "stdout",
     "output_type": "stream",
     "text": [
      "2024-08-12 08:58:24,623 - ModelPreparer - INFO - Functional         : Adding new module for node: {module_mul_71} \n"
     ]
    },
    {
     "name": "stderr",
     "output_type": "stream",
     "text": [
      "               \r"
     ]
    },
    {
     "name": "stdout",
     "output_type": "stream",
     "text": [
      "2024-08-12 08:58:24,626 - ModelPreparer - INFO - Functional         : Adding new module for node: {module_mul_72} \n"
     ]
    },
    {
     "name": "stderr",
     "output_type": "stream",
     "text": [
      "               \r"
     ]
    },
    {
     "name": "stdout",
     "output_type": "stream",
     "text": [
      "2024-08-12 08:58:24,629 - ModelPreparer - INFO - Functional         : Adding new module for node: {module_batch_norm_68} \n"
     ]
    },
    {
     "name": "stderr",
     "output_type": "stream",
     "text": [
      "               \r"
     ]
    },
    {
     "name": "stdout",
     "output_type": "stream",
     "text": [
      "2024-08-12 08:58:24,631 - ModelPreparer - INFO - Functional         : Adding new module for node: {module_mul_73} \n"
     ]
    },
    {
     "name": "stderr",
     "output_type": "stream",
     "text": [
      "               \r"
     ]
    },
    {
     "name": "stdout",
     "output_type": "stream",
     "text": [
      "2024-08-12 08:58:24,634 - ModelPreparer - INFO - Functional         : Adding new module for node: {module_batch_norm_69} \n"
     ]
    },
    {
     "name": "stderr",
     "output_type": "stream",
     "text": [
      "               \r"
     ]
    },
    {
     "name": "stdout",
     "output_type": "stream",
     "text": [
      "2024-08-12 08:58:24,636 - ModelPreparer - INFO - Functional         : Adding new module for node: {module_mul_74} \n"
     ]
    },
    {
     "name": "stderr",
     "output_type": "stream",
     "text": [
      "               \r"
     ]
    },
    {
     "name": "stdout",
     "output_type": "stream",
     "text": [
      "2024-08-12 08:58:24,638 - ModelPreparer - INFO - Functional         : Adding new module for node: {module_batch_norm_70} \n"
     ]
    },
    {
     "name": "stderr",
     "output_type": "stream",
     "text": [
      "               \r"
     ]
    },
    {
     "name": "stdout",
     "output_type": "stream",
     "text": [
      "2024-08-12 08:58:24,641 - ModelPreparer - INFO - Functional         : Adding new module for node: {module_mul_75} \n"
     ]
    },
    {
     "name": "stderr",
     "output_type": "stream",
     "text": [
      "               \r"
     ]
    },
    {
     "name": "stdout",
     "output_type": "stream",
     "text": [
      "2024-08-12 08:58:24,643 - ModelPreparer - INFO - Functional         : Adding new module for node: {module_batch_norm_71} \n"
     ]
    },
    {
     "name": "stderr",
     "output_type": "stream",
     "text": [
      "               \r"
     ]
    },
    {
     "name": "stdout",
     "output_type": "stream",
     "text": [
      "2024-08-12 08:58:24,646 - ModelPreparer - INFO - Functional         : Adding new module for node: {module_mul_76} \n"
     ]
    },
    {
     "name": "stderr",
     "output_type": "stream",
     "text": [
      "               \r"
     ]
    },
    {
     "name": "stdout",
     "output_type": "stream",
     "text": [
      "2024-08-12 08:58:24,648 - ModelPreparer - INFO - Functional         : Adding new module for node: {module_mul_77} \n"
     ]
    },
    {
     "name": "stderr",
     "output_type": "stream",
     "text": [
      "               \r"
     ]
    },
    {
     "name": "stdout",
     "output_type": "stream",
     "text": [
      "2024-08-12 08:58:24,651 - ModelPreparer - INFO - Functional         : Adding new module for node: {module_batch_norm_72} \n"
     ]
    },
    {
     "name": "stderr",
     "output_type": "stream",
     "text": [
      "               \r"
     ]
    },
    {
     "name": "stdout",
     "output_type": "stream",
     "text": [
      "2024-08-12 08:58:24,653 - ModelPreparer - INFO - Functional         : Adding new module for node: {module_mul_78} \n"
     ]
    },
    {
     "name": "stderr",
     "output_type": "stream",
     "text": [
      "               \r"
     ]
    },
    {
     "name": "stdout",
     "output_type": "stream",
     "text": [
      "2024-08-12 08:58:24,656 - ModelPreparer - INFO - Functional         : Adding new module for node: {module_batch_norm_73} \n"
     ]
    },
    {
     "name": "stderr",
     "output_type": "stream",
     "text": [
      "               \r"
     ]
    },
    {
     "name": "stdout",
     "output_type": "stream",
     "text": [
      "2024-08-12 08:58:24,659 - ModelPreparer - INFO - Functional         : Adding new module for node: {module_mul_79} \n"
     ]
    },
    {
     "name": "stderr",
     "output_type": "stream",
     "text": [
      "               \r"
     ]
    },
    {
     "name": "stdout",
     "output_type": "stream",
     "text": [
      "2024-08-12 08:58:24,661 - ModelPreparer - INFO - Functional         : Adding new module for node: {module_batch_norm_74} \n"
     ]
    },
    {
     "name": "stderr",
     "output_type": "stream",
     "text": [
      "               \r"
     ]
    },
    {
     "name": "stdout",
     "output_type": "stream",
     "text": [
      "2024-08-12 08:58:24,664 - ModelPreparer - INFO - Functional         : Adding new module for node: {module_mul_80} \n"
     ]
    },
    {
     "name": "stderr",
     "output_type": "stream",
     "text": [
      "               \r"
     ]
    },
    {
     "name": "stdout",
     "output_type": "stream",
     "text": [
      "2024-08-12 08:58:24,666 - ModelPreparer - INFO - Functional         : Adding new module for node: {module_batch_norm_75} \n"
     ]
    },
    {
     "name": "stderr",
     "output_type": "stream",
     "text": [
      "               \r"
     ]
    },
    {
     "name": "stdout",
     "output_type": "stream",
     "text": [
      "2024-08-12 08:58:24,669 - ModelPreparer - INFO - Functional         : Adding new module for node: {module_mul_81} \n"
     ]
    },
    {
     "name": "stderr",
     "output_type": "stream",
     "text": [
      "               \r"
     ]
    },
    {
     "name": "stdout",
     "output_type": "stream",
     "text": [
      "2024-08-12 08:58:24,671 - ModelPreparer - INFO - Functional         : Adding new module for node: {module_mul_82} \n"
     ]
    },
    {
     "name": "stderr",
     "output_type": "stream",
     "text": [
      "               \r"
     ]
    },
    {
     "name": "stdout",
     "output_type": "stream",
     "text": [
      "2024-08-12 08:58:24,710 - Utils - INFO - Running validator check <function validate_for_reused_modules at 0x7f2b0fe95f30>\n"
     ]
    },
    {
     "name": "stderr",
     "output_type": "stream",
     "text": [
      "               \r"
     ]
    },
    {
     "name": "stdout",
     "output_type": "stream",
     "text": [
      "2024-08-12 08:58:24,741 - Utils - INFO - Running validator check <function validate_for_missing_modules at 0x7f2b0fe95fc0>\n"
     ]
    },
    {
     "name": "stderr",
     "output_type": "stream",
     "text": [
      "               \r"
     ]
    },
    {
     "name": "stdout",
     "output_type": "stream",
     "text": [
      "2024-08-12 08:58:29,042 - Utils - INFO - All validation checks passed.\n"
     ]
    },
    {
     "name": "stderr",
     "output_type": "stream",
     "text": [
      "               \r"
     ]
    },
    {
     "name": "stdout",
     "output_type": "stream",
     "text": [
      "2024-08-12 08:58:29,044 - AutoQuant - INFO - Model validation has succeeded. Proceeding to AutoQuant algorithm.\n"
     ]
    },
    {
     "name": "stderr",
     "output_type": "stream",
     "text": [
      "| Prepare Model\n",
      "                   \r"
     ]
    },
    {
     "name": "stdout",
     "output_type": "stream",
     "text": [
      "2024-08-12 08:58:33,859 - BatchNormFolding - INFO - 0 BatchNorms' weights got converted\n"
     ]
    },
    {
     "name": "stderr",
     "output_type": "stream",
     "text": [
      "                   \r"
     ]
    },
    {
     "name": "stdout",
     "output_type": "stream",
     "text": [
      "2024-08-12 08:58:38,405 - Quant - INFO - No config file provided, defaulting to config file at /usr/local/lib/python3.10/dist-packages/aimet_common/quantsim_config/default_config.json\n"
     ]
    },
    {
     "name": "stderr",
     "output_type": "stream",
     "text": [
      "                   \r"
     ]
    },
    {
     "name": "stdout",
     "output_type": "stream",
     "text": [
      "2024-08-12 08:58:38,436 - Quant - INFO - Unsupported op type Squeeze\n"
     ]
    },
    {
     "name": "stderr",
     "output_type": "stream",
     "text": [
      "                   \r"
     ]
    },
    {
     "name": "stdout",
     "output_type": "stream",
     "text": [
      "2024-08-12 08:58:38,438 - Quant - INFO - Unsupported op type Mean\n"
     ]
    },
    {
     "name": "stderr",
     "output_type": "stream",
     "text": [
      "                   \r"
     ]
    },
    {
     "name": "stdout",
     "output_type": "stream",
     "text": [
      "2024-08-12 08:58:38,453 - Quant - INFO - Selecting DefaultOpInstanceConfigGenerator to compute the specialized config. hw_version:default\n"
     ]
    },
    {
     "name": "stderr",
     "output_type": "stream",
     "text": [
      "- Batchnorm Folding"
     ]
    }
   ],
   "source": [
    "# sim, initial_accuracy = auto_quant.run_inference()\n",
    "model = auto_quant.run_inference()\n"
   ]
  },
  {
   "cell_type": "code",
   "execution_count": null,
   "metadata": {},
   "outputs": [],
   "source": [
    "print(f\"- Quantized A ccuracy (before optimization): {initial_accuracy}\")"
   ]
  },
  {
   "cell_type": "markdown",
   "metadata": {
    "id": "fw7QB3A7Wb9F"
   },
   "source": [
    "### Set AdaRound Parameters (optional)\n",
    "AutoQuant uses a set of predefined default parameters for AdaRound.\n",
    "These values were determined empirically and work well with the common models.\n",
    "However, if necessary, you can also use your custom parameters for Adaround.\n",
    "In this notebook, we will use very small AdaRound parameters for faster execution."
   ]
  },
  {
   "cell_type": "code",
   "execution_count": null,
   "metadata": {
    "id": "7Ei_tpUIWb9F",
    "pycharm": {
     "name": "#%%\n"
    }
   },
   "outputs": [],
   "source": [
    "from aimet_torch.adaround.adaround_weight import AdaroundParameters\n",
    "\n",
    "adaround_params = AdaroundParameters(calibration_data_loader, num_batches=len(calibration_data_loader), default_num_iterations=2000)\n",
    "auto_quant.set_adaround_params(adaround_params)"
   ]
  },
  {
   "cell_type": "markdown",
   "metadata": {
    "id": "G-a5n9AMWb9F"
   },
   "source": [
    "### Run AutoQuant Optimization\n",
    "This step runs AutoQuant optimization, which returns the best possible quantized model, corresponding evaluation score and the path to the encoding file.\n",
    "The **allowed_accuracy_drop** parameter indicates the tolerable amount of accuracy drop. AutoQuant applies a series of quantization features until the target accuracy (FP32 accuracy - allowed accuracy drop) is satisfied. When the target accuracy is reached, AutoQuant will return immediately without applying furhter PTQ techniques. Please refer AutoQuant User Guide and API documentation for complete details."
   ]
  },
  {
   "cell_type": "code",
   "execution_count": null,
   "metadata": {
    "colab": {
     "base_uri": "https://localhost:8080/",
     "height": 1000
    },
    "id": "7ete8ao5Wb9F",
    "outputId": "81b21793-3f19-4ef6-8ea6-76ad08006368"
   },
   "outputs": [],
   "source": [
    "model, optimized_accuracy, encoding_path = auto_quant.optimize(allowed_accuracy_drop=0.01)\n",
    "print(f\"- Quantized Accuracy (after optimization):  {optimized_accuracy}\")"
   ]
  },
  {
   "cell_type": "code",
   "execution_count": null,
   "metadata": {
    "id": "3Btg0rNwCrp5"
   },
   "outputs": [],
   "source": [
    "# model, optimized_accuracy, encoding_path\n"
   ]
  },
  {
   "cell_type": "markdown",
   "metadata": {
    "id": "5k-p5H0WWb9F",
    "pycharm": {
     "name": "#%% md\n"
    }
   },
   "source": [
    "---\n",
    "## Summary\n",
    "\n",
    "Hope this notebook was useful for you to understand how to use AIMET AutoQuant feature.\n",
    "\n",
    "Few additional resources\n",
    "- Refer to the AIMET API docs to know more details of the APIs and parameters\n",
    "- Refer to the other example notebooks to understand how to use AIMET CLE and AdaRound features in a standalone fashion."
   ]
  }
 ],
 "metadata": {
  "colab": {
   "provenance": []
  },
  "kernelspec": {
   "display_name": "Python 3 (ipykernel)",
   "language": "python",
   "name": "python3"
  },
  "language_info": {
   "codemirror_mode": {
    "name": "ipython",
    "version": 3
   },
   "file_extension": ".py",
   "mimetype": "text/x-python",
   "name": "python",
   "nbconvert_exporter": "python",
   "pygments_lexer": "ipython3",
   "version": "3.10.12"
  }
 },
 "nbformat": 4,
 "nbformat_minor": 4
}
