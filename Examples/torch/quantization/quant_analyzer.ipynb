{
 "cells": [
  {
   "cell_type": "markdown",
   "metadata": {
    "collapsed": true
   },
   "source": [
    "# Quant Analyzer\n",
    "\n",
    "This notebook showcases a working code example of how to use AIMET to apply Quant Analyzer.\n",
    "Quant Analyzer is a feature which performs various analyses on a model to understand how each layer in the model responds to quantization.\n",
    "\n",
    "#### Overall flow\n",
    "This notebook covers the following\n",
    "1. Instantiate the example evaluation pipeline\n",
    "2. Load the FP32 model\n",
    "3. Apply QuantAnalyzer to the model\n",
    "\n",
    "\n",
    "#### What this notebook is not\n",
    "* This notebook is not designed to show state-of-the-art results.\n",
    "* For example, it uses a relatively quantization-friendly model like Resnet18.\n",
    "* Also, some optimization parameters are deliberately chosen to have the notebook execute more quickly."
   ]
  },
  {
   "cell_type": "markdown",
   "metadata": {
    "collapsed": false
   },
   "source": [
    "---\n",
    "## Dataset\n",
    "\n",
    "This notebook relies on the ImageNet dataset for the task of image classification. If you already have a version of the dataset readily available, please use that. Else, please download the dataset from appropriate location (e.g. https://image-net.org/challenges/LSVRC/2012/index.php#).\n",
    "\n",
    "**Note1**: The ImageNet dataset typically has the following characteristics and the dataloader provided in this example notebook rely on these\n",
    "- Subfolders 'train' for the training samples and 'val' for the validation samples. Please see the [pytorch dataset description](https://pytorch.org/vision/0.8/_modules/torchvision/datasets/imagenet.html) for more details.\n",
    "- A subdirectory per class, and a file per each image sample\n",
    "\n",
    "**Note2**: To speed up the execution of this notebook, you may use a reduced subset of the ImageNet dataset. E.g. the entire ILSVRC2012 dataset has 1000 classes, 1000 training samples per class and 50 validation samples per class. But for the purpose of running this notebook, you could perhaps reduce the dataset to say 2 samples per class. This exercise is left upto the reader and is not necessary.\n",
    "\n",
    "Edit the cell below and specify the directory where the downloaded ImageNet dataset is saved."
   ]
  },
  {
   "cell_type": "code",
   "execution_count": 1,
   "metadata": {
    "collapsed": false
   },
   "outputs": [],
   "source": [
    "DATASET_DIR = '/home/shayan/Desktop/aimet/Examples/torch/quantization/'         # Replace this path with a real directory"
   ]
  },
  {
   "cell_type": "markdown",
   "metadata": {
    "collapsed": false
   },
   "source": [
    "---\n",
    "\n",
    "## 1. Example evaluation and training pipeline\n",
    "\n",
    "The following is an example training and validation loop for this image classification task.\n",
    "\n",
    "- **Does AIMET have any limitations on how the training, validation pipeline is written?**\n",
    "\n",
    "    Not really. We will see later that AIMET will modify the user's model to create a QuantizationSim model which is still a TensorFlow model.\n",
    "    This QuantizationSim model can be used in place of the original model when doing inference or training.\n",
    "\n",
    "- **Does AIMET put any limitation on the interface of the evaluate() or train() methods?**\n",
    "\n",
    "    Not really. You should be able to use your existing evaluate and train routines as-is."
   ]
  },
  {
   "cell_type": "code",
   "execution_count": 2,
   "metadata": {
    "collapsed": false
   },
   "outputs": [],
   "source": [
    "import sys\n",
    "sys.path.append(\"/home/shayan/Desktop/aimet/\")\n",
    "\n",
    "import torch\n",
    "from Examples.common import image_net_config\n",
    "from Examples.torch.utils.image_net_evaluator import ImageNetEvaluator\n",
    "from Examples.torch.utils.image_net_data_loader import ImageNetDataLoader\n",
    "\n",
    "sys.path.remove(\"/home/shayan/Desktop/aimet/\")\n",
    "\n",
    "class ImageNetDataPipeline:\n",
    "\n",
    "    @staticmethod\n",
    "    def get_val_dataloader() -> torch.utils.data.DataLoader:\n",
    "        \"\"\"\n",
    "        Instantiates a validation dataloader for ImageNet dataset and returns it\n",
    "        \"\"\"\n",
    "        data_loader = ImageNetDataLoader(DATASET_DIR,\n",
    "                                         image_size=image_net_config.dataset['image_size'],\n",
    "                                         batch_size=image_net_config.evaluation['batch_size'],\n",
    "                                         is_training=False,\n",
    "                                         num_workers=image_net_config.evaluation['num_workers']).data_loader\n",
    "        return data_loader\n",
    "\n",
    "    @staticmethod\n",
    "    def evaluate(model: torch.nn.Module, use_cuda: bool) -> float:\n",
    "        \"\"\"\n",
    "        Given a torch model, evaluates its Top-1 accuracy on the dataset\n",
    "        :param model: the model to evaluate\n",
    "        :param use_cuda: whether or not the GPU should be used.\n",
    "        \"\"\"\n",
    "        evaluator = ImageNetEvaluator(DATASET_DIR, image_size=image_net_config.dataset['image_size'],\n",
    "                                      batch_size=image_net_config.evaluation['batch_size'],\n",
    "                                      num_workers=image_net_config.evaluation['num_workers'])\n",
    "\n",
    "        return evaluator.evaluate(model, iterations=None, use_cuda=use_cuda)"
   ]
  },
  {
   "cell_type": "markdown",
   "metadata": {
    "collapsed": false
   },
   "source": [
    "---\n",
    "\n",
    "## 2. Load the model"
   ]
  },
  {
   "cell_type": "markdown",
   "metadata": {
    "collapsed": false
   },
   "source": [
    "For this example notebook, we are going to load a pretrained resnet18 model from torchvision.\n",
    "Similarly, you can load any pretrained PyTorch model instead."
   ]
  },
  {
   "cell_type": "code",
   "execution_count": null,
   "metadata": {
    "collapsed": false
   },
   "outputs": [
    {
     "name": "stderr",
     "output_type": "stream",
     "text": [
      "/usr/local/lib/python3.10/dist-packages/torchvision/models/_utils.py:208: UserWarning: The parameter 'pretrained' is deprecated since 0.13 and may be removed in the future, please use 'weights' instead.\n",
      "  warnings.warn(\n",
      "/usr/local/lib/python3.10/dist-packages/torchvision/models/_utils.py:223: UserWarning: Arguments other than a weight enum or `None` for 'weights' are deprecated since 0.13 and may be removed in the future. The current behavior is equivalent to passing `weights=ResNet18_Weights.IMAGENET1K_V1`. You can also use `weights=ResNet18_Weights.DEFAULT` to get the most up-to-date weights.\n",
      "  warnings.warn(msg)\n"
     ]
    }
   ],
   "source": [
    "from torchvision.models import resnet18\n",
    "\n",
    "model = resnet18(pretrained=True)"
   ]
  },
  {
   "cell_type": "markdown",
   "metadata": {
    "collapsed": false
   },
   "source": [
    "AIMET quantization simulation requires the user's model definition to follow certain guidelines.\n",
    "For example, functionals defined in forward pass should be changed to equivalent torch.nn.Module.\n",
    "AIMET user guide lists all these guidelines.\n",
    "\n",
    "The following **ModelPreparer** API uses new graph transformation feature available in PyTorch 1.9+ version and automates model definition changes required to comply with the above guidelines."
   ]
  },
  {
   "cell_type": "code",
   "execution_count": 4,
   "metadata": {
    "collapsed": false
   },
   "outputs": [
    {
     "name": "stdout",
     "output_type": "stream",
     "text": [
      "2024-12-31 09:48:36,702 - root - INFO - AIMET\n",
      "2024-12-31 09:48:36,751 - ModelPreparer - INFO - Functional         : Adding new module for node: {layer1.0.module_add} \n",
      "2024-12-31 09:48:36,751 - ModelPreparer - INFO - Reused/Duplicate   : Adding new module for node: {layer1.0.module_relu_1} \n",
      "2024-12-31 09:48:36,752 - ModelPreparer - INFO - Functional         : Adding new module for node: {layer1.1.module_add_1} \n",
      "2024-12-31 09:48:36,752 - ModelPreparer - INFO - Reused/Duplicate   : Adding new module for node: {layer1.1.module_relu_1} \n",
      "2024-12-31 09:48:36,752 - ModelPreparer - INFO - Functional         : Adding new module for node: {layer2.0.module_add_2} \n",
      "2024-12-31 09:48:36,753 - ModelPreparer - INFO - Reused/Duplicate   : Adding new module for node: {layer2.0.module_relu_1} \n",
      "2024-12-31 09:48:36,753 - ModelPreparer - INFO - Functional         : Adding new module for node: {layer2.1.module_add_3} \n",
      "2024-12-31 09:48:36,753 - ModelPreparer - INFO - Reused/Duplicate   : Adding new module for node: {layer2.1.module_relu_1} \n",
      "2024-12-31 09:48:36,753 - ModelPreparer - INFO - Functional         : Adding new module for node: {layer3.0.module_add_4} \n",
      "2024-12-31 09:48:36,754 - ModelPreparer - INFO - Reused/Duplicate   : Adding new module for node: {layer3.0.module_relu_1} \n",
      "2024-12-31 09:48:36,754 - ModelPreparer - INFO - Functional         : Adding new module for node: {layer3.1.module_add_5} \n",
      "2024-12-31 09:48:36,754 - ModelPreparer - INFO - Reused/Duplicate   : Adding new module for node: {layer3.1.module_relu_1} \n",
      "2024-12-31 09:48:36,755 - ModelPreparer - INFO - Functional         : Adding new module for node: {layer4.0.module_add_6} \n",
      "2024-12-31 09:48:36,755 - ModelPreparer - INFO - Reused/Duplicate   : Adding new module for node: {layer4.0.module_relu_1} \n",
      "2024-12-31 09:48:36,755 - ModelPreparer - INFO - Functional         : Adding new module for node: {layer4.1.module_add_7} \n",
      "2024-12-31 09:48:36,756 - ModelPreparer - INFO - Reused/Duplicate   : Adding new module for node: {layer4.1.module_relu_1} \n"
     ]
    }
   ],
   "source": [
    "from aimet_torch.model_preparer import prepare_model\n",
    "\n",
    "model = prepare_model(model)"
   ]
  },
  {
   "cell_type": "markdown",
   "metadata": {
    "collapsed": false
   },
   "source": [
    "---\n",
    "We should decide whether to place the model on a CPU or CUDA device.\n",
    "This example code will use CUDA if available in your current execution environment.\n",
    "You can change this logic and force a device placement if needed."
   ]
  },
  {
   "cell_type": "code",
   "execution_count": 5,
   "metadata": {
    "collapsed": false
   },
   "outputs": [],
   "source": [
    "use_cuda = False\n",
    "if torch.cuda.is_available():\n",
    "    use_cuda = True\n",
    "    model.to(torch.device('cuda'))"
   ]
  },
  {
   "cell_type": "markdown",
   "metadata": {
    "collapsed": false
   },
   "source": [
    "---\n",
    "\n",
    "## 3. Apply QuantAnalyzer to the model\n",
    "\n",
    "QuantAnalyzer requires two functions to be defined by the user for passing data through the model:\n",
    "\n",
    "**Forward pass callback**\n",
    "\n",
    "One function will be used to pass representative data through a quantized version of the model to calibrate quantization parameters.\n",
    "This function should be fairly simple - use the existing train or validation data loader to extract some samples and pass them to the model.\n",
    "We don't need to compute any loss metrics, so we can just ignore the model output.\n",
    "\n",
    "The function **must** take two arguments, the first of which will be the model to run the forward pass on.\n",
    "The second argument can be anything additional which the function requires to run, and can be in the form of a single item or a tuple of items.\n",
    "\n",
    "If no additional argument is needed, the user can specify a dummy \"_\" parameter for the function.\n",
    "\n",
    "A few pointers regarding the forward pass data samples:\n",
    "\n",
    "- In practice, we need a very small percentage of the overall data samples for computing encodings.\n",
    "  For example, the training dataset for ImageNet has 1M samples. For computing encodings we only need 500 to 1000 samples.\n",
    "- It may be beneficial if the samples used for computing encoding are well distributed.\n",
    "  It's not necessary that all classes need to be covered since we are only looking at the range of values at every layer activation.\n",
    "  However, we definitely want to avoid an extreme scenario like all 'dark' or 'light' samples are used - e.g. only using pictures captured at night might not give ideal results.\n",
    "\n",
    "The following shows an example of a routine that passes unlabeled samples through the model for computing encodings.\n",
    "This routine can be written in many ways; this is just an example.\n",
    "This function only requires unlabeled data as no loss or other evaluation metric is needed."
   ]
  },
  {
   "cell_type": "code",
   "execution_count": 6,
   "metadata": {
    "collapsed": false
   },
   "outputs": [],
   "source": [
    "\n",
    "def pass_calibration_data(sim_model, use_cuda):\n",
    "    data_loader = ImageNetDataPipeline.get_val_dataloader()\n",
    "    batch_size = data_loader.batch_size\n",
    "\n",
    "    if use_cuda:\n",
    "        device = torch.device('cuda')\n",
    "    else:\n",
    "        device = torch.device('cpu')\n",
    "\n",
    "    sim_model.eval()\n",
    "    samples = 1000\n",
    "\n",
    "    batch_cntr = 0\n",
    "    idx = 0\n",
    "    with torch.no_grad():\n",
    "        for path, input_data, target_data in data_loader:\n",
    "            # if \"cf\" in path[0] or \"c3138\" in path[0]:\n",
    "            # if \"cf\" in path[0]:\n",
    "                # continue\n",
    "            print(path)\n",
    "            inputs_batch = input_data.to(device)\n",
    "            sim_model(inputs_batch)\n",
    "            break\n"
   ]
  },
  {
   "cell_type": "markdown",
   "metadata": {
    "collapsed": false
   },
   "source": [
    "In order to pass this function to QuantAnalyzer, we need to wrap it in a CallbackFunc object, as shown below.\n",
    "The CallbackFunc takes two arguments: the callback function itself, and the inputs to pass into the callback function."
   ]
  },
  {
   "cell_type": "code",
   "execution_count": 7,
   "metadata": {
    "collapsed": false
   },
   "outputs": [],
   "source": [
    "from aimet_torch.v1.quant_analyzer import CallbackFunc\n",
    "\n",
    "forward_pass_callback = CallbackFunc(pass_calibration_data, use_cuda)"
   ]
  },
  {
   "cell_type": "markdown",
   "metadata": {
    "collapsed": false
   },
   "source": [
    "---\n",
    "\n",
    "**Evaluation callback**\n",
    "\n",
    "The second function will be used to evaluate the model, and needs to return an accuracy metric.\n",
    "In here, the user should pass any amount of data through the model which they would like when evaluating their model for accuracy.\n",
    "\n",
    "Like the forward pass callback, this function also must take exactly two arguments: the model to evaluate, and any additional argument needed for the function to work.\n",
    "The second argument can be a tuple of items in case multiple items are needed.\n",
    "\n",
    "We will be using the ImageNetDataPipeline's evaluate defined above for this purpose.\n",
    "Like the forward pass callback, we need to wrap the evaluation callback in a CallbackFunc object as well."
   ]
  },
  {
   "cell_type": "code",
   "execution_count": 8,
   "metadata": {
    "collapsed": false
   },
   "outputs": [],
   "source": [
    "eval_callback = CallbackFunc(ImageNetDataPipeline.evaluate, use_cuda)"
   ]
  },
  {
   "cell_type": "markdown",
   "metadata": {
    "collapsed": false
   },
   "source": [
    "---\n",
    "\n",
    "**Enabling MSE loss per layer analysis**\n",
    "\n",
    "An optional analysis step in QuantAnalyzer calculates the MSE loss per layer in the model, comparing the layer outputs from the original FP32 model vs. a quantized model.\n",
    "To perform this step, the user needs to also provide an unlabeled DataLoader to QuantAnalyzer.\n",
    "\n",
    "We will demonstrate this step by using the ImageNetDataLoader imported above."
   ]
  },
  {
   "cell_type": "code",
   "execution_count": 9,
   "metadata": {
    "collapsed": false
   },
   "outputs": [
    {
     "data": {
      "text/plain": [
       "1"
      ]
     },
     "execution_count": 9,
     "metadata": {},
     "output_type": "execute_result"
    }
   ],
   "source": [
    "data_loader = ImageNetDataPipeline.get_val_dataloader()\n",
    "\n",
    "data_loader.batch_size"
   ]
  },
  {
   "cell_type": "markdown",
   "metadata": {
    "collapsed": false
   },
   "source": [
    "---\n",
    "\n",
    "QuantAnalyzer also requires a dummy input to the model.\n",
    "This dummy input does not need to be representative of the dataset.\n",
    "All that matters is that the input shape is correct for the model to run on."
   ]
  },
  {
   "cell_type": "code",
   "execution_count": 10,
   "metadata": {
    "collapsed": false
   },
   "outputs": [],
   "source": [
    "dummy_input = torch.rand(1, 3, 224, 224)    # Shape for each ImageNet sample is (3 channels) x (224 height) x (224 width)\n",
    "if use_cuda:\n",
    "    dummy_input = dummy_input.cuda()"
   ]
  },
  {
   "cell_type": "markdown",
   "metadata": {
    "collapsed": false
   },
   "source": [
    "---\n",
    "We are now ready to apply QuantAnalyzer."
   ]
  },
  {
   "cell_type": "code",
   "execution_count": 11,
   "metadata": {
    "collapsed": false
   },
   "outputs": [],
   "source": [
    "from aimet_torch.v1.quant_analyzer import QuantAnalyzer\n",
    "\n",
    "quant_analyzer = QuantAnalyzer(model, dummy_input, forward_pass_callback, eval_callback)"
   ]
  },
  {
   "cell_type": "markdown",
   "metadata": {
    "collapsed": false
   },
   "source": [
    "To enable the MSE loss analysis, we set the following:"
   ]
  },
  {
   "cell_type": "code",
   "execution_count": 12,
   "metadata": {
    "collapsed": false
   },
   "outputs": [],
   "source": [
    "quant_analyzer.enable_per_layer_mse_loss(data_loader, num_batches=1)"
   ]
  },
  {
   "cell_type": "markdown",
   "metadata": {
    "collapsed": false
   },
   "source": [
    "Finally, to start the analyzer, we call .analyze().\n",
    "\n",
    "A few of the parameters are explained here:\n",
    "- **quant_scheme**:\n",
    "    - We set this to \"post_training_tf_enhanced\"\n",
    "      With this choice of quant scheme, AIMET will use the TF Enhanced quant scheme to initialize the quantization parameters like scale/offset.\n",
    "- **default_output_bw**: Setting this to 8 means that we are asking AIMET to perform all activation quantizations in the model using integer 8-bit precision.\n",
    "- **default_param_bw**: Setting this to 8 means that we are asking AIMET to perform all parameter quantizations in the model using integer 8-bit precision.\n",
    "\n",
    "There are other parameters that are set to default values in this example.\n",
    "Please check the AIMET API documentation of QuantizationSimModel to see reference documentation for all the parameters.\n",
    "\n",
    "When you call the analyze method, the following analyses are run:\n",
    "\n",
    "- Compare fp32 accuracy, accuracy with only parameters quantized, and accuracy with only activations quantized\n",
    "- For each layer, track the model accuracy when quantization for all other layers is disabled (enabling quantization for only one layer in the model at a time)\n",
    "- For each layer, track the model accuracy when quantization for all other layers is enabled (disabling quantization for only one layer in the model at a time)\n",
    "- Track the minimum and maximum encoding parameters calculated by each quantizer in the model as a result of forward passes through the model with representative data\n",
    "- When the TF Enhanced quantization scheme is used, track the histogram of tensor ranges seen by each quantizer in the model as a result of forward passes through the model with representative data\n",
    "- If enabled, track the MSE loss seen at each layer by comparing layer outputs of the original fp32 model vs. a quantized model"
   ]
  },
  {
   "cell_type": "code",
   "execution_count": 13,
   "metadata": {
    "collapsed": false
   },
   "outputs": [
    {
     "name": "stdout",
     "output_type": "stream",
     "text": [
      "[2024-12-31 09:48:37,260] [WARNING] [real_accelerator.py:162:get_accelerator] Setting accelerator to CPU. If you have GPU or other accelerator, we were unable to detect it.\n",
      "[2024-12-31 09:48:37,261] [INFO] [real_accelerator.py:203:get_accelerator] Setting ds_accelerator to cpu (auto detect)\n",
      "2024-12-31 09:48:38,276 - Quant - INFO - Unsupported op type Squeeze\n",
      "2024-12-31 09:48:38,276 - Quant - INFO - Unsupported op type Mean\n",
      "2024-12-31 09:48:38,278 - Quant - INFO - Selecting DefaultOpInstanceConfigGenerator to compute the specialized config. hw_version:default\n",
      "('/home/shayan/Desktop/aimet/Examples/torch/quantization/val/9/cf135f199d8c7a9d0dce9aa35acfb4c70c14e0aa.jpeg',)\n",
      "2024-12-31 09:48:38,485 - Quant - WARNING - Exporting encodings to yaml will be deprecated in a future release. Ensure that your code can work with the exported files ending in \".encodings\" which are saved using json format. For the time being, if yaml export is needed, set aimet_common.utils.SAVE_TO_YAML to True.\n",
      "2024-12-31 09:48:39,085 - Utils - INFO - successfully created onnx model with 48/49 node names updated\n",
      "2024-12-31 09:48:39,235 - Quant - INFO - Layers excluded from quantization: []\n",
      "Exported Quantsim model to /home/shayan/Desktop/aimet/quant_analyzer/temp_enhanced/quantsim_model\n",
      "2024-12-31 09:48:39,242 - Eval - INFO - No value of iteration is provided, running evaluation on complete dataset.\n",
      "2024-12-31 09:48:39,243 - Eval - INFO - Evaluating nn.Module for 3 iterations with batch_size 1\n"
     ]
    },
    {
     "name": "stderr",
     "output_type": "stream",
     "text": [
      "  0%|          | 0/3 [00:00<?, ?it/s]"
     ]
    },
    {
     "name": "stdout",
     "output_type": "stream",
     "text": [
      "('/home/shayan/Desktop/aimet/Examples/torch/quantization/val/9/cf135f199d8c7a9d0dce9aa35acfb4c70c14e0aa.jpeg',)\n"
     ]
    },
    {
     "name": "stderr",
     "output_type": "stream",
     "text": [
      "  0%|          | 0/3 [00:00<?, ?it/s]"
     ]
    },
    {
     "name": "stdout",
     "output_type": "stream",
     "text": [
      "2024-12-31 09:48:39,320 - Eval - INFO - Avg accuracy Top 1: 0.000000 Avg accuracy Top 5: 0.000000 on validation Dataset\n",
      "2024-12-31 09:48:39,321 - QuantAnalyzer - INFO - FP32 eval score (W32A32): 0.000000\n",
      "2024-12-31 09:48:39,323 - Eval - INFO - No value of iteration is provided, running evaluation on complete dataset.\n",
      "2024-12-31 09:48:39,323 - Eval - INFO - Evaluating nn.Module for 3 iterations with batch_size 1\n"
     ]
    },
    {
     "name": "stderr",
     "output_type": "stream",
     "text": [
      "\n",
      "  0%|          | 0/3 [00:00<?, ?it/s]"
     ]
    },
    {
     "name": "stdout",
     "output_type": "stream",
     "text": [
      "('/home/shayan/Desktop/aimet/Examples/torch/quantization/val/9/cf135f199d8c7a9d0dce9aa35acfb4c70c14e0aa.jpeg',)\n"
     ]
    },
    {
     "name": "stderr",
     "output_type": "stream",
     "text": [
      "  0%|          | 0/3 [00:00<?, ?it/s]\n"
     ]
    },
    {
     "name": "stdout",
     "output_type": "stream",
     "text": [
      "2024-12-31 09:48:39,516 - Eval - INFO - Avg accuracy Top 1: 0.000000 Avg accuracy Top 5: 0.000000 on validation Dataset\n",
      "2024-12-31 09:48:39,517 - QuantAnalyzer - INFO - Weight-quantized eval score (W8A32): 0.000000\n",
      "2024-12-31 09:48:39,518 - Eval - INFO - No value of iteration is provided, running evaluation on complete dataset.\n",
      "2024-12-31 09:48:39,519 - Eval - INFO - Evaluating nn.Module for 3 iterations with batch_size 1\n"
     ]
    },
    {
     "name": "stderr",
     "output_type": "stream",
     "text": [
      "  0%|          | 0/3 [00:00<?, ?it/s]"
     ]
    },
    {
     "name": "stdout",
     "output_type": "stream",
     "text": [
      "('/home/shayan/Desktop/aimet/Examples/torch/quantization/val/9/cf135f199d8c7a9d0dce9aa35acfb4c70c14e0aa.jpeg',)\n"
     ]
    },
    {
     "name": "stderr",
     "output_type": "stream",
     "text": [
      "  0%|          | 0/3 [00:00<?, ?it/s]"
     ]
    },
    {
     "name": "stdout",
     "output_type": "stream",
     "text": [
      "2024-12-31 09:48:39,641 - Eval - INFO - Avg accuracy Top 1: 0.000000 Avg accuracy Top 5: 0.000000 on validation Dataset\n",
      "2024-12-31 09:48:39,642 - QuantAnalyzer - INFO - Activation-quantized eval score (W32A8): 0.000000\n",
      "2024-12-31 09:48:39,642 - QuantAnalyzer - INFO - \n",
      "OPTION-1:\n",
      "All the quant wrappers are disabled.\n",
      "Starting per-layer analysis by enabling quant wrappers as per config file.\n"
     ]
    },
    {
     "name": "stderr",
     "output_type": "stream",
     "text": [
      "\n"
     ]
    },
    {
     "name": "stdout",
     "output_type": "stream",
     "text": [
      "2024-12-31 09:48:39,758 - Eval - INFO - No value of iteration is provided, running evaluation on complete dataset.\n",
      "2024-12-31 09:48:39,758 - Eval - INFO - Evaluating nn.Module for 3 iterations with batch_size 1\n"
     ]
    },
    {
     "name": "stderr",
     "output_type": "stream",
     "text": [
      "  0%|          | 0/3 [00:00<?, ?it/s]"
     ]
    },
    {
     "name": "stdout",
     "output_type": "stream",
     "text": [
      "('/home/shayan/Desktop/aimet/Examples/torch/quantization/val/9/cf135f199d8c7a9d0dce9aa35acfb4c70c14e0aa.jpeg',)\n"
     ]
    },
    {
     "name": "stderr",
     "output_type": "stream",
     "text": [
      "  0%|          | 0/3 [00:00<?, ?it/s]"
     ]
    },
    {
     "name": "stdout",
     "output_type": "stream",
     "text": [
      "2024-12-31 09:48:39,874 - Eval - INFO - Avg accuracy Top 1: 0.000000 Avg accuracy Top 5: 0.000000 on validation Dataset\n",
      "2024-12-31 09:48:39,876 - Eval - INFO - No value of iteration is provided, running evaluation on complete dataset.\n",
      "2024-12-31 09:48:39,876 - Eval - INFO - Evaluating nn.Module for 3 iterations with batch_size 1\n"
     ]
    },
    {
     "name": "stderr",
     "output_type": "stream",
     "text": [
      "\n",
      "  0%|          | 0/3 [00:00<?, ?it/s]"
     ]
    },
    {
     "name": "stdout",
     "output_type": "stream",
     "text": [
      "('/home/shayan/Desktop/aimet/Examples/torch/quantization/val/9/cf135f199d8c7a9d0dce9aa35acfb4c70c14e0aa.jpeg',)\n"
     ]
    },
    {
     "name": "stderr",
     "output_type": "stream",
     "text": [
      "  0%|          | 0/3 [00:00<?, ?it/s]\n"
     ]
    },
    {
     "name": "stdout",
     "output_type": "stream",
     "text": [
      "2024-12-31 09:48:39,998 - Eval - INFO - Avg accuracy Top 1: 0.000000 Avg accuracy Top 5: 0.000000 on validation Dataset\n",
      "2024-12-31 09:48:40,000 - Eval - INFO - No value of iteration is provided, running evaluation on complete dataset.\n",
      "2024-12-31 09:48:40,000 - Eval - INFO - Evaluating nn.Module for 3 iterations with batch_size 1\n"
     ]
    },
    {
     "name": "stderr",
     "output_type": "stream",
     "text": [
      "  0%|          | 0/3 [00:00<?, ?it/s]"
     ]
    },
    {
     "name": "stdout",
     "output_type": "stream",
     "text": [
      "('/home/shayan/Desktop/aimet/Examples/torch/quantization/val/9/cf135f199d8c7a9d0dce9aa35acfb4c70c14e0aa.jpeg',)\n"
     ]
    },
    {
     "name": "stderr",
     "output_type": "stream",
     "text": [
      "  0%|          | 0/3 [00:00<?, ?it/s]\n"
     ]
    },
    {
     "name": "stdout",
     "output_type": "stream",
     "text": [
      "2024-12-31 09:48:40,101 - Eval - INFO - Avg accuracy Top 1: 0.000000 Avg accuracy Top 5: 0.000000 on validation Dataset\n",
      "2024-12-31 09:48:40,103 - Eval - INFO - No value of iteration is provided, running evaluation on complete dataset.\n",
      "2024-12-31 09:48:40,104 - Eval - INFO - Evaluating nn.Module for 3 iterations with batch_size 1\n"
     ]
    },
    {
     "name": "stderr",
     "output_type": "stream",
     "text": [
      "  0%|          | 0/3 [00:00<?, ?it/s]"
     ]
    },
    {
     "name": "stdout",
     "output_type": "stream",
     "text": [
      "('/home/shayan/Desktop/aimet/Examples/torch/quantization/val/9/cf135f199d8c7a9d0dce9aa35acfb4c70c14e0aa.jpeg',)\n",
      "2024-12-31 09:48:40,203 - Eval - INFO - Avg accuracy Top 1: 0.000000 Avg accuracy Top 5: 0.000000 on validation Dataset\n",
      "2024-12-31 09:48:40,205 - Eval - INFO - No value of iteration is provided, running evaluation on complete dataset.\n",
      "2024-12-31 09:48:40,205 - Eval - INFO - Evaluating nn.Module for 3 iterations with batch_size 1\n"
     ]
    },
    {
     "name": "stderr",
     "output_type": "stream",
     "text": [
      "\n",
      "  0%|          | 0/3 [00:00<?, ?it/s]"
     ]
    },
    {
     "name": "stdout",
     "output_type": "stream",
     "text": [
      "('/home/shayan/Desktop/aimet/Examples/torch/quantization/val/9/cf135f199d8c7a9d0dce9aa35acfb4c70c14e0aa.jpeg',)\n",
      "2024-12-31 09:48:40,317 - Eval - INFO - Avg accuracy Top 1: 0.000000 Avg accuracy Top 5: 0.000000 on validation Dataset\n"
     ]
    },
    {
     "name": "stderr",
     "output_type": "stream",
     "text": [
      "\n"
     ]
    },
    {
     "name": "stdout",
     "output_type": "stream",
     "text": [
      "2024-12-31 09:48:40,319 - Eval - INFO - No value of iteration is provided, running evaluation on complete dataset.\n",
      "2024-12-31 09:48:40,320 - Eval - INFO - Evaluating nn.Module for 3 iterations with batch_size 1\n"
     ]
    },
    {
     "name": "stderr",
     "output_type": "stream",
     "text": [
      "  0%|          | 0/3 [00:00<?, ?it/s]"
     ]
    },
    {
     "name": "stdout",
     "output_type": "stream",
     "text": [
      "('/home/shayan/Desktop/aimet/Examples/torch/quantization/val/9/cf135f199d8c7a9d0dce9aa35acfb4c70c14e0aa.jpeg',)\n"
     ]
    },
    {
     "name": "stderr",
     "output_type": "stream",
     "text": [
      "  0%|          | 0/3 [00:00<?, ?it/s]\n"
     ]
    },
    {
     "name": "stdout",
     "output_type": "stream",
     "text": [
      "2024-12-31 09:48:40,434 - Eval - INFO - Avg accuracy Top 1: 0.000000 Avg accuracy Top 5: 0.000000 on validation Dataset\n",
      "2024-12-31 09:48:40,436 - Eval - INFO - No value of iteration is provided, running evaluation on complete dataset.\n",
      "2024-12-31 09:48:40,436 - Eval - INFO - Evaluating nn.Module for 3 iterations with batch_size 1\n"
     ]
    },
    {
     "name": "stderr",
     "output_type": "stream",
     "text": [
      "  0%|          | 0/3 [00:00<?, ?it/s]"
     ]
    },
    {
     "name": "stdout",
     "output_type": "stream",
     "text": [
      "('/home/shayan/Desktop/aimet/Examples/torch/quantization/val/9/cf135f199d8c7a9d0dce9aa35acfb4c70c14e0aa.jpeg',)\n"
     ]
    },
    {
     "name": "stderr",
     "output_type": "stream",
     "text": [
      "  0%|          | 0/3 [00:00<?, ?it/s]"
     ]
    },
    {
     "name": "stdout",
     "output_type": "stream",
     "text": [
      "2024-12-31 09:48:40,550 - Eval - INFO - Avg accuracy Top 1: 0.000000 Avg accuracy Top 5: 0.000000 on validation Dataset\n",
      "2024-12-31 09:48:40,552 - Eval - INFO - No value of iteration is provided, running evaluation on complete dataset.\n",
      "2024-12-31 09:48:40,552 - Eval - INFO - Evaluating nn.Module for 3 iterations with batch_size 1\n"
     ]
    },
    {
     "name": "stderr",
     "output_type": "stream",
     "text": [
      "\n",
      "  0%|          | 0/3 [00:00<?, ?it/s]"
     ]
    },
    {
     "name": "stdout",
     "output_type": "stream",
     "text": [
      "('/home/shayan/Desktop/aimet/Examples/torch/quantization/val/9/cf135f199d8c7a9d0dce9aa35acfb4c70c14e0aa.jpeg',)\n",
      "2024-12-31 09:48:40,644 - Eval - INFO - Avg accuracy Top 1: 0.000000 Avg accuracy Top 5: 0.000000 on validation Dataset\n",
      "2024-12-31 09:48:40,645 - Eval - INFO - No value of iteration is provided, running evaluation on complete dataset.\n",
      "2024-12-31 09:48:40,646 - Eval - INFO - Evaluating nn.Module for 3 iterations with batch_size 1\n"
     ]
    },
    {
     "name": "stderr",
     "output_type": "stream",
     "text": [
      "\n",
      "  0%|          | 0/3 [00:00<?, ?it/s]\n"
     ]
    },
    {
     "name": "stdout",
     "output_type": "stream",
     "text": [
      "('/home/shayan/Desktop/aimet/Examples/torch/quantization/val/9/cf135f199d8c7a9d0dce9aa35acfb4c70c14e0aa.jpeg',)\n",
      "2024-12-31 09:48:40,750 - Eval - INFO - Avg accuracy Top 1: 0.000000 Avg accuracy Top 5: 0.000000 on validation Dataset\n",
      "2024-12-31 09:48:40,752 - Eval - INFO - No value of iteration is provided, running evaluation on complete dataset.\n",
      "2024-12-31 09:48:40,752 - Eval - INFO - Evaluating nn.Module for 3 iterations with batch_size 1\n"
     ]
    },
    {
     "name": "stderr",
     "output_type": "stream",
     "text": [
      "  0%|          | 0/3 [00:00<?, ?it/s]"
     ]
    },
    {
     "name": "stdout",
     "output_type": "stream",
     "text": [
      "('/home/shayan/Desktop/aimet/Examples/torch/quantization/val/9/cf135f199d8c7a9d0dce9aa35acfb4c70c14e0aa.jpeg',)\n",
      "2024-12-31 09:48:40,857 - Eval - INFO - Avg accuracy Top 1: 0.000000 Avg accuracy Top 5: 0.000000 on validation Dataset\n",
      "2024-12-31 09:48:40,859 - Eval - INFO - No value of iteration is provided, running evaluation on complete dataset.\n"
     ]
    },
    {
     "name": "stderr",
     "output_type": "stream",
     "text": [
      "\n"
     ]
    },
    {
     "name": "stdout",
     "output_type": "stream",
     "text": [
      "2024-12-31 09:48:40,859 - Eval - INFO - Evaluating nn.Module for 3 iterations with batch_size 1\n"
     ]
    },
    {
     "name": "stderr",
     "output_type": "stream",
     "text": [
      "  0%|          | 0/3 [00:00<?, ?it/s]"
     ]
    },
    {
     "name": "stdout",
     "output_type": "stream",
     "text": [
      "('/home/shayan/Desktop/aimet/Examples/torch/quantization/val/9/cf135f199d8c7a9d0dce9aa35acfb4c70c14e0aa.jpeg',)\n"
     ]
    },
    {
     "name": "stderr",
     "output_type": "stream",
     "text": [
      "  0%|          | 0/3 [00:00<?, ?it/s]\n"
     ]
    },
    {
     "name": "stdout",
     "output_type": "stream",
     "text": [
      "2024-12-31 09:48:40,974 - Eval - INFO - Avg accuracy Top 1: 0.000000 Avg accuracy Top 5: 0.000000 on validation Dataset\n",
      "2024-12-31 09:48:40,976 - Eval - INFO - No value of iteration is provided, running evaluation on complete dataset.\n",
      "2024-12-31 09:48:40,977 - Eval - INFO - Evaluating nn.Module for 3 iterations with batch_size 1\n"
     ]
    },
    {
     "name": "stderr",
     "output_type": "stream",
     "text": [
      "  0%|          | 0/3 [00:00<?, ?it/s]"
     ]
    },
    {
     "name": "stdout",
     "output_type": "stream",
     "text": [
      "('/home/shayan/Desktop/aimet/Examples/torch/quantization/val/9/cf135f199d8c7a9d0dce9aa35acfb4c70c14e0aa.jpeg',)\n"
     ]
    },
    {
     "name": "stderr",
     "output_type": "stream",
     "text": [
      "  0%|          | 0/3 [00:00<?, ?it/s]\n"
     ]
    },
    {
     "name": "stdout",
     "output_type": "stream",
     "text": [
      "2024-12-31 09:48:41,076 - Eval - INFO - Avg accuracy Top 1: 0.000000 Avg accuracy Top 5: 0.000000 on validation Dataset\n",
      "2024-12-31 09:48:41,078 - Eval - INFO - No value of iteration is provided, running evaluation on complete dataset.\n",
      "2024-12-31 09:48:41,078 - Eval - INFO - Evaluating nn.Module for 3 iterations with batch_size 1\n"
     ]
    },
    {
     "name": "stderr",
     "output_type": "stream",
     "text": [
      "  0%|          | 0/3 [00:00<?, ?it/s]\n"
     ]
    },
    {
     "name": "stdout",
     "output_type": "stream",
     "text": [
      "('/home/shayan/Desktop/aimet/Examples/torch/quantization/val/9/cf135f199d8c7a9d0dce9aa35acfb4c70c14e0aa.jpeg',)\n",
      "2024-12-31 09:48:41,173 - Eval - INFO - Avg accuracy Top 1: 0.000000 Avg accuracy Top 5: 0.000000 on validation Dataset\n",
      "2024-12-31 09:48:41,175 - Eval - INFO - No value of iteration is provided, running evaluation on complete dataset.\n",
      "2024-12-31 09:48:41,176 - Eval - INFO - Evaluating nn.Module for 3 iterations with batch_size 1\n"
     ]
    },
    {
     "name": "stderr",
     "output_type": "stream",
     "text": [
      "  0%|          | 0/3 [00:00<?, ?it/s]"
     ]
    },
    {
     "name": "stdout",
     "output_type": "stream",
     "text": [
      "('/home/shayan/Desktop/aimet/Examples/torch/quantization/val/9/cf135f199d8c7a9d0dce9aa35acfb4c70c14e0aa.jpeg',)\n"
     ]
    },
    {
     "name": "stderr",
     "output_type": "stream",
     "text": [
      "  0%|          | 0/3 [00:00<?, ?it/s]\n"
     ]
    },
    {
     "name": "stdout",
     "output_type": "stream",
     "text": [
      "2024-12-31 09:48:41,277 - Eval - INFO - Avg accuracy Top 1: 0.000000 Avg accuracy Top 5: 0.000000 on validation Dataset\n",
      "2024-12-31 09:48:41,279 - Eval - INFO - No value of iteration is provided, running evaluation on complete dataset.\n",
      "2024-12-31 09:48:41,279 - Eval - INFO - Evaluating nn.Module for 3 iterations with batch_size 1\n"
     ]
    },
    {
     "name": "stderr",
     "output_type": "stream",
     "text": [
      "  0%|          | 0/3 [00:00<?, ?it/s]"
     ]
    },
    {
     "name": "stdout",
     "output_type": "stream",
     "text": [
      "('/home/shayan/Desktop/aimet/Examples/torch/quantization/val/9/cf135f199d8c7a9d0dce9aa35acfb4c70c14e0aa.jpeg',)\n"
     ]
    },
    {
     "name": "stderr",
     "output_type": "stream",
     "text": [
      "  0%|          | 0/3 [00:00<?, ?it/s]"
     ]
    },
    {
     "name": "stdout",
     "output_type": "stream",
     "text": [
      "2024-12-31 09:48:41,379 - Eval - INFO - Avg accuracy Top 1: 0.000000 Avg accuracy Top 5: 0.000000 on validation Dataset\n",
      "2024-12-31 09:48:41,381 - Eval - INFO - No value of iteration is provided, running evaluation on complete dataset.\n",
      "2024-12-31 09:48:41,381 - Eval - INFO - Evaluating nn.Module for 3 iterations with batch_size 1\n"
     ]
    },
    {
     "name": "stderr",
     "output_type": "stream",
     "text": [
      "\n",
      "  0%|          | 0/3 [00:00<?, ?it/s]"
     ]
    },
    {
     "name": "stdout",
     "output_type": "stream",
     "text": [
      "('/home/shayan/Desktop/aimet/Examples/torch/quantization/val/9/cf135f199d8c7a9d0dce9aa35acfb4c70c14e0aa.jpeg',)\n"
     ]
    },
    {
     "name": "stderr",
     "output_type": "stream",
     "text": [
      "  0%|          | 0/3 [00:00<?, ?it/s]\n"
     ]
    },
    {
     "name": "stdout",
     "output_type": "stream",
     "text": [
      "2024-12-31 09:48:41,499 - Eval - INFO - Avg accuracy Top 1: 0.000000 Avg accuracy Top 5: 0.000000 on validation Dataset\n",
      "2024-12-31 09:48:41,501 - Eval - INFO - No value of iteration is provided, running evaluation on complete dataset.\n",
      "2024-12-31 09:48:41,501 - Eval - INFO - Evaluating nn.Module for 3 iterations with batch_size 1\n"
     ]
    },
    {
     "name": "stderr",
     "output_type": "stream",
     "text": [
      "  0%|          | 0/3 [00:00<?, ?it/s]"
     ]
    },
    {
     "name": "stdout",
     "output_type": "stream",
     "text": [
      "('/home/shayan/Desktop/aimet/Examples/torch/quantization/val/9/cf135f199d8c7a9d0dce9aa35acfb4c70c14e0aa.jpeg',)\n"
     ]
    },
    {
     "name": "stderr",
     "output_type": "stream",
     "text": [
      "  0%|          | 0/3 [00:00<?, ?it/s]"
     ]
    },
    {
     "name": "stdout",
     "output_type": "stream",
     "text": [
      "2024-12-31 09:48:41,618 - Eval - INFO - Avg accuracy Top 1: 0.000000 Avg accuracy Top 5: 0.000000 on validation Dataset\n",
      "2024-12-31 09:48:41,620 - Eval - INFO - No value of iteration is provided, running evaluation on complete dataset.\n",
      "2024-12-31 09:48:41,621 - Eval - INFO - Evaluating nn.Module for 3 iterations with batch_size 1\n"
     ]
    },
    {
     "name": "stderr",
     "output_type": "stream",
     "text": [
      "\n",
      "  0%|          | 0/3 [00:00<?, ?it/s]"
     ]
    },
    {
     "name": "stdout",
     "output_type": "stream",
     "text": [
      "('/home/shayan/Desktop/aimet/Examples/torch/quantization/val/9/cf135f199d8c7a9d0dce9aa35acfb4c70c14e0aa.jpeg',)\n"
     ]
    },
    {
     "name": "stderr",
     "output_type": "stream",
     "text": [
      "  0%|          | 0/3 [00:00<?, ?it/s]\n"
     ]
    },
    {
     "name": "stdout",
     "output_type": "stream",
     "text": [
      "2024-12-31 09:48:41,720 - Eval - INFO - Avg accuracy Top 1: 0.000000 Avg accuracy Top 5: 0.000000 on validation Dataset\n",
      "2024-12-31 09:48:41,722 - Eval - INFO - No value of iteration is provided, running evaluation on complete dataset.\n",
      "2024-12-31 09:48:41,722 - Eval - INFO - Evaluating nn.Module for 3 iterations with batch_size 1\n"
     ]
    },
    {
     "name": "stderr",
     "output_type": "stream",
     "text": [
      "  0%|          | 0/3 [00:00<?, ?it/s]"
     ]
    },
    {
     "name": "stdout",
     "output_type": "stream",
     "text": [
      "('/home/shayan/Desktop/aimet/Examples/torch/quantization/val/9/cf135f199d8c7a9d0dce9aa35acfb4c70c14e0aa.jpeg',)\n",
      "2024-12-31 09:48:41,820 - Eval - INFO - Avg accuracy Top 1: 0.000000 Avg accuracy Top 5: 0.000000 on validation Dataset\n",
      "2024-12-31 09:48:41,822 - Eval - INFO - No value of iteration is provided, running evaluation on complete dataset.\n",
      "2024-12-31 09:48:41,823 - Eval - INFO - Evaluating nn.Module for 3 iterations with batch_size 1\n"
     ]
    },
    {
     "name": "stderr",
     "output_type": "stream",
     "text": [
      "\n",
      "  0%|          | 0/3 [00:00<?, ?it/s]"
     ]
    },
    {
     "name": "stdout",
     "output_type": "stream",
     "text": [
      "('/home/shayan/Desktop/aimet/Examples/torch/quantization/val/9/cf135f199d8c7a9d0dce9aa35acfb4c70c14e0aa.jpeg',)\n",
      "2024-12-31 09:48:41,935 - Eval - INFO - Avg accuracy Top 1: 0.000000 Avg accuracy Top 5: 0.000000 on validation Dataset\n"
     ]
    },
    {
     "name": "stderr",
     "output_type": "stream",
     "text": [
      "\n"
     ]
    },
    {
     "name": "stdout",
     "output_type": "stream",
     "text": [
      "2024-12-31 09:48:41,937 - Eval - INFO - No value of iteration is provided, running evaluation on complete dataset.\n",
      "2024-12-31 09:48:41,937 - Eval - INFO - Evaluating nn.Module for 3 iterations with batch_size 1\n"
     ]
    },
    {
     "name": "stderr",
     "output_type": "stream",
     "text": [
      "  0%|          | 0/3 [00:00<?, ?it/s]"
     ]
    },
    {
     "name": "stdout",
     "output_type": "stream",
     "text": [
      "('/home/shayan/Desktop/aimet/Examples/torch/quantization/val/9/cf135f199d8c7a9d0dce9aa35acfb4c70c14e0aa.jpeg',)\n"
     ]
    },
    {
     "name": "stderr",
     "output_type": "stream",
     "text": [
      "  0%|          | 0/3 [00:00<?, ?it/s]\n"
     ]
    },
    {
     "name": "stdout",
     "output_type": "stream",
     "text": [
      "2024-12-31 09:48:42,043 - Eval - INFO - Avg accuracy Top 1: 0.000000 Avg accuracy Top 5: 0.000000 on validation Dataset\n",
      "2024-12-31 09:48:42,045 - Eval - INFO - No value of iteration is provided, running evaluation on complete dataset.\n",
      "2024-12-31 09:48:42,046 - Eval - INFO - Evaluating nn.Module for 3 iterations with batch_size 1\n"
     ]
    },
    {
     "name": "stderr",
     "output_type": "stream",
     "text": [
      "  0%|          | 0/3 [00:00<?, ?it/s]"
     ]
    },
    {
     "name": "stdout",
     "output_type": "stream",
     "text": [
      "('/home/shayan/Desktop/aimet/Examples/torch/quantization/val/9/cf135f199d8c7a9d0dce9aa35acfb4c70c14e0aa.jpeg',)\n"
     ]
    },
    {
     "name": "stderr",
     "output_type": "stream",
     "text": [
      "  0%|          | 0/3 [00:00<?, ?it/s]"
     ]
    },
    {
     "name": "stdout",
     "output_type": "stream",
     "text": [
      "2024-12-31 09:48:42,168 - Eval - INFO - Avg accuracy Top 1: 0.000000 Avg accuracy Top 5: 0.000000 on validation Dataset\n",
      "2024-12-31 09:48:42,170 - Eval - INFO - No value of iteration is provided, running evaluation on complete dataset.\n",
      "2024-12-31 09:48:42,171 - Eval - INFO - Evaluating nn.Module for 3 iterations with batch_size 1\n"
     ]
    },
    {
     "name": "stderr",
     "output_type": "stream",
     "text": [
      "\n",
      "  0%|          | 0/3 [00:00<?, ?it/s]"
     ]
    },
    {
     "name": "stdout",
     "output_type": "stream",
     "text": [
      "('/home/shayan/Desktop/aimet/Examples/torch/quantization/val/9/cf135f199d8c7a9d0dce9aa35acfb4c70c14e0aa.jpeg',)\n"
     ]
    },
    {
     "name": "stderr",
     "output_type": "stream",
     "text": [
      "  0%|          | 0/3 [00:00<?, ?it/s]"
     ]
    },
    {
     "name": "stdout",
     "output_type": "stream",
     "text": [
      "2024-12-31 09:48:42,286 - Eval - INFO - Avg accuracy Top 1: 0.000000 Avg accuracy Top 5: 0.000000 on validation Dataset\n",
      "2024-12-31 09:48:42,288 - Eval - INFO - No value of iteration is provided, running evaluation on complete dataset.\n",
      "2024-12-31 09:48:42,289 - Eval - INFO - Evaluating nn.Module for 3 iterations with batch_size 1\n"
     ]
    },
    {
     "name": "stderr",
     "output_type": "stream",
     "text": [
      "\n",
      "  0%|          | 0/3 [00:00<?, ?it/s]"
     ]
    },
    {
     "name": "stdout",
     "output_type": "stream",
     "text": [
      "('/home/shayan/Desktop/aimet/Examples/torch/quantization/val/9/cf135f199d8c7a9d0dce9aa35acfb4c70c14e0aa.jpeg',)\n"
     ]
    },
    {
     "name": "stderr",
     "output_type": "stream",
     "text": [
      "  0%|          | 0/3 [00:00<?, ?it/s]"
     ]
    },
    {
     "name": "stdout",
     "output_type": "stream",
     "text": [
      "2024-12-31 09:48:42,411 - Eval - INFO - Avg accuracy Top 1: 0.000000 Avg accuracy Top 5: 0.000000 on validation Dataset\n",
      "2024-12-31 09:48:42,413 - Eval - INFO - No value of iteration is provided, running evaluation on complete dataset.\n",
      "2024-12-31 09:48:42,414 - Eval - INFO - Evaluating nn.Module for 3 iterations with batch_size 1\n"
     ]
    },
    {
     "name": "stderr",
     "output_type": "stream",
     "text": [
      "\n",
      "  0%|          | 0/3 [00:00<?, ?it/s]"
     ]
    },
    {
     "name": "stdout",
     "output_type": "stream",
     "text": [
      "('/home/shayan/Desktop/aimet/Examples/torch/quantization/val/9/cf135f199d8c7a9d0dce9aa35acfb4c70c14e0aa.jpeg',)\n"
     ]
    },
    {
     "name": "stderr",
     "output_type": "stream",
     "text": [
      "  0%|          | 0/3 [00:00<?, ?it/s]\n"
     ]
    },
    {
     "name": "stdout",
     "output_type": "stream",
     "text": [
      "2024-12-31 09:48:42,510 - Eval - INFO - Avg accuracy Top 1: 0.000000 Avg accuracy Top 5: 0.000000 on validation Dataset\n",
      "2024-12-31 09:48:42,512 - Eval - INFO - No value of iteration is provided, running evaluation on complete dataset.\n",
      "2024-12-31 09:48:42,512 - Eval - INFO - Evaluating nn.Module for 3 iterations with batch_size 1\n"
     ]
    },
    {
     "name": "stderr",
     "output_type": "stream",
     "text": [
      "  0%|          | 0/3 [00:00<?, ?it/s]\n"
     ]
    },
    {
     "name": "stdout",
     "output_type": "stream",
     "text": [
      "('/home/shayan/Desktop/aimet/Examples/torch/quantization/val/9/cf135f199d8c7a9d0dce9aa35acfb4c70c14e0aa.jpeg',)\n",
      "2024-12-31 09:48:42,612 - Eval - INFO - Avg accuracy Top 1: 0.000000 Avg accuracy Top 5: 0.000000 on validation Dataset\n",
      "2024-12-31 09:48:42,614 - Eval - INFO - No value of iteration is provided, running evaluation on complete dataset.\n",
      "2024-12-31 09:48:42,614 - Eval - INFO - Evaluating nn.Module for 3 iterations with batch_size 1\n"
     ]
    },
    {
     "name": "stderr",
     "output_type": "stream",
     "text": [
      "  0%|          | 0/3 [00:00<?, ?it/s]"
     ]
    },
    {
     "name": "stdout",
     "output_type": "stream",
     "text": [
      "('/home/shayan/Desktop/aimet/Examples/torch/quantization/val/9/cf135f199d8c7a9d0dce9aa35acfb4c70c14e0aa.jpeg',)\n"
     ]
    },
    {
     "name": "stderr",
     "output_type": "stream",
     "text": [
      "\n"
     ]
    },
    {
     "name": "stdout",
     "output_type": "stream",
     "text": [
      "2024-12-31 09:48:42,729 - Eval - INFO - Avg accuracy Top 1: 0.000000 Avg accuracy Top 5: 0.000000 on validation Dataset\n",
      "2024-12-31 09:48:42,731 - Eval - INFO - No value of iteration is provided, running evaluation on complete dataset.\n",
      "2024-12-31 09:48:42,731 - Eval - INFO - Evaluating nn.Module for 3 iterations with batch_size 1\n"
     ]
    },
    {
     "name": "stderr",
     "output_type": "stream",
     "text": [
      "  0%|          | 0/3 [00:00<?, ?it/s]"
     ]
    },
    {
     "name": "stdout",
     "output_type": "stream",
     "text": [
      "('/home/shayan/Desktop/aimet/Examples/torch/quantization/val/9/cf135f199d8c7a9d0dce9aa35acfb4c70c14e0aa.jpeg',)\n"
     ]
    },
    {
     "name": "stderr",
     "output_type": "stream",
     "text": [
      "  0%|          | 0/3 [00:00<?, ?it/s]"
     ]
    },
    {
     "name": "stdout",
     "output_type": "stream",
     "text": [
      "2024-12-31 09:48:42,846 - Eval - INFO - Avg accuracy Top 1: 0.000000 Avg accuracy Top 5: 0.000000 on validation Dataset\n",
      "2024-12-31 09:48:42,848 - Eval - INFO - No value of iteration is provided, running evaluation on complete dataset.\n",
      "2024-12-31 09:48:42,849 - Eval - INFO - Evaluating nn.Module for 3 iterations with batch_size 1\n"
     ]
    },
    {
     "name": "stderr",
     "output_type": "stream",
     "text": [
      "\n",
      "  0%|          | 0/3 [00:00<?, ?it/s]"
     ]
    },
    {
     "name": "stdout",
     "output_type": "stream",
     "text": [
      "('/home/shayan/Desktop/aimet/Examples/torch/quantization/val/9/cf135f199d8c7a9d0dce9aa35acfb4c70c14e0aa.jpeg',)\n",
      "2024-12-31 09:48:42,942 - Eval - INFO - Avg accuracy Top 1: 0.000000 Avg accuracy Top 5: 0.000000 on validation Dataset\n",
      "2024-12-31 09:48:42,944 - Eval - INFO - No value of iteration is provided, running evaluation on complete dataset.\n",
      "2024-12-31 09:48:42,944 - Eval - INFO - Evaluating nn.Module for 3 iterations with batch_size 1\n"
     ]
    },
    {
     "name": "stderr",
     "output_type": "stream",
     "text": [
      "\n",
      "  0%|          | 0/3 [00:00<?, ?it/s]"
     ]
    },
    {
     "name": "stdout",
     "output_type": "stream",
     "text": [
      "('/home/shayan/Desktop/aimet/Examples/torch/quantization/val/9/cf135f199d8c7a9d0dce9aa35acfb4c70c14e0aa.jpeg',)\n"
     ]
    },
    {
     "name": "stderr",
     "output_type": "stream",
     "text": [
      "  0%|          | 0/3 [00:00<?, ?it/s]\n"
     ]
    },
    {
     "name": "stdout",
     "output_type": "stream",
     "text": [
      "2024-12-31 09:48:43,068 - Eval - INFO - Avg accuracy Top 1: 0.000000 Avg accuracy Top 5: 0.000000 on validation Dataset\n",
      "2024-12-31 09:48:43,069 - Eval - INFO - No value of iteration is provided, running evaluation on complete dataset.\n",
      "2024-12-31 09:48:43,070 - Eval - INFO - Evaluating nn.Module for 3 iterations with batch_size 1\n"
     ]
    },
    {
     "name": "stderr",
     "output_type": "stream",
     "text": [
      "  0%|          | 0/3 [00:00<?, ?it/s]"
     ]
    },
    {
     "name": "stdout",
     "output_type": "stream",
     "text": [
      "('/home/shayan/Desktop/aimet/Examples/torch/quantization/val/9/cf135f199d8c7a9d0dce9aa35acfb4c70c14e0aa.jpeg',)\n"
     ]
    },
    {
     "name": "stderr",
     "output_type": "stream",
     "text": [
      "  0%|          | 0/3 [00:00<?, ?it/s]\n"
     ]
    },
    {
     "name": "stdout",
     "output_type": "stream",
     "text": [
      "2024-12-31 09:48:43,165 - Eval - INFO - Avg accuracy Top 1: 0.000000 Avg accuracy Top 5: 0.000000 on validation Dataset\n",
      "2024-12-31 09:48:43,167 - Eval - INFO - No value of iteration is provided, running evaluation on complete dataset.\n",
      "2024-12-31 09:48:43,167 - Eval - INFO - Evaluating nn.Module for 3 iterations with batch_size 1\n"
     ]
    },
    {
     "name": "stderr",
     "output_type": "stream",
     "text": [
      "  0%|          | 0/3 [00:00<?, ?it/s]"
     ]
    },
    {
     "name": "stdout",
     "output_type": "stream",
     "text": [
      "('/home/shayan/Desktop/aimet/Examples/torch/quantization/val/9/cf135f199d8c7a9d0dce9aa35acfb4c70c14e0aa.jpeg',)\n"
     ]
    },
    {
     "name": "stderr",
     "output_type": "stream",
     "text": [
      "  0%|          | 0/3 [00:00<?, ?it/s]\n"
     ]
    },
    {
     "name": "stdout",
     "output_type": "stream",
     "text": [
      "2024-12-31 09:48:43,296 - Eval - INFO - Avg accuracy Top 1: 0.000000 Avg accuracy Top 5: 0.000000 on validation Dataset\n",
      "2024-12-31 09:48:43,298 - Eval - INFO - No value of iteration is provided, running evaluation on complete dataset.\n",
      "2024-12-31 09:48:43,298 - Eval - INFO - Evaluating nn.Module for 3 iterations with batch_size 1\n"
     ]
    },
    {
     "name": "stderr",
     "output_type": "stream",
     "text": [
      "  0%|          | 0/3 [00:00<?, ?it/s]"
     ]
    },
    {
     "name": "stdout",
     "output_type": "stream",
     "text": [
      "('/home/shayan/Desktop/aimet/Examples/torch/quantization/val/9/cf135f199d8c7a9d0dce9aa35acfb4c70c14e0aa.jpeg',)\n"
     ]
    },
    {
     "name": "stderr",
     "output_type": "stream",
     "text": [
      "  0%|          | 0/3 [00:00<?, ?it/s]"
     ]
    },
    {
     "name": "stdout",
     "output_type": "stream",
     "text": [
      "2024-12-31 09:48:43,403 - Eval - INFO - Avg accuracy Top 1: 0.000000 Avg accuracy Top 5: 0.000000 on validation Dataset\n",
      "2024-12-31 09:48:43,405 - Eval - INFO - No value of iteration is provided, running evaluation on complete dataset.\n",
      "2024-12-31 09:48:43,405 - Eval - INFO - Evaluating nn.Module for 3 iterations with batch_size 1\n"
     ]
    },
    {
     "name": "stderr",
     "output_type": "stream",
     "text": [
      "\n",
      "  0%|          | 0/3 [00:00<?, ?it/s]"
     ]
    },
    {
     "name": "stdout",
     "output_type": "stream",
     "text": [
      "('/home/shayan/Desktop/aimet/Examples/torch/quantization/val/9/cf135f199d8c7a9d0dce9aa35acfb4c70c14e0aa.jpeg',)\n"
     ]
    },
    {
     "name": "stderr",
     "output_type": "stream",
     "text": [
      "  0%|          | 0/3 [00:00<?, ?it/s]\n"
     ]
    },
    {
     "name": "stdout",
     "output_type": "stream",
     "text": [
      "2024-12-31 09:48:43,519 - Eval - INFO - Avg accuracy Top 1: 0.000000 Avg accuracy Top 5: 0.000000 on validation Dataset\n",
      "2024-12-31 09:48:43,521 - Eval - INFO - No value of iteration is provided, running evaluation on complete dataset.\n",
      "2024-12-31 09:48:43,521 - Eval - INFO - Evaluating nn.Module for 3 iterations with batch_size 1\n"
     ]
    },
    {
     "name": "stderr",
     "output_type": "stream",
     "text": [
      "  0%|          | 0/3 [00:00<?, ?it/s]"
     ]
    },
    {
     "name": "stdout",
     "output_type": "stream",
     "text": [
      "('/home/shayan/Desktop/aimet/Examples/torch/quantization/val/9/cf135f199d8c7a9d0dce9aa35acfb4c70c14e0aa.jpeg',)\n"
     ]
    },
    {
     "name": "stderr",
     "output_type": "stream",
     "text": [
      "  0%|          | 0/3 [00:00<?, ?it/s]"
     ]
    },
    {
     "name": "stdout",
     "output_type": "stream",
     "text": [
      "2024-12-31 09:48:43,649 - Eval - INFO - Avg accuracy Top 1: 0.000000 Avg accuracy Top 5: 0.000000 on validation Dataset\n",
      "2024-12-31 09:48:43,651 - Eval - INFO - No value of iteration is provided, running evaluation on complete dataset.\n",
      "2024-12-31 09:48:43,651 - Eval - INFO - Evaluating nn.Module for 3 iterations with batch_size 1\n"
     ]
    },
    {
     "name": "stderr",
     "output_type": "stream",
     "text": [
      "\n",
      "  0%|          | 0/3 [00:00<?, ?it/s]"
     ]
    },
    {
     "name": "stdout",
     "output_type": "stream",
     "text": [
      "('/home/shayan/Desktop/aimet/Examples/torch/quantization/val/9/cf135f199d8c7a9d0dce9aa35acfb4c70c14e0aa.jpeg',)\n"
     ]
    },
    {
     "name": "stderr",
     "output_type": "stream",
     "text": [
      "  0%|          | 0/3 [00:00<?, ?it/s]"
     ]
    },
    {
     "name": "stdout",
     "output_type": "stream",
     "text": [
      "2024-12-31 09:48:43,764 - Eval - INFO - Avg accuracy Top 1: 0.000000 Avg accuracy Top 5: 0.000000 on validation Dataset\n",
      "2024-12-31 09:48:43,766 - Eval - INFO - No value of iteration is provided, running evaluation on complete dataset.\n",
      "2024-12-31 09:48:43,766 - Eval - INFO - Evaluating nn.Module for 3 iterations with batch_size 1\n"
     ]
    },
    {
     "name": "stderr",
     "output_type": "stream",
     "text": [
      "\n",
      "  0%|          | 0/3 [00:00<?, ?it/s]"
     ]
    },
    {
     "name": "stdout",
     "output_type": "stream",
     "text": [
      "('/home/shayan/Desktop/aimet/Examples/torch/quantization/val/9/cf135f199d8c7a9d0dce9aa35acfb4c70c14e0aa.jpeg',)\n"
     ]
    },
    {
     "name": "stderr",
     "output_type": "stream",
     "text": [
      "  0%|          | 0/3 [00:00<?, ?it/s]"
     ]
    },
    {
     "name": "stdout",
     "output_type": "stream",
     "text": [
      "2024-12-31 09:48:43,890 - Eval - INFO - Avg accuracy Top 1: 0.000000 Avg accuracy Top 5: 0.000000 on validation Dataset\n",
      "2024-12-31 09:48:43,892 - Eval - INFO - No value of iteration is provided, running evaluation on complete dataset.\n",
      "2024-12-31 09:48:43,893 - Eval - INFO - Evaluating nn.Module for 3 iterations with batch_size 1\n"
     ]
    },
    {
     "name": "stderr",
     "output_type": "stream",
     "text": [
      "\n",
      "  0%|          | 0/3 [00:00<?, ?it/s]"
     ]
    },
    {
     "name": "stdout",
     "output_type": "stream",
     "text": [
      "('/home/shayan/Desktop/aimet/Examples/torch/quantization/val/9/cf135f199d8c7a9d0dce9aa35acfb4c70c14e0aa.jpeg',)\n"
     ]
    },
    {
     "name": "stderr",
     "output_type": "stream",
     "text": [
      "  0%|          | 0/3 [00:00<?, ?it/s]\n"
     ]
    },
    {
     "name": "stdout",
     "output_type": "stream",
     "text": [
      "2024-12-31 09:48:43,984 - Eval - INFO - Avg accuracy Top 1: 0.000000 Avg accuracy Top 5: 0.000000 on validation Dataset\n",
      "2024-12-31 09:48:43,986 - Eval - INFO - No value of iteration is provided, running evaluation on complete dataset.\n",
      "2024-12-31 09:48:43,987 - Eval - INFO - Evaluating nn.Module for 3 iterations with batch_size 1\n"
     ]
    },
    {
     "name": "stderr",
     "output_type": "stream",
     "text": [
      "  0%|          | 0/3 [00:00<?, ?it/s]\n"
     ]
    },
    {
     "name": "stdout",
     "output_type": "stream",
     "text": [
      "('/home/shayan/Desktop/aimet/Examples/torch/quantization/val/9/cf135f199d8c7a9d0dce9aa35acfb4c70c14e0aa.jpeg',)\n",
      "2024-12-31 09:48:44,084 - Eval - INFO - Avg accuracy Top 1: 0.000000 Avg accuracy Top 5: 0.000000 on validation Dataset\n",
      "2024-12-31 09:48:44,086 - Eval - INFO - No value of iteration is provided, running evaluation on complete dataset.\n",
      "2024-12-31 09:48:44,087 - Eval - INFO - Evaluating nn.Module for 3 iterations with batch_size 1\n"
     ]
    },
    {
     "name": "stderr",
     "output_type": "stream",
     "text": [
      "  0%|          | 0/3 [00:00<?, ?it/s]"
     ]
    },
    {
     "name": "stdout",
     "output_type": "stream",
     "text": [
      "('/home/shayan/Desktop/aimet/Examples/torch/quantization/val/9/cf135f199d8c7a9d0dce9aa35acfb4c70c14e0aa.jpeg',)\n"
     ]
    },
    {
     "name": "stderr",
     "output_type": "stream",
     "text": [
      "  0%|          | 0/3 [00:00<?, ?it/s]"
     ]
    },
    {
     "name": "stdout",
     "output_type": "stream",
     "text": [
      "2024-12-31 09:48:44,195 - Eval - INFO - Avg accuracy Top 1: 0.000000 Avg accuracy Top 5: 0.000000 on validation Dataset\n"
     ]
    },
    {
     "name": "stderr",
     "output_type": "stream",
     "text": [
      "\n",
      "INFO:bokeh.io.state:Session output file '/home/shayan/Desktop/aimet/quant_analyzer/temp_enhanced/per_layer_quant_enabled.html' already exists, will be overwritten.\n"
     ]
    },
    {
     "name": "stdout",
     "output_type": "stream",
     "text": [
      "2024-12-31 09:48:44,355 - QuantAnalyzer - INFO - Exported per-layer quant analysis (enabled) plot.\n",
      "2024-12-31 09:48:44,355 - QuantAnalyzer - INFO - \n",
      "OPTION-2:\n",
      "All the quant wrappers are enabled as per config file.\n",
      "Starting per-layer analysis by disabling quant wrappers.\n",
      "2024-12-31 09:48:44,455 - Eval - INFO - No value of iteration is provided, running evaluation on complete dataset.\n",
      "2024-12-31 09:48:44,456 - Eval - INFO - Evaluating nn.Module for 3 iterations with batch_size 1\n"
     ]
    },
    {
     "name": "stderr",
     "output_type": "stream",
     "text": [
      "  0%|          | 0/3 [00:00<?, ?it/s]"
     ]
    },
    {
     "name": "stdout",
     "output_type": "stream",
     "text": [
      "('/home/shayan/Desktop/aimet/Examples/torch/quantization/val/9/cf135f199d8c7a9d0dce9aa35acfb4c70c14e0aa.jpeg',)\n"
     ]
    },
    {
     "name": "stderr",
     "output_type": "stream",
     "text": [
      "  0%|          | 0/3 [00:00<?, ?it/s]"
     ]
    },
    {
     "name": "stdout",
     "output_type": "stream",
     "text": [
      "2024-12-31 09:48:44,636 - Eval - INFO - Avg accuracy Top 1: 0.000000 Avg accuracy Top 5: 0.000000 on validation Dataset\n",
      "2024-12-31 09:48:44,638 - Eval - INFO - No value of iteration is provided, running evaluation on complete dataset.\n",
      "2024-12-31 09:48:44,639 - Eval - INFO - Evaluating nn.Module for 3 iterations with batch_size 1\n"
     ]
    },
    {
     "name": "stderr",
     "output_type": "stream",
     "text": [
      "\n",
      "  0%|          | 0/3 [00:00<?, ?it/s]"
     ]
    },
    {
     "name": "stdout",
     "output_type": "stream",
     "text": [
      "('/home/shayan/Desktop/aimet/Examples/torch/quantization/val/9/cf135f199d8c7a9d0dce9aa35acfb4c70c14e0aa.jpeg',)\n"
     ]
    },
    {
     "name": "stderr",
     "output_type": "stream",
     "text": [
      "  0%|          | 0/3 [00:00<?, ?it/s]\n"
     ]
    },
    {
     "name": "stdout",
     "output_type": "stream",
     "text": [
      "2024-12-31 09:48:44,822 - Eval - INFO - Avg accuracy Top 1: 0.000000 Avg accuracy Top 5: 0.000000 on validation Dataset\n",
      "2024-12-31 09:48:44,824 - Eval - INFO - No value of iteration is provided, running evaluation on complete dataset.\n",
      "2024-12-31 09:48:44,824 - Eval - INFO - Evaluating nn.Module for 3 iterations with batch_size 1\n"
     ]
    },
    {
     "name": "stderr",
     "output_type": "stream",
     "text": [
      "  0%|          | 0/3 [00:00<?, ?it/s]"
     ]
    },
    {
     "name": "stdout",
     "output_type": "stream",
     "text": [
      "('/home/shayan/Desktop/aimet/Examples/torch/quantization/val/9/cf135f199d8c7a9d0dce9aa35acfb4c70c14e0aa.jpeg',)\n"
     ]
    },
    {
     "name": "stderr",
     "output_type": "stream",
     "text": [
      "  0%|          | 0/3 [00:00<?, ?it/s]"
     ]
    },
    {
     "name": "stdout",
     "output_type": "stream",
     "text": [
      "2024-12-31 09:48:44,979 - Eval - INFO - Avg accuracy Top 1: 0.000000 Avg accuracy Top 5: 0.000000 on validation Dataset\n",
      "2024-12-31 09:48:44,980 - Eval - INFO - No value of iteration is provided, running evaluation on complete dataset.\n",
      "2024-12-31 09:48:44,981 - Eval - INFO - Evaluating nn.Module for 3 iterations with batch_size 1\n"
     ]
    },
    {
     "name": "stderr",
     "output_type": "stream",
     "text": [
      "\n",
      "  0%|          | 0/3 [00:00<?, ?it/s]"
     ]
    },
    {
     "name": "stdout",
     "output_type": "stream",
     "text": [
      "('/home/shayan/Desktop/aimet/Examples/torch/quantization/val/9/cf135f199d8c7a9d0dce9aa35acfb4c70c14e0aa.jpeg',)\n"
     ]
    },
    {
     "name": "stderr",
     "output_type": "stream",
     "text": [
      "  0%|          | 0/3 [00:00<?, ?it/s]\n"
     ]
    },
    {
     "name": "stdout",
     "output_type": "stream",
     "text": [
      "2024-12-31 09:48:45,180 - Eval - INFO - Avg accuracy Top 1: 0.000000 Avg accuracy Top 5: 0.000000 on validation Dataset\n",
      "2024-12-31 09:48:45,181 - Eval - INFO - No value of iteration is provided, running evaluation on complete dataset.\n",
      "2024-12-31 09:48:45,181 - Eval - INFO - Evaluating nn.Module for 3 iterations with batch_size 1\n"
     ]
    },
    {
     "name": "stderr",
     "output_type": "stream",
     "text": [
      "  0%|          | 0/3 [00:00<?, ?it/s]\n"
     ]
    },
    {
     "name": "stdout",
     "output_type": "stream",
     "text": [
      "('/home/shayan/Desktop/aimet/Examples/torch/quantization/val/9/cf135f199d8c7a9d0dce9aa35acfb4c70c14e0aa.jpeg',)\n",
      "2024-12-31 09:48:45,366 - Eval - INFO - Avg accuracy Top 1: 0.000000 Avg accuracy Top 5: 0.000000 on validation Dataset\n",
      "2024-12-31 09:48:45,368 - Eval - INFO - No value of iteration is provided, running evaluation on complete dataset.\n",
      "2024-12-31 09:48:45,368 - Eval - INFO - Evaluating nn.Module for 3 iterations with batch_size 1\n"
     ]
    },
    {
     "name": "stderr",
     "output_type": "stream",
     "text": [
      "  0%|          | 0/3 [00:00<?, ?it/s]"
     ]
    },
    {
     "name": "stdout",
     "output_type": "stream",
     "text": [
      "('/home/shayan/Desktop/aimet/Examples/torch/quantization/val/9/cf135f199d8c7a9d0dce9aa35acfb4c70c14e0aa.jpeg',)\n"
     ]
    },
    {
     "name": "stderr",
     "output_type": "stream",
     "text": [
      "  0%|          | 0/3 [00:00<?, ?it/s]"
     ]
    },
    {
     "name": "stdout",
     "output_type": "stream",
     "text": [
      "2024-12-31 09:48:45,532 - Eval - INFO - Avg accuracy Top 1: 0.000000 Avg accuracy Top 5: 0.000000 on validation Dataset\n",
      "2024-12-31 09:48:45,533 - Eval - INFO - No value of iteration is provided, running evaluation on complete dataset.\n",
      "2024-12-31 09:48:45,534 - Eval - INFO - Evaluating nn.Module for 3 iterations with batch_size 1\n"
     ]
    },
    {
     "name": "stderr",
     "output_type": "stream",
     "text": [
      "\n",
      "  0%|          | 0/3 [00:00<?, ?it/s]"
     ]
    },
    {
     "name": "stdout",
     "output_type": "stream",
     "text": [
      "('/home/shayan/Desktop/aimet/Examples/torch/quantization/val/9/cf135f199d8c7a9d0dce9aa35acfb4c70c14e0aa.jpeg',)\n"
     ]
    },
    {
     "name": "stderr",
     "output_type": "stream",
     "text": [
      "  0%|          | 0/3 [00:00<?, ?it/s]"
     ]
    },
    {
     "name": "stdout",
     "output_type": "stream",
     "text": [
      "2024-12-31 09:48:45,712 - Eval - INFO - Avg accuracy Top 1: 0.000000 Avg accuracy Top 5: 0.000000 on validation Dataset\n",
      "2024-12-31 09:48:45,714 - Eval - INFO - No value of iteration is provided, running evaluation on complete dataset.\n",
      "2024-12-31 09:48:45,714 - Eval - INFO - Evaluating nn.Module for 3 iterations with batch_size 1\n"
     ]
    },
    {
     "name": "stderr",
     "output_type": "stream",
     "text": [
      "\n",
      "  0%|          | 0/3 [00:00<?, ?it/s]"
     ]
    },
    {
     "name": "stdout",
     "output_type": "stream",
     "text": [
      "('/home/shayan/Desktop/aimet/Examples/torch/quantization/val/9/cf135f199d8c7a9d0dce9aa35acfb4c70c14e0aa.jpeg',)\n"
     ]
    },
    {
     "name": "stderr",
     "output_type": "stream",
     "text": [
      "  0%|          | 0/3 [00:00<?, ?it/s]"
     ]
    },
    {
     "name": "stdout",
     "output_type": "stream",
     "text": [
      "2024-12-31 09:48:45,890 - Eval - INFO - Avg accuracy Top 1: 0.000000 Avg accuracy Top 5: 0.000000 on validation Dataset\n",
      "2024-12-31 09:48:45,892 - Eval - INFO - No value of iteration is provided, running evaluation on complete dataset.\n",
      "2024-12-31 09:48:45,892 - Eval - INFO - Evaluating nn.Module for 3 iterations with batch_size 1\n"
     ]
    },
    {
     "name": "stderr",
     "output_type": "stream",
     "text": [
      "\n",
      "  0%|          | 0/3 [00:00<?, ?it/s]"
     ]
    },
    {
     "name": "stdout",
     "output_type": "stream",
     "text": [
      "('/home/shayan/Desktop/aimet/Examples/torch/quantization/val/9/cf135f199d8c7a9d0dce9aa35acfb4c70c14e0aa.jpeg',)\n"
     ]
    },
    {
     "name": "stderr",
     "output_type": "stream",
     "text": [
      "  0%|          | 0/3 [00:00<?, ?it/s]"
     ]
    },
    {
     "name": "stdout",
     "output_type": "stream",
     "text": [
      "2024-12-31 09:48:46,069 - Eval - INFO - Avg accuracy Top 1: 0.000000 Avg accuracy Top 5: 0.000000 on validation Dataset\n",
      "2024-12-31 09:48:46,071 - Eval - INFO - No value of iteration is provided, running evaluation on complete dataset.\n"
     ]
    },
    {
     "name": "stderr",
     "output_type": "stream",
     "text": [
      "\n"
     ]
    },
    {
     "name": "stdout",
     "output_type": "stream",
     "text": [
      "2024-12-31 09:48:46,072 - Eval - INFO - Evaluating nn.Module for 3 iterations with batch_size 1\n"
     ]
    },
    {
     "name": "stderr",
     "output_type": "stream",
     "text": [
      "  0%|          | 0/3 [00:00<?, ?it/s]"
     ]
    },
    {
     "name": "stdout",
     "output_type": "stream",
     "text": [
      "('/home/shayan/Desktop/aimet/Examples/torch/quantization/val/9/cf135f199d8c7a9d0dce9aa35acfb4c70c14e0aa.jpeg',)\n"
     ]
    },
    {
     "name": "stderr",
     "output_type": "stream",
     "text": [
      "  0%|          | 0/3 [00:00<?, ?it/s]"
     ]
    },
    {
     "name": "stdout",
     "output_type": "stream",
     "text": [
      "2024-12-31 09:48:46,230 - Eval - INFO - Avg accuracy Top 1: 0.000000 Avg accuracy Top 5: 0.000000 on validation Dataset\n",
      "2024-12-31 09:48:46,232 - Eval - INFO - No value of iteration is provided, running evaluation on complete dataset.\n",
      "2024-12-31 09:48:46,232 - Eval - INFO - Evaluating nn.Module for 3 iterations with batch_size 1\n"
     ]
    },
    {
     "name": "stderr",
     "output_type": "stream",
     "text": [
      "\n",
      "  0%|          | 0/3 [00:00<?, ?it/s]"
     ]
    },
    {
     "name": "stdout",
     "output_type": "stream",
     "text": [
      "('/home/shayan/Desktop/aimet/Examples/torch/quantization/val/9/cf135f199d8c7a9d0dce9aa35acfb4c70c14e0aa.jpeg',)\n"
     ]
    },
    {
     "name": "stderr",
     "output_type": "stream",
     "text": [
      "  0%|          | 0/3 [00:00<?, ?it/s]"
     ]
    },
    {
     "name": "stdout",
     "output_type": "stream",
     "text": [
      "2024-12-31 09:48:46,398 - Eval - INFO - Avg accuracy Top 1: 0.000000 Avg accuracy Top 5: 0.000000 on validation Dataset\n",
      "2024-12-31 09:48:46,399 - Eval - INFO - No value of iteration is provided, running evaluation on complete dataset.\n",
      "2024-12-31 09:48:46,400 - Eval - INFO - Evaluating nn.Module for 3 iterations with batch_size 1\n"
     ]
    },
    {
     "name": "stderr",
     "output_type": "stream",
     "text": [
      "\n",
      "  0%|          | 0/3 [00:00<?, ?it/s]"
     ]
    },
    {
     "name": "stdout",
     "output_type": "stream",
     "text": [
      "('/home/shayan/Desktop/aimet/Examples/torch/quantization/val/9/cf135f199d8c7a9d0dce9aa35acfb4c70c14e0aa.jpeg',)\n"
     ]
    },
    {
     "name": "stderr",
     "output_type": "stream",
     "text": [
      "  0%|          | 0/3 [00:00<?, ?it/s]\n"
     ]
    },
    {
     "name": "stdout",
     "output_type": "stream",
     "text": [
      "2024-12-31 09:48:46,579 - Eval - INFO - Avg accuracy Top 1: 0.000000 Avg accuracy Top 5: 0.000000 on validation Dataset\n",
      "2024-12-31 09:48:46,581 - Eval - INFO - No value of iteration is provided, running evaluation on complete dataset.\n",
      "2024-12-31 09:48:46,581 - Eval - INFO - Evaluating nn.Module for 3 iterations with batch_size 1\n"
     ]
    },
    {
     "name": "stderr",
     "output_type": "stream",
     "text": [
      "  0%|          | 0/3 [00:00<?, ?it/s]"
     ]
    },
    {
     "name": "stdout",
     "output_type": "stream",
     "text": [
      "('/home/shayan/Desktop/aimet/Examples/torch/quantization/val/9/cf135f199d8c7a9d0dce9aa35acfb4c70c14e0aa.jpeg',)\n"
     ]
    },
    {
     "name": "stderr",
     "output_type": "stream",
     "text": [
      "  0%|          | 0/3 [00:00<?, ?it/s]"
     ]
    },
    {
     "name": "stdout",
     "output_type": "stream",
     "text": [
      "2024-12-31 09:48:46,779 - Eval - INFO - Avg accuracy Top 1: 0.000000 Avg accuracy Top 5: 0.000000 on validation Dataset\n",
      "2024-12-31 09:48:46,780 - Eval - INFO - No value of iteration is provided, running evaluation on complete dataset.\n",
      "2024-12-31 09:48:46,781 - Eval - INFO - Evaluating nn.Module for 3 iterations with batch_size 1\n"
     ]
    },
    {
     "name": "stderr",
     "output_type": "stream",
     "text": [
      "\n",
      "  0%|          | 0/3 [00:00<?, ?it/s]\n"
     ]
    },
    {
     "name": "stdout",
     "output_type": "stream",
     "text": [
      "('/home/shayan/Desktop/aimet/Examples/torch/quantization/val/9/cf135f199d8c7a9d0dce9aa35acfb4c70c14e0aa.jpeg',)\n",
      "2024-12-31 09:48:46,963 - Eval - INFO - Avg accuracy Top 1: 0.000000 Avg accuracy Top 5: 0.000000 on validation Dataset\n",
      "2024-12-31 09:48:46,964 - Eval - INFO - No value of iteration is provided, running evaluation on complete dataset.\n",
      "2024-12-31 09:48:46,964 - Eval - INFO - Evaluating nn.Module for 3 iterations with batch_size 1\n"
     ]
    },
    {
     "name": "stderr",
     "output_type": "stream",
     "text": [
      "  0%|          | 0/3 [00:00<?, ?it/s]"
     ]
    },
    {
     "name": "stdout",
     "output_type": "stream",
     "text": [
      "('/home/shayan/Desktop/aimet/Examples/torch/quantization/val/9/cf135f199d8c7a9d0dce9aa35acfb4c70c14e0aa.jpeg',)\n"
     ]
    },
    {
     "name": "stderr",
     "output_type": "stream",
     "text": [
      "  0%|          | 0/3 [00:00<?, ?it/s]\n"
     ]
    },
    {
     "name": "stdout",
     "output_type": "stream",
     "text": [
      "2024-12-31 09:48:47,147 - Eval - INFO - Avg accuracy Top 1: 0.000000 Avg accuracy Top 5: 0.000000 on validation Dataset\n",
      "2024-12-31 09:48:47,149 - Eval - INFO - No value of iteration is provided, running evaluation on complete dataset.\n",
      "2024-12-31 09:48:47,149 - Eval - INFO - Evaluating nn.Module for 3 iterations with batch_size 1\n"
     ]
    },
    {
     "name": "stderr",
     "output_type": "stream",
     "text": [
      "  0%|          | 0/3 [00:00<?, ?it/s]"
     ]
    },
    {
     "name": "stdout",
     "output_type": "stream",
     "text": [
      "('/home/shayan/Desktop/aimet/Examples/torch/quantization/val/9/cf135f199d8c7a9d0dce9aa35acfb4c70c14e0aa.jpeg',)\n"
     ]
    },
    {
     "name": "stderr",
     "output_type": "stream",
     "text": [
      "  0%|          | 0/3 [00:00<?, ?it/s]"
     ]
    },
    {
     "name": "stdout",
     "output_type": "stream",
     "text": [
      "2024-12-31 09:48:47,318 - Eval - INFO - Avg accuracy Top 1: 0.000000 Avg accuracy Top 5: 0.000000 on validation Dataset\n",
      "2024-12-31 09:48:47,320 - Eval - INFO - No value of iteration is provided, running evaluation on complete dataset.\n",
      "2024-12-31 09:48:47,320 - Eval - INFO - Evaluating nn.Module for 3 iterations with batch_size 1\n"
     ]
    },
    {
     "name": "stderr",
     "output_type": "stream",
     "text": [
      "\n",
      "  0%|          | 0/3 [00:00<?, ?it/s]"
     ]
    },
    {
     "name": "stdout",
     "output_type": "stream",
     "text": [
      "('/home/shayan/Desktop/aimet/Examples/torch/quantization/val/9/cf135f199d8c7a9d0dce9aa35acfb4c70c14e0aa.jpeg',)\n"
     ]
    },
    {
     "name": "stderr",
     "output_type": "stream",
     "text": [
      "  0%|          | 0/3 [00:00<?, ?it/s]"
     ]
    },
    {
     "name": "stdout",
     "output_type": "stream",
     "text": [
      "2024-12-31 09:48:47,493 - Eval - INFO - Avg accuracy Top 1: 0.000000 Avg accuracy Top 5: 0.000000 on validation Dataset\n",
      "2024-12-31 09:48:47,495 - Eval - INFO - No value of iteration is provided, running evaluation on complete dataset.\n",
      "2024-12-31 09:48:47,495 - Eval - INFO - Evaluating nn.Module for 3 iterations with batch_size 1\n"
     ]
    },
    {
     "name": "stderr",
     "output_type": "stream",
     "text": [
      "\n",
      "  0%|          | 0/3 [00:00<?, ?it/s]"
     ]
    },
    {
     "name": "stdout",
     "output_type": "stream",
     "text": [
      "('/home/shayan/Desktop/aimet/Examples/torch/quantization/val/9/cf135f199d8c7a9d0dce9aa35acfb4c70c14e0aa.jpeg',)\n"
     ]
    },
    {
     "name": "stderr",
     "output_type": "stream",
     "text": [
      "  0%|          | 0/3 [00:00<?, ?it/s]\n"
     ]
    },
    {
     "name": "stdout",
     "output_type": "stream",
     "text": [
      "2024-12-31 09:48:47,681 - Eval - INFO - Avg accuracy Top 1: 0.000000 Avg accuracy Top 5: 0.000000 on validation Dataset\n",
      "2024-12-31 09:48:47,683 - Eval - INFO - No value of iteration is provided, running evaluation on complete dataset.\n",
      "2024-12-31 09:48:47,683 - Eval - INFO - Evaluating nn.Module for 3 iterations with batch_size 1\n"
     ]
    },
    {
     "name": "stderr",
     "output_type": "stream",
     "text": [
      "  0%|          | 0/3 [00:00<?, ?it/s]"
     ]
    },
    {
     "name": "stdout",
     "output_type": "stream",
     "text": [
      "('/home/shayan/Desktop/aimet/Examples/torch/quantization/val/9/cf135f199d8c7a9d0dce9aa35acfb4c70c14e0aa.jpeg',)\n"
     ]
    },
    {
     "name": "stderr",
     "output_type": "stream",
     "text": [
      "  0%|          | 0/3 [00:00<?, ?it/s]"
     ]
    },
    {
     "name": "stdout",
     "output_type": "stream",
     "text": [
      "2024-12-31 09:48:47,850 - Eval - INFO - Avg accuracy Top 1: 0.000000 Avg accuracy Top 5: 0.000000 on validation Dataset\n",
      "2024-12-31 09:48:47,851 - Eval - INFO - No value of iteration is provided, running evaluation on complete dataset.\n",
      "2024-12-31 09:48:47,851 - Eval - INFO - Evaluating nn.Module for 3 iterations with batch_size 1\n"
     ]
    },
    {
     "name": "stderr",
     "output_type": "stream",
     "text": [
      "\n",
      "  0%|          | 0/3 [00:00<?, ?it/s]"
     ]
    },
    {
     "name": "stdout",
     "output_type": "stream",
     "text": [
      "('/home/shayan/Desktop/aimet/Examples/torch/quantization/val/9/cf135f199d8c7a9d0dce9aa35acfb4c70c14e0aa.jpeg',)\n"
     ]
    },
    {
     "name": "stderr",
     "output_type": "stream",
     "text": [
      "  0%|          | 0/3 [00:00<?, ?it/s]"
     ]
    },
    {
     "name": "stdout",
     "output_type": "stream",
     "text": [
      "2024-12-31 09:48:48,016 - Eval - INFO - Avg accuracy Top 1: 0.000000 Avg accuracy Top 5: 0.000000 on validation Dataset\n",
      "2024-12-31 09:48:48,018 - Eval - INFO - No value of iteration is provided, running evaluation on complete dataset.\n",
      "2024-12-31 09:48:48,018 - Eval - INFO - Evaluating nn.Module for 3 iterations with batch_size 1\n"
     ]
    },
    {
     "name": "stderr",
     "output_type": "stream",
     "text": [
      "\n",
      "  0%|          | 0/3 [00:00<?, ?it/s]"
     ]
    },
    {
     "name": "stdout",
     "output_type": "stream",
     "text": [
      "('/home/shayan/Desktop/aimet/Examples/torch/quantization/val/9/cf135f199d8c7a9d0dce9aa35acfb4c70c14e0aa.jpeg',)\n"
     ]
    },
    {
     "name": "stderr",
     "output_type": "stream",
     "text": [
      "  0%|          | 0/3 [00:00<?, ?it/s]"
     ]
    },
    {
     "name": "stdout",
     "output_type": "stream",
     "text": [
      "2024-12-31 09:48:48,185 - Eval - INFO - Avg accuracy Top 1: 0.000000 Avg accuracy Top 5: 0.000000 on validation Dataset\n",
      "2024-12-31 09:48:48,187 - Eval - INFO - No value of iteration is provided, running evaluation on complete dataset.\n",
      "2024-12-31 09:48:48,187 - Eval - INFO - Evaluating nn.Module for 3 iterations with batch_size 1\n"
     ]
    },
    {
     "name": "stderr",
     "output_type": "stream",
     "text": [
      "\n",
      "  0%|          | 0/3 [00:00<?, ?it/s]"
     ]
    },
    {
     "name": "stdout",
     "output_type": "stream",
     "text": [
      "('/home/shayan/Desktop/aimet/Examples/torch/quantization/val/9/cf135f199d8c7a9d0dce9aa35acfb4c70c14e0aa.jpeg',)\n"
     ]
    },
    {
     "name": "stderr",
     "output_type": "stream",
     "text": [
      "  0%|          | 0/3 [00:00<?, ?it/s]"
     ]
    },
    {
     "name": "stdout",
     "output_type": "stream",
     "text": [
      "2024-12-31 09:48:48,365 - Eval - INFO - Avg accuracy Top 1: 0.000000 Avg accuracy Top 5: 0.000000 on validation Dataset\n",
      "2024-12-31 09:48:48,366 - Eval - INFO - No value of iteration is provided, running evaluation on complete dataset.\n",
      "2024-12-31 09:48:48,367 - Eval - INFO - Evaluating nn.Module for 3 iterations with batch_size 1\n"
     ]
    },
    {
     "name": "stderr",
     "output_type": "stream",
     "text": [
      "\n",
      "  0%|          | 0/3 [00:00<?, ?it/s]"
     ]
    },
    {
     "name": "stdout",
     "output_type": "stream",
     "text": [
      "('/home/shayan/Desktop/aimet/Examples/torch/quantization/val/9/cf135f199d8c7a9d0dce9aa35acfb4c70c14e0aa.jpeg',)\n"
     ]
    },
    {
     "name": "stderr",
     "output_type": "stream",
     "text": [
      "  0%|          | 0/3 [00:00<?, ?it/s]"
     ]
    },
    {
     "name": "stdout",
     "output_type": "stream",
     "text": [
      "2024-12-31 09:48:48,543 - Eval - INFO - Avg accuracy Top 1: 0.000000 Avg accuracy Top 5: 0.000000 on validation Dataset\n",
      "2024-12-31 09:48:48,545 - Eval - INFO - No value of iteration is provided, running evaluation on complete dataset.\n",
      "2024-12-31 09:48:48,545 - Eval - INFO - Evaluating nn.Module for 3 iterations with batch_size 1\n"
     ]
    },
    {
     "name": "stderr",
     "output_type": "stream",
     "text": [
      "\n",
      "  0%|          | 0/3 [00:00<?, ?it/s]"
     ]
    },
    {
     "name": "stdout",
     "output_type": "stream",
     "text": [
      "('/home/shayan/Desktop/aimet/Examples/torch/quantization/val/9/cf135f199d8c7a9d0dce9aa35acfb4c70c14e0aa.jpeg',)\n"
     ]
    },
    {
     "name": "stderr",
     "output_type": "stream",
     "text": [
      "  0%|          | 0/3 [00:00<?, ?it/s]\n"
     ]
    },
    {
     "name": "stdout",
     "output_type": "stream",
     "text": [
      "2024-12-31 09:48:48,731 - Eval - INFO - Avg accuracy Top 1: 0.000000 Avg accuracy Top 5: 0.000000 on validation Dataset\n",
      "2024-12-31 09:48:48,733 - Eval - INFO - No value of iteration is provided, running evaluation on complete dataset.\n",
      "2024-12-31 09:48:48,733 - Eval - INFO - Evaluating nn.Module for 3 iterations with batch_size 1\n"
     ]
    },
    {
     "name": "stderr",
     "output_type": "stream",
     "text": [
      "  0%|          | 0/3 [00:00<?, ?it/s]"
     ]
    },
    {
     "name": "stdout",
     "output_type": "stream",
     "text": [
      "('/home/shayan/Desktop/aimet/Examples/torch/quantization/val/9/cf135f199d8c7a9d0dce9aa35acfb4c70c14e0aa.jpeg',)\n"
     ]
    },
    {
     "name": "stderr",
     "output_type": "stream",
     "text": [
      "  0%|          | 0/3 [00:00<?, ?it/s]"
     ]
    },
    {
     "name": "stdout",
     "output_type": "stream",
     "text": [
      "2024-12-31 09:48:48,903 - Eval - INFO - Avg accuracy Top 1: 0.000000 Avg accuracy Top 5: 0.000000 on validation Dataset\n",
      "2024-12-31 09:48:48,905 - Eval - INFO - No value of iteration is provided, running evaluation on complete dataset.\n",
      "2024-12-31 09:48:48,905 - Eval - INFO - Evaluating nn.Module for 3 iterations with batch_size 1\n"
     ]
    },
    {
     "name": "stderr",
     "output_type": "stream",
     "text": [
      "\n",
      "  0%|          | 0/3 [00:00<?, ?it/s]"
     ]
    },
    {
     "name": "stdout",
     "output_type": "stream",
     "text": [
      "('/home/shayan/Desktop/aimet/Examples/torch/quantization/val/9/cf135f199d8c7a9d0dce9aa35acfb4c70c14e0aa.jpeg',)\n"
     ]
    },
    {
     "name": "stderr",
     "output_type": "stream",
     "text": [
      "  0%|          | 0/3 [00:00<?, ?it/s]\n"
     ]
    },
    {
     "name": "stdout",
     "output_type": "stream",
     "text": [
      "2024-12-31 09:48:49,086 - Eval - INFO - Avg accuracy Top 1: 0.000000 Avg accuracy Top 5: 0.000000 on validation Dataset\n",
      "2024-12-31 09:48:49,088 - Eval - INFO - No value of iteration is provided, running evaluation on complete dataset.\n",
      "2024-12-31 09:48:49,088 - Eval - INFO - Evaluating nn.Module for 3 iterations with batch_size 1\n"
     ]
    },
    {
     "name": "stderr",
     "output_type": "stream",
     "text": [
      "  0%|          | 0/3 [00:00<?, ?it/s]"
     ]
    },
    {
     "name": "stdout",
     "output_type": "stream",
     "text": [
      "('/home/shayan/Desktop/aimet/Examples/torch/quantization/val/9/cf135f199d8c7a9d0dce9aa35acfb4c70c14e0aa.jpeg',)\n"
     ]
    },
    {
     "name": "stderr",
     "output_type": "stream",
     "text": [
      "  0%|          | 0/3 [00:00<?, ?it/s]\n"
     ]
    },
    {
     "name": "stdout",
     "output_type": "stream",
     "text": [
      "2024-12-31 09:48:49,270 - Eval - INFO - Avg accuracy Top 1: 0.000000 Avg accuracy Top 5: 0.000000 on validation Dataset\n",
      "2024-12-31 09:48:49,271 - Eval - INFO - No value of iteration is provided, running evaluation on complete dataset.\n",
      "2024-12-31 09:48:49,272 - Eval - INFO - Evaluating nn.Module for 3 iterations with batch_size 1\n"
     ]
    },
    {
     "name": "stderr",
     "output_type": "stream",
     "text": [
      "  0%|          | 0/3 [00:00<?, ?it/s]"
     ]
    },
    {
     "name": "stdout",
     "output_type": "stream",
     "text": [
      "('/home/shayan/Desktop/aimet/Examples/torch/quantization/val/9/cf135f199d8c7a9d0dce9aa35acfb4c70c14e0aa.jpeg',)\n"
     ]
    },
    {
     "name": "stderr",
     "output_type": "stream",
     "text": [
      "  0%|          | 0/3 [00:00<?, ?it/s]"
     ]
    },
    {
     "name": "stdout",
     "output_type": "stream",
     "text": [
      "2024-12-31 09:48:49,443 - Eval - INFO - Avg accuracy Top 1: 0.000000 Avg accuracy Top 5: 0.000000 on validation Dataset\n",
      "2024-12-31 09:48:49,445 - Eval - INFO - No value of iteration is provided, running evaluation on complete dataset.\n",
      "2024-12-31 09:48:49,445 - Eval - INFO - Evaluating nn.Module for 3 iterations with batch_size 1\n"
     ]
    },
    {
     "name": "stderr",
     "output_type": "stream",
     "text": [
      "\n",
      "  0%|          | 0/3 [00:00<?, ?it/s]"
     ]
    },
    {
     "name": "stdout",
     "output_type": "stream",
     "text": [
      "('/home/shayan/Desktop/aimet/Examples/torch/quantization/val/9/cf135f199d8c7a9d0dce9aa35acfb4c70c14e0aa.jpeg',)\n"
     ]
    },
    {
     "name": "stderr",
     "output_type": "stream",
     "text": [
      "  0%|          | 0/3 [00:00<?, ?it/s]"
     ]
    },
    {
     "name": "stdout",
     "output_type": "stream",
     "text": [
      "2024-12-31 09:48:49,621 - Eval - INFO - Avg accuracy Top 1: 0.000000 Avg accuracy Top 5: 0.000000 on validation Dataset\n",
      "2024-12-31 09:48:49,623 - Eval - INFO - No value of iteration is provided, running evaluation on complete dataset.\n",
      "2024-12-31 09:48:49,623 - Eval - INFO - Evaluating nn.Module for 3 iterations with batch_size 1\n"
     ]
    },
    {
     "name": "stderr",
     "output_type": "stream",
     "text": [
      "\n",
      "  0%|          | 0/3 [00:00<?, ?it/s]"
     ]
    },
    {
     "name": "stdout",
     "output_type": "stream",
     "text": [
      "('/home/shayan/Desktop/aimet/Examples/torch/quantization/val/9/cf135f199d8c7a9d0dce9aa35acfb4c70c14e0aa.jpeg',)\n"
     ]
    },
    {
     "name": "stderr",
     "output_type": "stream",
     "text": [
      "  0%|          | 0/3 [00:00<?, ?it/s]"
     ]
    },
    {
     "name": "stdout",
     "output_type": "stream",
     "text": [
      "2024-12-31 09:48:49,778 - Eval - INFO - Avg accuracy Top 1: 0.000000 Avg accuracy Top 5: 0.000000 on validation Dataset\n",
      "2024-12-31 09:48:49,780 - Eval - INFO - No value of iteration is provided, running evaluation on complete dataset.\n",
      "2024-12-31 09:48:49,780 - Eval - INFO - Evaluating nn.Module for 3 iterations with batch_size 1\n"
     ]
    },
    {
     "name": "stderr",
     "output_type": "stream",
     "text": [
      "\n",
      "  0%|          | 0/3 [00:00<?, ?it/s]"
     ]
    },
    {
     "name": "stdout",
     "output_type": "stream",
     "text": [
      "('/home/shayan/Desktop/aimet/Examples/torch/quantization/val/9/cf135f199d8c7a9d0dce9aa35acfb4c70c14e0aa.jpeg',)\n"
     ]
    },
    {
     "name": "stderr",
     "output_type": "stream",
     "text": [
      "  0%|          | 0/3 [00:00<?, ?it/s]"
     ]
    },
    {
     "name": "stdout",
     "output_type": "stream",
     "text": [
      "2024-12-31 09:48:49,940 - Eval - INFO - Avg accuracy Top 1: 0.000000 Avg accuracy Top 5: 0.000000 on validation Dataset\n",
      "2024-12-31 09:48:49,941 - Eval - INFO - No value of iteration is provided, running evaluation on complete dataset.\n",
      "2024-12-31 09:48:49,942 - Eval - INFO - Evaluating nn.Module for 3 iterations with batch_size 1\n"
     ]
    },
    {
     "name": "stderr",
     "output_type": "stream",
     "text": [
      "\n",
      "  0%|          | 0/3 [00:00<?, ?it/s]"
     ]
    },
    {
     "name": "stdout",
     "output_type": "stream",
     "text": [
      "('/home/shayan/Desktop/aimet/Examples/torch/quantization/val/9/cf135f199d8c7a9d0dce9aa35acfb4c70c14e0aa.jpeg',)\n"
     ]
    },
    {
     "name": "stderr",
     "output_type": "stream",
     "text": [
      "  0%|          | 0/3 [00:00<?, ?it/s]"
     ]
    },
    {
     "name": "stdout",
     "output_type": "stream",
     "text": [
      "2024-12-31 09:48:50,110 - Eval - INFO - Avg accuracy Top 1: 0.000000 Avg accuracy Top 5: 0.000000 on validation Dataset\n",
      "2024-12-31 09:48:50,112 - Eval - INFO - No value of iteration is provided, running evaluation on complete dataset.\n",
      "2024-12-31 09:48:50,112 - Eval - INFO - Evaluating nn.Module for 3 iterations with batch_size 1\n"
     ]
    },
    {
     "name": "stderr",
     "output_type": "stream",
     "text": [
      "\n",
      "  0%|          | 0/3 [00:00<?, ?it/s]"
     ]
    },
    {
     "name": "stdout",
     "output_type": "stream",
     "text": [
      "('/home/shayan/Desktop/aimet/Examples/torch/quantization/val/9/cf135f199d8c7a9d0dce9aa35acfb4c70c14e0aa.jpeg',)\n"
     ]
    },
    {
     "name": "stderr",
     "output_type": "stream",
     "text": [
      "  0%|          | 0/3 [00:00<?, ?it/s]"
     ]
    },
    {
     "name": "stdout",
     "output_type": "stream",
     "text": [
      "2024-12-31 09:48:50,288 - Eval - INFO - Avg accuracy Top 1: 0.000000 Avg accuracy Top 5: 0.000000 on validation Dataset\n",
      "2024-12-31 09:48:50,289 - Eval - INFO - No value of iteration is provided, running evaluation on complete dataset.\n",
      "2024-12-31 09:48:50,290 - Eval - INFO - Evaluating nn.Module for 3 iterations with batch_size 1\n"
     ]
    },
    {
     "name": "stderr",
     "output_type": "stream",
     "text": [
      "\n",
      "  0%|          | 0/3 [00:00<?, ?it/s]"
     ]
    },
    {
     "name": "stdout",
     "output_type": "stream",
     "text": [
      "('/home/shayan/Desktop/aimet/Examples/torch/quantization/val/9/cf135f199d8c7a9d0dce9aa35acfb4c70c14e0aa.jpeg',)\n"
     ]
    },
    {
     "name": "stderr",
     "output_type": "stream",
     "text": [
      "  0%|          | 0/3 [00:00<?, ?it/s]\n"
     ]
    },
    {
     "name": "stdout",
     "output_type": "stream",
     "text": [
      "2024-12-31 09:48:50,484 - Eval - INFO - Avg accuracy Top 1: 0.000000 Avg accuracy Top 5: 0.000000 on validation Dataset\n",
      "2024-12-31 09:48:50,485 - Eval - INFO - No value of iteration is provided, running evaluation on complete dataset.\n",
      "2024-12-31 09:48:50,486 - Eval - INFO - Evaluating nn.Module for 3 iterations with batch_size 1\n"
     ]
    },
    {
     "name": "stderr",
     "output_type": "stream",
     "text": [
      "  0%|          | 0/3 [00:00<?, ?it/s]"
     ]
    },
    {
     "name": "stdout",
     "output_type": "stream",
     "text": [
      "('/home/shayan/Desktop/aimet/Examples/torch/quantization/val/9/cf135f199d8c7a9d0dce9aa35acfb4c70c14e0aa.jpeg',)\n"
     ]
    },
    {
     "name": "stderr",
     "output_type": "stream",
     "text": [
      "  0%|          | 0/3 [00:00<?, ?it/s]"
     ]
    },
    {
     "name": "stdout",
     "output_type": "stream",
     "text": [
      "2024-12-31 09:48:50,653 - Eval - INFO - Avg accuracy Top 1: 0.000000 Avg accuracy Top 5: 0.000000 on validation Dataset\n",
      "2024-12-31 09:48:50,654 - Eval - INFO - No value of iteration is provided, running evaluation on complete dataset.\n",
      "2024-12-31 09:48:50,655 - Eval - INFO - Evaluating nn.Module for 3 iterations with batch_size 1\n"
     ]
    },
    {
     "name": "stderr",
     "output_type": "stream",
     "text": [
      "\n",
      "  0%|          | 0/3 [00:00<?, ?it/s]"
     ]
    },
    {
     "name": "stdout",
     "output_type": "stream",
     "text": [
      "('/home/shayan/Desktop/aimet/Examples/torch/quantization/val/9/cf135f199d8c7a9d0dce9aa35acfb4c70c14e0aa.jpeg',)\n"
     ]
    },
    {
     "name": "stderr",
     "output_type": "stream",
     "text": [
      "  0%|          | 0/3 [00:00<?, ?it/s]"
     ]
    },
    {
     "name": "stdout",
     "output_type": "stream",
     "text": [
      "2024-12-31 09:48:50,825 - Eval - INFO - Avg accuracy Top 1: 0.000000 Avg accuracy Top 5: 0.000000 on validation Dataset\n",
      "2024-12-31 09:48:50,826 - Eval - INFO - No value of iteration is provided, running evaluation on complete dataset.\n",
      "2024-12-31 09:48:50,826 - Eval - INFO - Evaluating nn.Module for 3 iterations with batch_size 1\n"
     ]
    },
    {
     "name": "stderr",
     "output_type": "stream",
     "text": [
      "\n",
      "  0%|          | 0/3 [00:00<?, ?it/s]"
     ]
    },
    {
     "name": "stdout",
     "output_type": "stream",
     "text": [
      "('/home/shayan/Desktop/aimet/Examples/torch/quantization/val/9/cf135f199d8c7a9d0dce9aa35acfb4c70c14e0aa.jpeg',)\n"
     ]
    },
    {
     "name": "stderr",
     "output_type": "stream",
     "text": [
      "  0%|          | 0/3 [00:00<?, ?it/s]"
     ]
    },
    {
     "name": "stdout",
     "output_type": "stream",
     "text": [
      "2024-12-31 09:48:51,000 - Eval - INFO - Avg accuracy Top 1: 0.000000 Avg accuracy Top 5: 0.000000 on validation Dataset\n",
      "2024-12-31 09:48:51,002 - Eval - INFO - No value of iteration is provided, running evaluation on complete dataset.\n",
      "2024-12-31 09:48:51,002 - Eval - INFO - Evaluating nn.Module for 3 iterations with batch_size 1\n"
     ]
    },
    {
     "name": "stderr",
     "output_type": "stream",
     "text": [
      "\n",
      "  0%|          | 0/3 [00:00<?, ?it/s]"
     ]
    },
    {
     "name": "stdout",
     "output_type": "stream",
     "text": [
      "('/home/shayan/Desktop/aimet/Examples/torch/quantization/val/9/cf135f199d8c7a9d0dce9aa35acfb4c70c14e0aa.jpeg',)\n"
     ]
    },
    {
     "name": "stderr",
     "output_type": "stream",
     "text": [
      "  0%|          | 0/3 [00:00<?, ?it/s]"
     ]
    },
    {
     "name": "stdout",
     "output_type": "stream",
     "text": [
      "2024-12-31 09:48:51,181 - Eval - INFO - Avg accuracy Top 1: 0.000000 Avg accuracy Top 5: 0.000000 on validation Dataset\n",
      "2024-12-31 09:48:51,183 - Eval - INFO - No value of iteration is provided, running evaluation on complete dataset.\n",
      "2024-12-31 09:48:51,183 - Eval - INFO - Evaluating nn.Module for 3 iterations with batch_size 1\n"
     ]
    },
    {
     "name": "stderr",
     "output_type": "stream",
     "text": [
      "\n",
      "  0%|          | 0/3 [00:00<?, ?it/s]"
     ]
    },
    {
     "name": "stdout",
     "output_type": "stream",
     "text": [
      "('/home/shayan/Desktop/aimet/Examples/torch/quantization/val/9/cf135f199d8c7a9d0dce9aa35acfb4c70c14e0aa.jpeg',)\n"
     ]
    },
    {
     "name": "stderr",
     "output_type": "stream",
     "text": [
      "  0%|          | 0/3 [00:00<?, ?it/s]"
     ]
    },
    {
     "name": "stdout",
     "output_type": "stream",
     "text": [
      "2024-12-31 09:48:51,353 - Eval - INFO - Avg accuracy Top 1: 0.000000 Avg accuracy Top 5: 0.000000 on validation Dataset\n",
      "2024-12-31 09:48:51,355 - Eval - INFO - No value of iteration is provided, running evaluation on complete dataset.\n",
      "2024-12-31 09:48:51,355 - Eval - INFO - Evaluating nn.Module for 3 iterations with batch_size 1\n"
     ]
    },
    {
     "name": "stderr",
     "output_type": "stream",
     "text": [
      "\n",
      "  0%|          | 0/3 [00:00<?, ?it/s]"
     ]
    },
    {
     "name": "stdout",
     "output_type": "stream",
     "text": [
      "('/home/shayan/Desktop/aimet/Examples/torch/quantization/val/9/cf135f199d8c7a9d0dce9aa35acfb4c70c14e0aa.jpeg',)\n"
     ]
    },
    {
     "name": "stderr",
     "output_type": "stream",
     "text": [
      "  0%|          | 0/3 [00:00<?, ?it/s]"
     ]
    },
    {
     "name": "stdout",
     "output_type": "stream",
     "text": [
      "2024-12-31 09:48:51,522 - Eval - INFO - Avg accuracy Top 1: 0.000000 Avg accuracy Top 5: 0.000000 on validation Dataset\n"
     ]
    },
    {
     "name": "stderr",
     "output_type": "stream",
     "text": [
      "\n",
      "INFO:bokeh.io.state:Session output file '/home/shayan/Desktop/aimet/quant_analyzer/temp_enhanced/per_layer_quant_disabled.html' already exists, will be overwritten.\n"
     ]
    },
    {
     "name": "stdout",
     "output_type": "stream",
     "text": [
      "2024-12-31 09:48:51,543 - QuantAnalyzer - INFO - Exported per-layer quant analysis (disabled) plot.\n"
     ]
    },
    {
     "name": "stderr",
     "output_type": "stream",
     "text": [
      "INFO:bokeh.io.state:Session output file '/home/shayan/Desktop/aimet/quant_analyzer/temp_enhanced/min_max_ranges/weights.html' already exists, will be overwritten.\n",
      "INFO:bokeh.io.state:Session output file '/home/shayan/Desktop/aimet/quant_analyzer/temp_enhanced/min_max_ranges/activations.html' already exists, will be overwritten.\n"
     ]
    },
    {
     "name": "stdout",
     "output_type": "stream",
     "text": [
      "2024-12-31 09:48:51,588 - QuantAnalyzer - INFO - Exported per layer encodings min-max ranges plot(s).\n"
     ]
    },
    {
     "name": "stderr",
     "output_type": "stream",
     "text": [
      "INFO:bokeh.io.state:Session output file '/home/shayan/Desktop/aimet/quant_analyzer/temp_enhanced/activations_pdf/conv1_input_q0_0.html' already exists, will be overwritten.\n",
      "INFO:bokeh.io.state:Session output file '/home/shayan/Desktop/aimet/quant_analyzer/temp_enhanced/weights_pdf/conv1/conv1_weight_0.html' already exists, will be overwritten.\n",
      "INFO:bokeh.io.state:Session output file '/home/shayan/Desktop/aimet/quant_analyzer/temp_enhanced/activations_pdf/relu_output_q0_0.html' already exists, will be overwritten.\n",
      "INFO:bokeh.io.state:Session output file '/home/shayan/Desktop/aimet/quant_analyzer/temp_enhanced/activations_pdf/maxpool_output_q0_0.html' already exists, will be overwritten.\n",
      "INFO:bokeh.io.state:Session output file '/home/shayan/Desktop/aimet/quant_analyzer/temp_enhanced/weights_pdf/layer1.0.conv1/layer1.0.conv1_weight_0.html' already exists, will be overwritten.\n",
      "INFO:bokeh.io.state:Session output file '/home/shayan/Desktop/aimet/quant_analyzer/temp_enhanced/activations_pdf/layer1.0.relu_output_q0_0.html' already exists, will be overwritten.\n",
      "INFO:bokeh.io.state:Session output file '/home/shayan/Desktop/aimet/quant_analyzer/temp_enhanced/activations_pdf/layer1.0.conv2_output_q0_0.html' already exists, will be overwritten.\n",
      "INFO:bokeh.io.state:Session output file '/home/shayan/Desktop/aimet/quant_analyzer/temp_enhanced/weights_pdf/layer1.0.conv2/layer1.0.conv2_weight_0.html' already exists, will be overwritten.\n",
      "INFO:bokeh.io.state:Session output file '/home/shayan/Desktop/aimet/quant_analyzer/temp_enhanced/activations_pdf/layer1.0.module_relu_1_output_q0_0.html' already exists, will be overwritten.\n",
      "INFO:bokeh.io.state:Session output file '/home/shayan/Desktop/aimet/quant_analyzer/temp_enhanced/weights_pdf/layer1.1.conv1/layer1.1.conv1_weight_0.html' already exists, will be overwritten.\n",
      "INFO:bokeh.io.state:Session output file '/home/shayan/Desktop/aimet/quant_analyzer/temp_enhanced/activations_pdf/layer1.1.relu_output_q0_0.html' already exists, will be overwritten.\n",
      "INFO:bokeh.io.state:Session output file '/home/shayan/Desktop/aimet/quant_analyzer/temp_enhanced/activations_pdf/layer1.1.conv2_output_q0_0.html' already exists, will be overwritten.\n",
      "INFO:bokeh.io.state:Session output file '/home/shayan/Desktop/aimet/quant_analyzer/temp_enhanced/weights_pdf/layer1.1.conv2/layer1.1.conv2_weight_0.html' already exists, will be overwritten.\n",
      "INFO:bokeh.io.state:Session output file '/home/shayan/Desktop/aimet/quant_analyzer/temp_enhanced/activations_pdf/layer1.1.module_relu_1_output_q0_0.html' already exists, will be overwritten.\n",
      "INFO:bokeh.io.state:Session output file '/home/shayan/Desktop/aimet/quant_analyzer/temp_enhanced/weights_pdf/layer2.0.conv1/layer2.0.conv1_weight_0.html' already exists, will be overwritten.\n",
      "INFO:bokeh.io.state:Session output file '/home/shayan/Desktop/aimet/quant_analyzer/temp_enhanced/activations_pdf/layer2.0.relu_output_q0_0.html' already exists, will be overwritten.\n",
      "INFO:bokeh.io.state:Session output file '/home/shayan/Desktop/aimet/quant_analyzer/temp_enhanced/activations_pdf/layer2.0.conv2_output_q0_0.html' already exists, will be overwritten.\n",
      "INFO:bokeh.io.state:Session output file '/home/shayan/Desktop/aimet/quant_analyzer/temp_enhanced/weights_pdf/layer2.0.conv2/layer2.0.conv2_weight_0.html' already exists, will be overwritten.\n",
      "INFO:bokeh.io.state:Session output file '/home/shayan/Desktop/aimet/quant_analyzer/temp_enhanced/activations_pdf/layer2.0.downsample.0_output_q0_0.html' already exists, will be overwritten.\n",
      "INFO:bokeh.io.state:Session output file '/home/shayan/Desktop/aimet/quant_analyzer/temp_enhanced/weights_pdf/layer2.0.downsample.0/layer2.0.downsample.0_weight_0.html' already exists, will be overwritten.\n",
      "INFO:bokeh.io.state:Session output file '/home/shayan/Desktop/aimet/quant_analyzer/temp_enhanced/activations_pdf/layer2.0.module_relu_1_output_q0_0.html' already exists, will be overwritten.\n",
      "INFO:bokeh.io.state:Session output file '/home/shayan/Desktop/aimet/quant_analyzer/temp_enhanced/weights_pdf/layer2.1.conv1/layer2.1.conv1_weight_0.html' already exists, will be overwritten.\n",
      "INFO:bokeh.io.state:Session output file '/home/shayan/Desktop/aimet/quant_analyzer/temp_enhanced/activations_pdf/layer2.1.relu_output_q0_0.html' already exists, will be overwritten.\n",
      "INFO:bokeh.io.state:Session output file '/home/shayan/Desktop/aimet/quant_analyzer/temp_enhanced/activations_pdf/layer2.1.conv2_output_q0_0.html' already exists, will be overwritten.\n",
      "INFO:bokeh.io.state:Session output file '/home/shayan/Desktop/aimet/quant_analyzer/temp_enhanced/weights_pdf/layer2.1.conv2/layer2.1.conv2_weight_0.html' already exists, will be overwritten.\n",
      "INFO:bokeh.io.state:Session output file '/home/shayan/Desktop/aimet/quant_analyzer/temp_enhanced/activations_pdf/layer2.1.module_relu_1_output_q0_0.html' already exists, will be overwritten.\n",
      "INFO:bokeh.io.state:Session output file '/home/shayan/Desktop/aimet/quant_analyzer/temp_enhanced/weights_pdf/layer3.0.conv1/layer3.0.conv1_weight_0.html' already exists, will be overwritten.\n",
      "INFO:bokeh.io.state:Session output file '/home/shayan/Desktop/aimet/quant_analyzer/temp_enhanced/activations_pdf/layer3.0.relu_output_q0_0.html' already exists, will be overwritten.\n",
      "INFO:bokeh.io.state:Session output file '/home/shayan/Desktop/aimet/quant_analyzer/temp_enhanced/activations_pdf/layer3.0.conv2_output_q0_0.html' already exists, will be overwritten.\n",
      "INFO:bokeh.io.state:Session output file '/home/shayan/Desktop/aimet/quant_analyzer/temp_enhanced/weights_pdf/layer3.0.conv2/layer3.0.conv2_weight_0.html' already exists, will be overwritten.\n",
      "INFO:bokeh.io.state:Session output file '/home/shayan/Desktop/aimet/quant_analyzer/temp_enhanced/activations_pdf/layer3.0.downsample.0_output_q0_0.html' already exists, will be overwritten.\n",
      "INFO:bokeh.io.state:Session output file '/home/shayan/Desktop/aimet/quant_analyzer/temp_enhanced/weights_pdf/layer3.0.downsample.0/layer3.0.downsample.0_weight_0.html' already exists, will be overwritten.\n",
      "INFO:bokeh.io.state:Session output file '/home/shayan/Desktop/aimet/quant_analyzer/temp_enhanced/activations_pdf/layer3.0.module_relu_1_output_q0_0.html' already exists, will be overwritten.\n",
      "INFO:bokeh.io.state:Session output file '/home/shayan/Desktop/aimet/quant_analyzer/temp_enhanced/weights_pdf/layer3.1.conv1/layer3.1.conv1_weight_0.html' already exists, will be overwritten.\n",
      "INFO:bokeh.io.state:Session output file '/home/shayan/Desktop/aimet/quant_analyzer/temp_enhanced/activations_pdf/layer3.1.relu_output_q0_0.html' already exists, will be overwritten.\n",
      "INFO:bokeh.io.state:Session output file '/home/shayan/Desktop/aimet/quant_analyzer/temp_enhanced/activations_pdf/layer3.1.conv2_output_q0_0.html' already exists, will be overwritten.\n",
      "INFO:bokeh.io.state:Session output file '/home/shayan/Desktop/aimet/quant_analyzer/temp_enhanced/weights_pdf/layer3.1.conv2/layer3.1.conv2_weight_0.html' already exists, will be overwritten.\n",
      "INFO:bokeh.io.state:Session output file '/home/shayan/Desktop/aimet/quant_analyzer/temp_enhanced/activations_pdf/layer3.1.module_relu_1_output_q0_0.html' already exists, will be overwritten.\n",
      "INFO:bokeh.io.state:Session output file '/home/shayan/Desktop/aimet/quant_analyzer/temp_enhanced/weights_pdf/layer4.0.conv1/layer4.0.conv1_weight_0.html' already exists, will be overwritten.\n",
      "INFO:bokeh.io.state:Session output file '/home/shayan/Desktop/aimet/quant_analyzer/temp_enhanced/activations_pdf/layer4.0.relu_output_q0_0.html' already exists, will be overwritten.\n",
      "INFO:bokeh.io.state:Session output file '/home/shayan/Desktop/aimet/quant_analyzer/temp_enhanced/activations_pdf/layer4.0.conv2_output_q0_0.html' already exists, will be overwritten.\n",
      "INFO:bokeh.io.state:Session output file '/home/shayan/Desktop/aimet/quant_analyzer/temp_enhanced/weights_pdf/layer4.0.conv2/layer4.0.conv2_weight_0.html' already exists, will be overwritten.\n",
      "INFO:bokeh.io.state:Session output file '/home/shayan/Desktop/aimet/quant_analyzer/temp_enhanced/activations_pdf/layer4.0.downsample.0_output_q0_0.html' already exists, will be overwritten.\n",
      "INFO:bokeh.io.state:Session output file '/home/shayan/Desktop/aimet/quant_analyzer/temp_enhanced/weights_pdf/layer4.0.downsample.0/layer4.0.downsample.0_weight_0.html' already exists, will be overwritten.\n",
      "INFO:bokeh.io.state:Session output file '/home/shayan/Desktop/aimet/quant_analyzer/temp_enhanced/activations_pdf/layer4.0.module_relu_1_output_q0_0.html' already exists, will be overwritten.\n",
      "INFO:bokeh.io.state:Session output file '/home/shayan/Desktop/aimet/quant_analyzer/temp_enhanced/weights_pdf/layer4.1.conv1/layer4.1.conv1_weight_0.html' already exists, will be overwritten.\n",
      "INFO:bokeh.io.state:Session output file '/home/shayan/Desktop/aimet/quant_analyzer/temp_enhanced/activations_pdf/layer4.1.relu_output_q0_0.html' already exists, will be overwritten.\n",
      "INFO:bokeh.io.state:Session output file '/home/shayan/Desktop/aimet/quant_analyzer/temp_enhanced/activations_pdf/layer4.1.conv2_output_q0_0.html' already exists, will be overwritten.\n",
      "INFO:bokeh.io.state:Session output file '/home/shayan/Desktop/aimet/quant_analyzer/temp_enhanced/weights_pdf/layer4.1.conv2/layer4.1.conv2_weight_0.html' already exists, will be overwritten.\n",
      "INFO:bokeh.io.state:Session output file '/home/shayan/Desktop/aimet/quant_analyzer/temp_enhanced/activations_pdf/layer4.1.module_relu_1_output_q0_0.html' already exists, will be overwritten.\n",
      "INFO:bokeh.io.state:Session output file '/home/shayan/Desktop/aimet/quant_analyzer/temp_enhanced/activations_pdf/avgpool_output_q0_0.html' already exists, will be overwritten.\n",
      "INFO:bokeh.io.state:Session output file '/home/shayan/Desktop/aimet/quant_analyzer/temp_enhanced/activations_pdf/fc_output_q0_0.html' already exists, will be overwritten.\n",
      "INFO:bokeh.io.state:Session output file '/home/shayan/Desktop/aimet/quant_analyzer/temp_enhanced/weights_pdf/fc/fc_weight_0.html' already exists, will be overwritten.\n"
     ]
    },
    {
     "name": "stdout",
     "output_type": "stream",
     "text": [
      "2024-12-31 09:48:53,563 - QuantAnalyzer - INFO - Exported per layer stats histogram plot(s).\n"
     ]
    },
    {
     "name": "stderr",
     "output_type": "stream",
     "text": [
      "INFO:bokeh.io.state:Session output file '/home/shayan/Desktop/aimet/quant_analyzer/temp_enhanced/per_layer_mse_loss.html' already exists, will be overwritten.\n"
     ]
    },
    {
     "name": "stdout",
     "output_type": "stream",
     "text": [
      "2024-12-31 09:49:00,900 - QuantAnalyzer - INFO - Exported per layer MSE loss plot.\n"
     ]
    }
   ],
   "source": [
    "from aimet_common.defs import QuantScheme\n",
    "\n",
    "quant_analyzer.analyze(quant_scheme=QuantScheme.post_training_tf_enhanced,\n",
    "                       default_param_bw=8,\n",
    "                       default_output_bw=8,\n",
    "                       config_file=\"/home/shayan/Desktop/aimet/my_config.json\",\n",
    "                       results_dir=\"/home/shayan/Desktop/aimet/quant_analyzer/temp_enhanced\")"
   ]
  },
  {
   "cell_type": "markdown",
   "metadata": {
    "collapsed": false
   },
   "source": [
    "AIMET will also output .html plots and json files where appropriate for each analysis to help visualize the data.\n",
    "\n",
    "The following output files will be produced, in a folder specified by the user:\n",
    "Output directory structure will be like below\n",
    "\n",
    "```\n",
    "results_dir\n",
    "|-- per_layer_quant_enabled.html\n",
    "|-- per_layer_quant_enabled.json\n",
    "|-- per_layer_quant_disabled.html\n",
    "|-- per_layer_quant_disabled.json\n",
    "|-- min_max_ranges\n",
    "|   |-- activations.html\n",
    "|   |-- activations.json\n",
    "|   |-- weights.html\n",
    "|   +-- weights.json\n",
    "|-- activations_pdf\n",
    "|   |-- name_{input/output}_{index_0}.html\n",
    "|   |-- name_{input/output}_{index_1}.html\n",
    "|   |-- ...\n",
    "|   +-- name_{input/output}_{index_N}.html\n",
    "|-- weights_pdf\n",
    "|   |-- layer1\n",
    "|   |   |-- param_name_{channel_index_0}.html\n",
    "|   |   |-- param_name_{channel_index_1}.html\n",
    "|   |   |-- ...\n",
    "|   |   +-- param_name_{channel_index_N}.html\n",
    "|   |-- layer2\n",
    "|   |   |-- param_name_{channel_index_0}.html\n",
    "|   |   |-- param_name_{channel_index_1}.html\n",
    "|   |   |-- ...\n",
    "|   |   +-- param_name_{channel_index_N}.html\n",
    "|   |-- ...\n",
    "|   |-- layerN\n",
    "|   |   |-- param_name_{channel_index_0}.html\n",
    "|   |   |-- param_name_{channel_index_1}.html\n",
    "|   |   |-- ...\n",
    "|   +-- +-- param_name_{channel_index_N}.html\n",
    "|-- per_layer_mse_loss.html\n",
    "+-- per_layer_mse_loss.json\n",
    "```\n",
    "\n",
    "#### Per-layer analysis by enabling/disabling quantization wrappers\n",
    "\n",
    "- per_layer_quant_enabled.html: A plot with layers on the x-axis and model accuracy on the y-axis, where each layer's accuracy represents the model accuracy when all quantizers in the model are disabled except for that layer's parameter and activation quantizers.\n",
    "- per_layer_quant_enabled.json: A json file containing the data shown in per_layer_quant_enabled.html, associating layer names with model accuracy.\n",
    "- per_layer_quant_disabled.html: A plot with layers on the x-axis and model accuracy on the y-axis, where each layer's accuracy represents the model accuracy when all quantizers in the model are enabled except for that layer's parameter and activation quantizers.\n",
    "- per_layer_quant_disabled.json: A json file containing the data shown in per_layer_quant_disabled.html, associating layer names with model accuracy.\n",
    "\n",
    "![per_layer_quant_enabled.html](./images/quant_analyzer_per_layer_quant_enabled.PNG)\n",
    "\n",
    "#### Encoding min/max ranges\n",
    "\n",
    "- min_max_ranges: A folder containing the following sets of files:\n",
    "    - activations.html: A plot with output activations on the x-axis and min-max values on the y-axis, where each output activation's range represents the encoding min and max parameters computed during forward pass calibration (explained below).\n",
    "    - activations.json: A json file containing the data shown in activations.html, associating layer names with min and max encoding values.\n",
    "    - weights.html: A plot with parameter names on the x-axis and min-max values on the y-axis, where each parameter's range represents the encoding min and max parameters computed during forward pass calibration.\n",
    "    - weights.json: A json file containing the data shown in weights.html, associating parameter names with min and max encoding values.\n",
    "\n",
    "![min_max_ranges.html](./images/quant_analyzer_min_max_ranges.PNG)\n",
    "\n",
    "#### PDF of statistics\n",
    "\n",
    "- (If TF Enhanced quant scheme is used) activations_pdf: A folder containing html files for each layer, plotting the histogram of tensor values seen for that layer's output activation seen during forward pass calibration.\n",
    "- (If TF Enhanced quant scheme is used) weights_pdf: A folder containing sub folders for each layer with weights.\n",
    "  Each layer's folder contains html files for each parameter of that layer, with a histogram plot of tensor values seen for that parameter seen during forward pass calibration.\n",
    "\n",
    "![weights_pdf.html](./images/quant_analyzer_weights_pdf.PNG)\n",
    "\n",
    "#### Per-layer MSE loss\n",
    "- (Optional, if per layer MSE loss is enabled) per_layer_mse_loss.html: A plot with layers on the x-axis and MSE loss on the y-axis, where each layer's MSE loss represents the MSE seen comparing that layer's outputs in the FP32 model vs. the quantized model.\n",
    "- (Optional, if per layer MSE loss is enabled) per_layer_mse_loss.json: A json file containing the data shown in per_layer_mse_loss.html, associating layer names with MSE loss.\n",
    "\n",
    "![per_layer_mse_loss.html](./images/quant_analyzer_per_layer_mse_loss.PNG)"
   ]
  }
 ],
 "metadata": {
  "kernelspec": {
   "display_name": "Python 3",
   "language": "python",
   "name": "python3"
  },
  "language_info": {
   "codemirror_mode": {
    "name": "ipython",
    "version": 3
   },
   "file_extension": ".py",
   "mimetype": "text/x-python",
   "name": "python",
   "nbconvert_exporter": "python",
   "pygments_lexer": "ipython3",
   "version": "3.10.12"
  }
 },
 "nbformat": 4,
 "nbformat_minor": 0
}
